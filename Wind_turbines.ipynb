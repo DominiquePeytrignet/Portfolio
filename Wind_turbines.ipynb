{
  "cells": [
    {
      "cell_type": "markdown",
      "metadata": {
        "id": "view-in-github",
        "colab_type": "text"
      },
      "source": [
        "<a href=\"https://colab.research.google.com/github/DominiquePeytrignet/Portfolio/blob/main/Wind_turbines.ipynb\" target=\"_parent\"><img src=\"https://colab.research.google.com/assets/colab-badge.svg\" alt=\"Open In Colab\"/></a>"
      ]
    },
    {
      "cell_type": "code",
      "execution_count": null,
      "metadata": {
        "id": "NKd11anAVrEp"
      },
      "outputs": [],
      "source": [
        "# data wrangling\n",
        "import pandas as pd\n",
        "import numpy as np\n",
        "import time\n",
        "from tqdm import tqdm\n",
        "\n",
        "# data visualisation\n",
        "import matplotlib.pyplot as plt\n",
        "import seaborn as sns\n",
        "from sklearn.metrics import plot_confusion_matrix, plot_roc_curve\n",
        "from sklearn.tree import plot_tree\n",
        "\n",
        "sns.set(color_codes=True)\n",
        "sns.set_palette(sns.color_palette(\"muted\"))\n",
        "\n",
        "# machine learning\n",
        "from sklearn.model_selection import train_test_split\n",
        "from sklearn.metrics import confusion_matrix, accuracy_score, roc_auc_score\n",
        "from sklearn.ensemble import RandomForestClassifier\n",
        "import scipy\n",
        "from scipy.cluster import hierarchy as hc\n",
        "from scipy import optimize\n",
        "\n",
        "from pandas.api.types import is_string_dtype, is_numeric_dtype, is_categorical_dtype\n"
      ]
    },
    {
      "cell_type": "markdown",
      "metadata": {
        "id": "mhAI3mgwNWAl"
      },
      "source": [
        "# Goal Definition\n",
        "  Our Goal: Our goal is to predict the Power Production of a windturbine\n",
        "\n",
        "  Questions: Which are the most important features?"
      ]
    },
    {
      "cell_type": "markdown",
      "metadata": {
        "id": "9amMwtYYNihk"
      },
      "source": [
        "# Data Exploration"
      ]
    },
    {
      "cell_type": "markdown",
      "metadata": {
        "id": "O8ghWVdfPgdr"
      },
      "source": [
        "**Loading the Data**"
      ]
    },
    {
      "cell_type": "markdown",
      "metadata": {
        "id": "G-es8qZaDe87"
      },
      "source": []
    },
    {
      "cell_type": "code",
      "execution_count": null,
      "metadata": {
        "colab": {
          "base_uri": "https://localhost:8080/",
          "height": 630
        },
        "id": "XYgSWC1CZuGM",
        "outputId": "b73ed0cf-b0d7-4e7a-89e1-de5324c0994a"
      },
      "outputs": [
        {
          "data": {
            "text/html": [
              "\n",
              "  <div id=\"df-cf511f80-21ca-4751-af05-3e4c8ecf552d\">\n",
              "    <div class=\"colab-df-container\">\n",
              "      <div>\n",
              "<style scoped>\n",
              "    .dataframe tbody tr th:only-of-type {\n",
              "        vertical-align: middle;\n",
              "    }\n",
              "\n",
              "    .dataframe tbody tr th {\n",
              "        vertical-align: top;\n",
              "    }\n",
              "\n",
              "    .dataframe thead th {\n",
              "        text-align: right;\n",
              "    }\n",
              "</style>\n",
              "<table border=\"1\" class=\"dataframe\">\n",
              "  <thead>\n",
              "    <tr style=\"text-align: right;\">\n",
              "      <th></th>\n",
              "      <th>Turbine_ID</th>\n",
              "      <th>Timestamp</th>\n",
              "      <th>Gen_RPM_Max</th>\n",
              "      <th>Gen_RPM_Min</th>\n",
              "      <th>Gen_RPM_Avg</th>\n",
              "      <th>Gen_RPM_Std</th>\n",
              "      <th>Gen_Bear_Temp_Avg</th>\n",
              "      <th>Gen_Phase1_Temp_Avg</th>\n",
              "      <th>Gen_Phase2_Temp_Avg</th>\n",
              "      <th>Gen_Phase3_Temp_Avg</th>\n",
              "      <th>...</th>\n",
              "      <th>Grd_Prod_PsbleInd_Avg</th>\n",
              "      <th>Grd_Prod_PsbleInd_Max</th>\n",
              "      <th>Grd_Prod_PsbleInd_Min</th>\n",
              "      <th>Grd_Prod_PsbleInd_Std</th>\n",
              "      <th>Grd_Prod_PsbleCap_Avg</th>\n",
              "      <th>Grd_Prod_PsbleCap_Max</th>\n",
              "      <th>Grd_Prod_PsbleCap_Min</th>\n",
              "      <th>Grd_Prod_PsbleCap_Std</th>\n",
              "      <th>Gen_Bear2_Temp_Avg</th>\n",
              "      <th>Nac_Direction_Avg</th>\n",
              "    </tr>\n",
              "  </thead>\n",
              "  <tbody>\n",
              "    <tr>\n",
              "      <th>0</th>\n",
              "      <td>T01</td>\n",
              "      <td>2016-01-08 23:10:00+00:00</td>\n",
              "      <td>1657.5</td>\n",
              "      <td>1299.2</td>\n",
              "      <td>1495.0</td>\n",
              "      <td>83.8</td>\n",
              "      <td>47</td>\n",
              "      <td>62</td>\n",
              "      <td>62</td>\n",
              "      <td>61</td>\n",
              "      <td>...</td>\n",
              "      <td>-1000.0</td>\n",
              "      <td>-1000.0</td>\n",
              "      <td>-1000.0</td>\n",
              "      <td>0.0</td>\n",
              "      <td>1000.0</td>\n",
              "      <td>1000.0</td>\n",
              "      <td>1000.0</td>\n",
              "      <td>0.0</td>\n",
              "      <td>49</td>\n",
              "      <td>220.6</td>\n",
              "    </tr>\n",
              "    <tr>\n",
              "      <th>1</th>\n",
              "      <td>T01</td>\n",
              "      <td>2016-01-09 00:10:00+00:00</td>\n",
              "      <td>1673.2</td>\n",
              "      <td>1244.4</td>\n",
              "      <td>1530.5</td>\n",
              "      <td>103.1</td>\n",
              "      <td>58</td>\n",
              "      <td>69</td>\n",
              "      <td>68</td>\n",
              "      <td>67</td>\n",
              "      <td>...</td>\n",
              "      <td>-999.9</td>\n",
              "      <td>-904.2</td>\n",
              "      <td>-1000.0</td>\n",
              "      <td>2.3</td>\n",
              "      <td>998.8</td>\n",
              "      <td>1000.0</td>\n",
              "      <td>796.5</td>\n",
              "      <td>12.8</td>\n",
              "      <td>53</td>\n",
              "      <td>228.0</td>\n",
              "    </tr>\n",
              "    <tr>\n",
              "      <th>2</th>\n",
              "      <td>T01</td>\n",
              "      <td>2016-04-19 14:10:00+00:00</td>\n",
              "      <td>1688.8</td>\n",
              "      <td>1356.4</td>\n",
              "      <td>1550.5</td>\n",
              "      <td>83.5</td>\n",
              "      <td>53</td>\n",
              "      <td>84</td>\n",
              "      <td>83</td>\n",
              "      <td>82</td>\n",
              "      <td>...</td>\n",
              "      <td>-998.3</td>\n",
              "      <td>-679.1</td>\n",
              "      <td>-1000.0</td>\n",
              "      <td>19.4</td>\n",
              "      <td>989.7</td>\n",
              "      <td>1000.0</td>\n",
              "      <td>456.4</td>\n",
              "      <td>58.8</td>\n",
              "      <td>59</td>\n",
              "      <td>137.9</td>\n",
              "    </tr>\n",
              "    <tr>\n",
              "      <th>3</th>\n",
              "      <td>T01</td>\n",
              "      <td>2016-04-19 15:20:00+00:00</td>\n",
              "      <td>1454.5</td>\n",
              "      <td>1227.7</td>\n",
              "      <td>1269.1</td>\n",
              "      <td>37.1</td>\n",
              "      <td>54</td>\n",
              "      <td>56</td>\n",
              "      <td>57</td>\n",
              "      <td>57</td>\n",
              "      <td>...</td>\n",
              "      <td>-591.5</td>\n",
              "      <td>-28.6</td>\n",
              "      <td>-1000.0</td>\n",
              "      <td>298.3</td>\n",
              "      <td>591.5</td>\n",
              "      <td>1000.0</td>\n",
              "      <td>28.6</td>\n",
              "      <td>298.3</td>\n",
              "      <td>43</td>\n",
              "      <td>138.9</td>\n",
              "    </tr>\n",
              "    <tr>\n",
              "      <th>4</th>\n",
              "      <td>T01</td>\n",
              "      <td>2016-04-19 16:20:00+00:00</td>\n",
              "      <td>1373.8</td>\n",
              "      <td>949.2</td>\n",
              "      <td>1248.8</td>\n",
              "      <td>49.8</td>\n",
              "      <td>52</td>\n",
              "      <td>53</td>\n",
              "      <td>54</td>\n",
              "      <td>54</td>\n",
              "      <td>...</td>\n",
              "      <td>-365.0</td>\n",
              "      <td>0.0</td>\n",
              "      <td>-1000.0</td>\n",
              "      <td>327.9</td>\n",
              "      <td>365.0</td>\n",
              "      <td>1000.0</td>\n",
              "      <td>0.0</td>\n",
              "      <td>327.9</td>\n",
              "      <td>37</td>\n",
              "      <td>182.0</td>\n",
              "    </tr>\n",
              "    <tr>\n",
              "      <th>5</th>\n",
              "      <td>T01</td>\n",
              "      <td>2016-01-09 02:00:00+00:00</td>\n",
              "      <td>1701.2</td>\n",
              "      <td>1443.1</td>\n",
              "      <td>1619.4</td>\n",
              "      <td>56.6</td>\n",
              "      <td>64</td>\n",
              "      <td>85</td>\n",
              "      <td>82</td>\n",
              "      <td>81</td>\n",
              "      <td>...</td>\n",
              "      <td>-993.9</td>\n",
              "      <td>-635.9</td>\n",
              "      <td>-1000.0</td>\n",
              "      <td>37.9</td>\n",
              "      <td>964.2</td>\n",
              "      <td>1000.0</td>\n",
              "      <td>433.7</td>\n",
              "      <td>100.2</td>\n",
              "      <td>58</td>\n",
              "      <td>231.5</td>\n",
              "    </tr>\n",
              "    <tr>\n",
              "      <th>6</th>\n",
              "      <td>T01</td>\n",
              "      <td>2016-01-09 03:30:00+00:00</td>\n",
              "      <td>1759.4</td>\n",
              "      <td>1270.3</td>\n",
              "      <td>1624.9</td>\n",
              "      <td>66.8</td>\n",
              "      <td>66</td>\n",
              "      <td>95</td>\n",
              "      <td>91</td>\n",
              "      <td>90</td>\n",
              "      <td>...</td>\n",
              "      <td>-924.9</td>\n",
              "      <td>-583.3</td>\n",
              "      <td>-1000.0</td>\n",
              "      <td>154.0</td>\n",
              "      <td>862.5</td>\n",
              "      <td>1000.0</td>\n",
              "      <td>406.1</td>\n",
              "      <td>230.8</td>\n",
              "      <td>60</td>\n",
              "      <td>249.0</td>\n",
              "    </tr>\n",
              "    <tr>\n",
              "      <th>7</th>\n",
              "      <td>T01</td>\n",
              "      <td>2016-01-09 04:00:00+00:00</td>\n",
              "      <td>1718.4</td>\n",
              "      <td>1462.4</td>\n",
              "      <td>1631.1</td>\n",
              "      <td>43.9</td>\n",
              "      <td>67</td>\n",
              "      <td>98</td>\n",
              "      <td>94</td>\n",
              "      <td>92</td>\n",
              "      <td>...</td>\n",
              "      <td>-967.9</td>\n",
              "      <td>-583.3</td>\n",
              "      <td>-1000.0</td>\n",
              "      <td>101.6</td>\n",
              "      <td>868.6</td>\n",
              "      <td>1000.0</td>\n",
              "      <td>406.1</td>\n",
              "      <td>174.6</td>\n",
              "      <td>61</td>\n",
              "      <td>249.0</td>\n",
              "    </tr>\n",
              "    <tr>\n",
              "      <th>8</th>\n",
              "      <td>T01</td>\n",
              "      <td>2016-01-09 04:40:00+00:00</td>\n",
              "      <td>1774.5</td>\n",
              "      <td>1325.9</td>\n",
              "      <td>1611.2</td>\n",
              "      <td>82.7</td>\n",
              "      <td>65</td>\n",
              "      <td>91</td>\n",
              "      <td>89</td>\n",
              "      <td>87</td>\n",
              "      <td>...</td>\n",
              "      <td>-919.3</td>\n",
              "      <td>-583.3</td>\n",
              "      <td>-1000.0</td>\n",
              "      <td>147.9</td>\n",
              "      <td>803.4</td>\n",
              "      <td>1000.0</td>\n",
              "      <td>406.1</td>\n",
              "      <td>231.3</td>\n",
              "      <td>60</td>\n",
              "      <td>242.0</td>\n",
              "    </tr>\n",
              "    <tr>\n",
              "      <th>9</th>\n",
              "      <td>T01</td>\n",
              "      <td>2016-04-19 20:10:00+00:00</td>\n",
              "      <td>1258.4</td>\n",
              "      <td>1239.0</td>\n",
              "      <td>1248.9</td>\n",
              "      <td>3.4</td>\n",
              "      <td>49</td>\n",
              "      <td>50</td>\n",
              "      <td>51</td>\n",
              "      <td>50</td>\n",
              "      <td>...</td>\n",
              "      <td>-258.0</td>\n",
              "      <td>-8.5</td>\n",
              "      <td>-436.3</td>\n",
              "      <td>95.2</td>\n",
              "      <td>258.0</td>\n",
              "      <td>436.3</td>\n",
              "      <td>8.5</td>\n",
              "      <td>95.2</td>\n",
              "      <td>34</td>\n",
              "      <td>180.3</td>\n",
              "    </tr>\n",
              "  </tbody>\n",
              "</table>\n",
              "<p>10 rows × 83 columns</p>\n",
              "</div>\n",
              "      <button class=\"colab-df-convert\" onclick=\"convertToInteractive('df-cf511f80-21ca-4751-af05-3e4c8ecf552d')\"\n",
              "              title=\"Convert this dataframe to an interactive table.\"\n",
              "              style=\"display:none;\">\n",
              "        \n",
              "  <svg xmlns=\"http://www.w3.org/2000/svg\" height=\"24px\"viewBox=\"0 0 24 24\"\n",
              "       width=\"24px\">\n",
              "    <path d=\"M0 0h24v24H0V0z\" fill=\"none\"/>\n",
              "    <path d=\"M18.56 5.44l.94 2.06.94-2.06 2.06-.94-2.06-.94-.94-2.06-.94 2.06-2.06.94zm-11 1L8.5 8.5l.94-2.06 2.06-.94-2.06-.94L8.5 2.5l-.94 2.06-2.06.94zm10 10l.94 2.06.94-2.06 2.06-.94-2.06-.94-.94-2.06-.94 2.06-2.06.94z\"/><path d=\"M17.41 7.96l-1.37-1.37c-.4-.4-.92-.59-1.43-.59-.52 0-1.04.2-1.43.59L10.3 9.45l-7.72 7.72c-.78.78-.78 2.05 0 2.83L4 21.41c.39.39.9.59 1.41.59.51 0 1.02-.2 1.41-.59l7.78-7.78 2.81-2.81c.8-.78.8-2.07 0-2.86zM5.41 20L4 18.59l7.72-7.72 1.47 1.35L5.41 20z\"/>\n",
              "  </svg>\n",
              "      </button>\n",
              "      \n",
              "  <style>\n",
              "    .colab-df-container {\n",
              "      display:flex;\n",
              "      flex-wrap:wrap;\n",
              "      gap: 12px;\n",
              "    }\n",
              "\n",
              "    .colab-df-convert {\n",
              "      background-color: #E8F0FE;\n",
              "      border: none;\n",
              "      border-radius: 50%;\n",
              "      cursor: pointer;\n",
              "      display: none;\n",
              "      fill: #1967D2;\n",
              "      height: 32px;\n",
              "      padding: 0 0 0 0;\n",
              "      width: 32px;\n",
              "    }\n",
              "\n",
              "    .colab-df-convert:hover {\n",
              "      background-color: #E2EBFA;\n",
              "      box-shadow: 0px 1px 2px rgba(60, 64, 67, 0.3), 0px 1px 3px 1px rgba(60, 64, 67, 0.15);\n",
              "      fill: #174EA6;\n",
              "    }\n",
              "\n",
              "    [theme=dark] .colab-df-convert {\n",
              "      background-color: #3B4455;\n",
              "      fill: #D2E3FC;\n",
              "    }\n",
              "\n",
              "    [theme=dark] .colab-df-convert:hover {\n",
              "      background-color: #434B5C;\n",
              "      box-shadow: 0px 1px 3px 1px rgba(0, 0, 0, 0.15);\n",
              "      filter: drop-shadow(0px 1px 2px rgba(0, 0, 0, 0.3));\n",
              "      fill: #FFFFFF;\n",
              "    }\n",
              "  </style>\n",
              "\n",
              "      <script>\n",
              "        const buttonEl =\n",
              "          document.querySelector('#df-cf511f80-21ca-4751-af05-3e4c8ecf552d button.colab-df-convert');\n",
              "        buttonEl.style.display =\n",
              "          google.colab.kernel.accessAllowed ? 'block' : 'none';\n",
              "\n",
              "        async function convertToInteractive(key) {\n",
              "          const element = document.querySelector('#df-cf511f80-21ca-4751-af05-3e4c8ecf552d');\n",
              "          const dataTable =\n",
              "            await google.colab.kernel.invokeFunction('convertToInteractive',\n",
              "                                                     [key], {});\n",
              "          if (!dataTable) return;\n",
              "\n",
              "          const docLinkHtml = 'Like what you see? Visit the ' +\n",
              "            '<a target=\"_blank\" href=https://colab.research.google.com/notebooks/data_table.ipynb>data table notebook</a>'\n",
              "            + ' to learn more about interactive tables.';\n",
              "          element.innerHTML = '';\n",
              "          dataTable['output_type'] = 'display_data';\n",
              "          await google.colab.output.renderOutput(dataTable, element);\n",
              "          const docLink = document.createElement('div');\n",
              "          docLink.innerHTML = docLinkHtml;\n",
              "          element.appendChild(docLink);\n",
              "        }\n",
              "      </script>\n",
              "    </div>\n",
              "  </div>\n",
              "  "
            ],
            "text/plain": [
              "  Turbine_ID                  Timestamp  Gen_RPM_Max  Gen_RPM_Min  \\\n",
              "0        T01  2016-01-08 23:10:00+00:00       1657.5       1299.2   \n",
              "1        T01  2016-01-09 00:10:00+00:00       1673.2       1244.4   \n",
              "2        T01  2016-04-19 14:10:00+00:00       1688.8       1356.4   \n",
              "3        T01  2016-04-19 15:20:00+00:00       1454.5       1227.7   \n",
              "4        T01  2016-04-19 16:20:00+00:00       1373.8        949.2   \n",
              "5        T01  2016-01-09 02:00:00+00:00       1701.2       1443.1   \n",
              "6        T01  2016-01-09 03:30:00+00:00       1759.4       1270.3   \n",
              "7        T01  2016-01-09 04:00:00+00:00       1718.4       1462.4   \n",
              "8        T01  2016-01-09 04:40:00+00:00       1774.5       1325.9   \n",
              "9        T01  2016-04-19 20:10:00+00:00       1258.4       1239.0   \n",
              "\n",
              "   Gen_RPM_Avg  Gen_RPM_Std  Gen_Bear_Temp_Avg  Gen_Phase1_Temp_Avg  \\\n",
              "0       1495.0         83.8                 47                   62   \n",
              "1       1530.5        103.1                 58                   69   \n",
              "2       1550.5         83.5                 53                   84   \n",
              "3       1269.1         37.1                 54                   56   \n",
              "4       1248.8         49.8                 52                   53   \n",
              "5       1619.4         56.6                 64                   85   \n",
              "6       1624.9         66.8                 66                   95   \n",
              "7       1631.1         43.9                 67                   98   \n",
              "8       1611.2         82.7                 65                   91   \n",
              "9       1248.9          3.4                 49                   50   \n",
              "\n",
              "   Gen_Phase2_Temp_Avg  Gen_Phase3_Temp_Avg  ...  Grd_Prod_PsbleInd_Avg  \\\n",
              "0                   62                   61  ...                -1000.0   \n",
              "1                   68                   67  ...                 -999.9   \n",
              "2                   83                   82  ...                 -998.3   \n",
              "3                   57                   57  ...                 -591.5   \n",
              "4                   54                   54  ...                 -365.0   \n",
              "5                   82                   81  ...                 -993.9   \n",
              "6                   91                   90  ...                 -924.9   \n",
              "7                   94                   92  ...                 -967.9   \n",
              "8                   89                   87  ...                 -919.3   \n",
              "9                   51                   50  ...                 -258.0   \n",
              "\n",
              "   Grd_Prod_PsbleInd_Max  Grd_Prod_PsbleInd_Min  Grd_Prod_PsbleInd_Std  \\\n",
              "0                -1000.0                -1000.0                    0.0   \n",
              "1                 -904.2                -1000.0                    2.3   \n",
              "2                 -679.1                -1000.0                   19.4   \n",
              "3                  -28.6                -1000.0                  298.3   \n",
              "4                    0.0                -1000.0                  327.9   \n",
              "5                 -635.9                -1000.0                   37.9   \n",
              "6                 -583.3                -1000.0                  154.0   \n",
              "7                 -583.3                -1000.0                  101.6   \n",
              "8                 -583.3                -1000.0                  147.9   \n",
              "9                   -8.5                 -436.3                   95.2   \n",
              "\n",
              "   Grd_Prod_PsbleCap_Avg  Grd_Prod_PsbleCap_Max  Grd_Prod_PsbleCap_Min  \\\n",
              "0                 1000.0                 1000.0                 1000.0   \n",
              "1                  998.8                 1000.0                  796.5   \n",
              "2                  989.7                 1000.0                  456.4   \n",
              "3                  591.5                 1000.0                   28.6   \n",
              "4                  365.0                 1000.0                    0.0   \n",
              "5                  964.2                 1000.0                  433.7   \n",
              "6                  862.5                 1000.0                  406.1   \n",
              "7                  868.6                 1000.0                  406.1   \n",
              "8                  803.4                 1000.0                  406.1   \n",
              "9                  258.0                  436.3                    8.5   \n",
              "\n",
              "   Grd_Prod_PsbleCap_Std  Gen_Bear2_Temp_Avg  Nac_Direction_Avg  \n",
              "0                    0.0                  49              220.6  \n",
              "1                   12.8                  53              228.0  \n",
              "2                   58.8                  59              137.9  \n",
              "3                  298.3                  43              138.9  \n",
              "4                  327.9                  37              182.0  \n",
              "5                  100.2                  58              231.5  \n",
              "6                  230.8                  60              249.0  \n",
              "7                  174.6                  61              249.0  \n",
              "8                  231.3                  60              242.0  \n",
              "9                   95.2                  34              180.3  \n",
              "\n",
              "[10 rows x 83 columns]"
            ]
          },
          "execution_count": 3,
          "metadata": {},
          "output_type": "execute_result"
        }
      ],
      "source": [
        "#importing our dataset from .csv file\n",
        "df = pd.read_csv(\"windturbines.csv\") \n",
        "df.head(10)\n",
        "# \"df\" will be the codeName of our dataFrame"
      ]
    },
    {
      "cell_type": "markdown",
      "metadata": {
        "id": "7mhxKhWAYS7I"
      },
      "source": [
        "**Removing max and minimum values of the dataset and just use average and standard-diviation values.**\n",
        "\n",
        "When it comes to data cleaning we made the hypothesis that the extrem values are not important as far as we have the standard-deviation. However, the standard-deviation it's very important in our project due to the stauration of the power production when the wind speed exceed the value which the turbin is producing its maximum energy. When the wind speed exceed this value the windmill must use brakes and other mechanisims in order to avoid damages in the structure and engine, so it consumes part of the enrgy.\n",
        "\n"
      ]
    },
    {
      "cell_type": "markdown",
      "metadata": {
        "id": "StKgjF9kPuDO"
      },
      "source": [
        "To see all the columns we use the transpose method"
      ]
    },
    {
      "cell_type": "code",
      "execution_count": null,
      "metadata": {
        "colab": {
          "base_uri": "https://localhost:8080/"
        },
        "id": "ddkRqkSRY2RC",
        "outputId": "ce25f0c3-b91f-45b5-d3a2-ba09a5bd3e48"
      },
      "outputs": [
        {
          "name": "stdout",
          "output_type": "stream",
          "text": [
            "['Gen_RPM_Max', 'Rtr_RPM_Max', 'Amb_WindSpeed_Max', 'Blds_PitchAngle_Max', 'Grd_Prod_Pwr_Max', 'Grd_Prod_ReactPwr_Max', 'Grd_Prod_PsblePwr_Max', 'Grd_Prod_PsbleInd_Max', 'Grd_Prod_PsbleCap_Max']\n",
            "['Gen_RPM_Min', 'Rtr_RPM_Min', 'Amb_WindSpeed_Min', 'Blds_PitchAngle_Min', 'Grd_Prod_Pwr_Min', 'Grd_Prod_ReactPwr_Min', 'Grd_Prod_PsblePwr_Min', 'Grd_Prod_PsbleInd_Min', 'Grd_Prod_PsbleCap_Min']\n"
          ]
        }
      ],
      "source": [
        "max_cols = [col for col in df.columns if 'Max' in col]\n",
        "min_cols = [col for col in df.columns if \"Min\" in col]\n",
        "#print(list(df.columns))\n",
        "print(max_cols)\n",
        "print(min_cols)"
      ]
    },
    {
      "cell_type": "code",
      "execution_count": null,
      "metadata": {
        "id": "c3NVVn1ERRvL"
      },
      "outputs": [],
      "source": [
        "for col in max_cols:\n",
        "  if col in df.columns:\n",
        "    df.drop(col , axis=1, inplace=True)\n",
        "  else:\n",
        "    pass\n",
        "\n",
        "for col in min_cols:\n",
        "  if col in df.columns:\n",
        "    df.drop(col , axis=1, inplace=True)\n",
        "  else:\n",
        "    pass\n"
      ]
    },
    {
      "cell_type": "markdown",
      "metadata": {
        "id": "VKW7pUcSZZHN"
      },
      "source": [
        "**Removing all the temperatures, expect oil temperatures**\n",
        "\n",
        "As far as we know, the oil it's the main thermodinamic component in the windturbin, so it will absorb the heat produced in the engine and the other components. We can use this information to summarize the temperatures of the componets in the windmill. Temperature it's critical data due to it's relevance in the performance of the whole windmill."
      ]
    },
    {
      "cell_type": "code",
      "execution_count": null,
      "metadata": {
        "colab": {
          "base_uri": "https://localhost:8080/"
        },
        "id": "w5Ji-d0_Zw0B",
        "outputId": "4ea8c867-56b6-4b37-d814-ffbb7d31fec1"
      },
      "outputs": [
        {
          "name": "stdout",
          "output_type": "stream",
          "text": [
            "['Gen_Bear_Temp_Avg', 'Gen_Phase1_Temp_Avg', 'Gen_Phase2_Temp_Avg', 'Gen_Phase3_Temp_Avg', 'Gear_Bear_Temp_Avg', 'Nac_Temp_Avg', 'Amb_Temp_Avg', 'HVTrafo_Phase1_Temp_Avg', 'HVTrafo_Phase2_Temp_Avg', 'HVTrafo_Phase3_Temp_Avg', 'Grd_InverterPhase1_Temp_Avg', 'Cont_Top_Temp_Avg', 'Cont_Hub_Temp_Avg', 'Cont_VCP_Temp_Avg', 'Gen_SlipRing_Temp_Avg', 'Spin_Temp_Avg', 'Cont_VCP_ChokcoilTemp_Avg', 'Grd_RtrInvPhase1_Temp_Avg', 'Grd_RtrInvPhase2_Temp_Avg', 'Grd_RtrInvPhase3_Temp_Avg', 'Cont_VCP_WtrTemp_Avg', 'Grd_Busbar_Temp_Avg', 'Gen_Bear2_Temp_Avg']\n"
          ]
        }
      ],
      "source": [
        "temp_cols = [col for col in df.columns if 'Temp' in col]\n",
        "#remove oil temperatures of this list because we want to keep them:\n",
        "temp_cols.remove(\"Hyd_Oil_Temp_Avg\")\n",
        "temp_cols.remove(\"Gear_Oil_Temp_Avg\")\n",
        "\n",
        "print(temp_cols)"
      ]
    },
    {
      "cell_type": "code",
      "execution_count": null,
      "metadata": {
        "id": "Sam9aZ6GaUHN"
      },
      "outputs": [],
      "source": [
        "#delete the columns with temperature from the dataset (df)\n",
        "for col in temp_cols:\n",
        "  if col in df.columns:\n",
        "    df.drop(col , axis=1, inplace=True)\n",
        "  else:\n",
        "    pass"
      ]
    },
    {
      "cell_type": "markdown",
      "metadata": {
        "id": "AFn6sEYtjB3E"
      },
      "source": [
        "As we are studying the Gen1, the data from the other generators are not important for now. Therefore we can delate these columns     "
      ]
    },
    {
      "cell_type": "code",
      "execution_count": null,
      "metadata": {
        "id": "My8yqdrdjBET"
      },
      "outputs": [],
      "source": [
        "df.drop(\"Prod_LatestAvg_ReactPwrGen2\", axis=1, inplace=True)\n",
        "df.drop(\"Prod_LatestAvg_ActPwrGen2\", axis=1, inplace=True)\n",
        "#df.drop(\"Prod_LatestAvg_ActPwrGen2\", axis=1, inplace=True)\n",
        "df.drop(\"Prod_LatestAvg_ReactPwrGen0\", axis=1, inplace=True)\n",
        "df.drop(\"Prod_LatestAvg_ReactPwrGen1\", axis=1, inplace=True)\n",
        "df.drop(\"Prod_LatestAvg_ActPwrGen0\", axis=1, inplace=True)\n"
      ]
    },
    {
      "cell_type": "markdown",
      "metadata": {
        "id": "Tosg71eqZYEL"
      },
      "source": []
    },
    {
      "cell_type": "markdown",
      "metadata": {
        "id": "cGYjsUMed9ux"
      },
      "source": [
        "**The Shape of the data**"
      ]
    },
    {
      "cell_type": "code",
      "execution_count": null,
      "metadata": {
        "colab": {
          "base_uri": "https://localhost:8080/"
        },
        "id": "p77XL7Snd04r",
        "outputId": "fcd4748b-c9cb-4987-9976-97fb4dc969a5"
      },
      "outputs": [
        {
          "data": {
            "text/plain": [
              "(52439, 37)"
            ]
          },
          "execution_count": 9,
          "metadata": {},
          "output_type": "execute_result"
        }
      ],
      "source": [
        "df.shape"
      ]
    },
    {
      "cell_type": "markdown",
      "metadata": {
        "id": "DrVWhUjEeWZM"
      },
      "source": [
        "We want to see if each measurement is measured at an unique time"
      ]
    },
    {
      "cell_type": "code",
      "execution_count": null,
      "metadata": {
        "colab": {
          "base_uri": "https://localhost:8080/"
        },
        "id": "Jxjnl0lmcILa",
        "outputId": "3d6a1d56-51cf-40e1-e5e9-70e4a8612944"
      },
      "outputs": [
        {
          "data": {
            "text/plain": [
              "52433"
            ]
          },
          "execution_count": 10,
          "metadata": {},
          "output_type": "execute_result"
        }
      ],
      "source": [
        "df['Timestamp'].nunique()\n"
      ]
    },
    {
      "cell_type": "code",
      "execution_count": null,
      "metadata": {
        "colab": {
          "base_uri": "https://localhost:8080/",
          "height": 435
        },
        "id": "iJMROvOUaP4K",
        "outputId": "94fb6c5f-0ad4-41bb-897d-749219316411"
      },
      "outputs": [
        {
          "data": {
            "text/html": [
              "\n",
              "  <div id=\"df-9e5318f7-1c2c-44be-91bd-df6887b3cb86\">\n",
              "    <div class=\"colab-df-container\">\n",
              "      <div>\n",
              "<style scoped>\n",
              "    .dataframe tbody tr th:only-of-type {\n",
              "        vertical-align: middle;\n",
              "    }\n",
              "\n",
              "    .dataframe tbody tr th {\n",
              "        vertical-align: top;\n",
              "    }\n",
              "\n",
              "    .dataframe thead th {\n",
              "        text-align: right;\n",
              "    }\n",
              "</style>\n",
              "<table border=\"1\" class=\"dataframe\">\n",
              "  <thead>\n",
              "    <tr style=\"text-align: right;\">\n",
              "      <th></th>\n",
              "      <th>Turbine_ID</th>\n",
              "      <th>Timestamp</th>\n",
              "      <th>Gen_RPM_Avg</th>\n",
              "      <th>Gen_RPM_Std</th>\n",
              "      <th>Hyd_Oil_Temp_Avg</th>\n",
              "      <th>Gear_Oil_Temp_Avg</th>\n",
              "      <th>Rtr_RPM_Avg</th>\n",
              "      <th>Amb_WindSpeed_Avg</th>\n",
              "      <th>Amb_WindSpeed_Std</th>\n",
              "      <th>Amb_WindDir_Relative_Avg</th>\n",
              "      <th>...</th>\n",
              "      <th>Grd_Prod_Pwr_Std</th>\n",
              "      <th>Grd_Prod_ReactPwr_Avg</th>\n",
              "      <th>Grd_Prod_ReactPwr_Std</th>\n",
              "      <th>Grd_Prod_PsblePwr_Avg</th>\n",
              "      <th>Grd_Prod_PsblePwr_Std</th>\n",
              "      <th>Grd_Prod_PsbleInd_Avg</th>\n",
              "      <th>Grd_Prod_PsbleInd_Std</th>\n",
              "      <th>Grd_Prod_PsbleCap_Avg</th>\n",
              "      <th>Grd_Prod_PsbleCap_Std</th>\n",
              "      <th>Nac_Direction_Avg</th>\n",
              "    </tr>\n",
              "  </thead>\n",
              "  <tbody>\n",
              "    <tr>\n",
              "      <th>22241</th>\n",
              "      <td>T01</td>\n",
              "      <td>2016-10-30 02:10:00+00:00</td>\n",
              "      <td>1618.6</td>\n",
              "      <td>47.6</td>\n",
              "      <td>47</td>\n",
              "      <td>51</td>\n",
              "      <td>14.3</td>\n",
              "      <td>8.9</td>\n",
              "      <td>1.9</td>\n",
              "      <td>13.5</td>\n",
              "      <td>...</td>\n",
              "      <td>301.9</td>\n",
              "      <td>-209.4</td>\n",
              "      <td>2.7</td>\n",
              "      <td>1177.4</td>\n",
              "      <td>301.8</td>\n",
              "      <td>-995.9</td>\n",
              "      <td>29.5</td>\n",
              "      <td>955.7</td>\n",
              "      <td>105.4</td>\n",
              "      <td>115.5</td>\n",
              "    </tr>\n",
              "    <tr>\n",
              "      <th>24137</th>\n",
              "      <td>T01</td>\n",
              "      <td>2016-10-30 02:00:00+00:00</td>\n",
              "      <td>1680.8</td>\n",
              "      <td>15.1</td>\n",
              "      <td>49</td>\n",
              "      <td>50</td>\n",
              "      <td>14.9</td>\n",
              "      <td>13.7</td>\n",
              "      <td>2.2</td>\n",
              "      <td>-5.8</td>\n",
              "      <td>...</td>\n",
              "      <td>10.7</td>\n",
              "      <td>-220.4</td>\n",
              "      <td>3.4</td>\n",
              "      <td>1998.9</td>\n",
              "      <td>11.0</td>\n",
              "      <td>-585.3</td>\n",
              "      <td>21.0</td>\n",
              "      <td>407.2</td>\n",
              "      <td>11.0</td>\n",
              "      <td>109.1</td>\n",
              "    </tr>\n",
              "    <tr>\n",
              "      <th>36144</th>\n",
              "      <td>T01</td>\n",
              "      <td>2016-10-30 02:30:00+00:00</td>\n",
              "      <td>1676.9</td>\n",
              "      <td>16.4</td>\n",
              "      <td>50</td>\n",
              "      <td>51</td>\n",
              "      <td>14.9</td>\n",
              "      <td>11.8</td>\n",
              "      <td>2.3</td>\n",
              "      <td>-7.5</td>\n",
              "      <td>...</td>\n",
              "      <td>227.1</td>\n",
              "      <td>-222.9</td>\n",
              "      <td>2.5</td>\n",
              "      <td>1841.6</td>\n",
              "      <td>224.9</td>\n",
              "      <td>-733.6</td>\n",
              "      <td>192.0</td>\n",
              "      <td>561.7</td>\n",
              "      <td>218.9</td>\n",
              "      <td>108.8</td>\n",
              "    </tr>\n",
              "    <tr>\n",
              "      <th>36146</th>\n",
              "      <td>T01</td>\n",
              "      <td>2016-10-30 02:50:00+00:00</td>\n",
              "      <td>1635.1</td>\n",
              "      <td>26.6</td>\n",
              "      <td>45</td>\n",
              "      <td>51</td>\n",
              "      <td>14.5</td>\n",
              "      <td>9.0</td>\n",
              "      <td>1.8</td>\n",
              "      <td>-10.0</td>\n",
              "      <td>...</td>\n",
              "      <td>249.7</td>\n",
              "      <td>-210.0</td>\n",
              "      <td>3.3</td>\n",
              "      <td>1245.4</td>\n",
              "      <td>249.2</td>\n",
              "      <td>-988.3</td>\n",
              "      <td>56.4</td>\n",
              "      <td>954.2</td>\n",
              "      <td>120.4</td>\n",
              "      <td>115.5</td>\n",
              "    </tr>\n",
              "    <tr>\n",
              "      <th>38669</th>\n",
              "      <td>T01</td>\n",
              "      <td>2016-10-30 02:20:00+00:00</td>\n",
              "      <td>1681.4</td>\n",
              "      <td>18.4</td>\n",
              "      <td>50</td>\n",
              "      <td>50</td>\n",
              "      <td>14.9</td>\n",
              "      <td>13.2</td>\n",
              "      <td>2.2</td>\n",
              "      <td>3.9</td>\n",
              "      <td>...</td>\n",
              "      <td>23.9</td>\n",
              "      <td>-223.2</td>\n",
              "      <td>2.4</td>\n",
              "      <td>1995.5</td>\n",
              "      <td>24.9</td>\n",
              "      <td>-591.7</td>\n",
              "      <td>44.2</td>\n",
              "      <td>410.7</td>\n",
              "      <td>24.9</td>\n",
              "      <td>108.8</td>\n",
              "    </tr>\n",
              "    <tr>\n",
              "      <th>50519</th>\n",
              "      <td>T01</td>\n",
              "      <td>2016-10-30 02:40:00+00:00</td>\n",
              "      <td>1652.7</td>\n",
              "      <td>25.3</td>\n",
              "      <td>50</td>\n",
              "      <td>55</td>\n",
              "      <td>14.6</td>\n",
              "      <td>10.0</td>\n",
              "      <td>2.1</td>\n",
              "      <td>-3.4</td>\n",
              "      <td>...</td>\n",
              "      <td>275.0</td>\n",
              "      <td>-215.6</td>\n",
              "      <td>5.7</td>\n",
              "      <td>1497.6</td>\n",
              "      <td>270.1</td>\n",
              "      <td>-960.8</td>\n",
              "      <td>107.3</td>\n",
              "      <td>836.8</td>\n",
              "      <td>191.4</td>\n",
              "      <td>115.1</td>\n",
              "    </tr>\n",
              "  </tbody>\n",
              "</table>\n",
              "<p>6 rows × 37 columns</p>\n",
              "</div>\n",
              "      <button class=\"colab-df-convert\" onclick=\"convertToInteractive('df-9e5318f7-1c2c-44be-91bd-df6887b3cb86')\"\n",
              "              title=\"Convert this dataframe to an interactive table.\"\n",
              "              style=\"display:none;\">\n",
              "        \n",
              "  <svg xmlns=\"http://www.w3.org/2000/svg\" height=\"24px\"viewBox=\"0 0 24 24\"\n",
              "       width=\"24px\">\n",
              "    <path d=\"M0 0h24v24H0V0z\" fill=\"none\"/>\n",
              "    <path d=\"M18.56 5.44l.94 2.06.94-2.06 2.06-.94-2.06-.94-.94-2.06-.94 2.06-2.06.94zm-11 1L8.5 8.5l.94-2.06 2.06-.94-2.06-.94L8.5 2.5l-.94 2.06-2.06.94zm10 10l.94 2.06.94-2.06 2.06-.94-2.06-.94-.94-2.06-.94 2.06-2.06.94z\"/><path d=\"M17.41 7.96l-1.37-1.37c-.4-.4-.92-.59-1.43-.59-.52 0-1.04.2-1.43.59L10.3 9.45l-7.72 7.72c-.78.78-.78 2.05 0 2.83L4 21.41c.39.39.9.59 1.41.59.51 0 1.02-.2 1.41-.59l7.78-7.78 2.81-2.81c.8-.78.8-2.07 0-2.86zM5.41 20L4 18.59l7.72-7.72 1.47 1.35L5.41 20z\"/>\n",
              "  </svg>\n",
              "      </button>\n",
              "      \n",
              "  <style>\n",
              "    .colab-df-container {\n",
              "      display:flex;\n",
              "      flex-wrap:wrap;\n",
              "      gap: 12px;\n",
              "    }\n",
              "\n",
              "    .colab-df-convert {\n",
              "      background-color: #E8F0FE;\n",
              "      border: none;\n",
              "      border-radius: 50%;\n",
              "      cursor: pointer;\n",
              "      display: none;\n",
              "      fill: #1967D2;\n",
              "      height: 32px;\n",
              "      padding: 0 0 0 0;\n",
              "      width: 32px;\n",
              "    }\n",
              "\n",
              "    .colab-df-convert:hover {\n",
              "      background-color: #E2EBFA;\n",
              "      box-shadow: 0px 1px 2px rgba(60, 64, 67, 0.3), 0px 1px 3px 1px rgba(60, 64, 67, 0.15);\n",
              "      fill: #174EA6;\n",
              "    }\n",
              "\n",
              "    [theme=dark] .colab-df-convert {\n",
              "      background-color: #3B4455;\n",
              "      fill: #D2E3FC;\n",
              "    }\n",
              "\n",
              "    [theme=dark] .colab-df-convert:hover {\n",
              "      background-color: #434B5C;\n",
              "      box-shadow: 0px 1px 3px 1px rgba(0, 0, 0, 0.15);\n",
              "      filter: drop-shadow(0px 1px 2px rgba(0, 0, 0, 0.3));\n",
              "      fill: #FFFFFF;\n",
              "    }\n",
              "  </style>\n",
              "\n",
              "      <script>\n",
              "        const buttonEl =\n",
              "          document.querySelector('#df-9e5318f7-1c2c-44be-91bd-df6887b3cb86 button.colab-df-convert');\n",
              "        buttonEl.style.display =\n",
              "          google.colab.kernel.accessAllowed ? 'block' : 'none';\n",
              "\n",
              "        async function convertToInteractive(key) {\n",
              "          const element = document.querySelector('#df-9e5318f7-1c2c-44be-91bd-df6887b3cb86');\n",
              "          const dataTable =\n",
              "            await google.colab.kernel.invokeFunction('convertToInteractive',\n",
              "                                                     [key], {});\n",
              "          if (!dataTable) return;\n",
              "\n",
              "          const docLinkHtml = 'Like what you see? Visit the ' +\n",
              "            '<a target=\"_blank\" href=https://colab.research.google.com/notebooks/data_table.ipynb>data table notebook</a>'\n",
              "            + ' to learn more about interactive tables.';\n",
              "          element.innerHTML = '';\n",
              "          dataTable['output_type'] = 'display_data';\n",
              "          await google.colab.output.renderOutput(dataTable, element);\n",
              "          const docLink = document.createElement('div');\n",
              "          docLink.innerHTML = docLinkHtml;\n",
              "          element.appendChild(docLink);\n",
              "        }\n",
              "      </script>\n",
              "    </div>\n",
              "  </div>\n",
              "  "
            ],
            "text/plain": [
              "      Turbine_ID                  Timestamp  Gen_RPM_Avg  Gen_RPM_Std  \\\n",
              "22241        T01  2016-10-30 02:10:00+00:00       1618.6         47.6   \n",
              "24137        T01  2016-10-30 02:00:00+00:00       1680.8         15.1   \n",
              "36144        T01  2016-10-30 02:30:00+00:00       1676.9         16.4   \n",
              "36146        T01  2016-10-30 02:50:00+00:00       1635.1         26.6   \n",
              "38669        T01  2016-10-30 02:20:00+00:00       1681.4         18.4   \n",
              "50519        T01  2016-10-30 02:40:00+00:00       1652.7         25.3   \n",
              "\n",
              "       Hyd_Oil_Temp_Avg  Gear_Oil_Temp_Avg  Rtr_RPM_Avg  Amb_WindSpeed_Avg  \\\n",
              "22241                47                 51         14.3                8.9   \n",
              "24137                49                 50         14.9               13.7   \n",
              "36144                50                 51         14.9               11.8   \n",
              "36146                45                 51         14.5                9.0   \n",
              "38669                50                 50         14.9               13.2   \n",
              "50519                50                 55         14.6               10.0   \n",
              "\n",
              "       Amb_WindSpeed_Std  Amb_WindDir_Relative_Avg  ...  Grd_Prod_Pwr_Std  \\\n",
              "22241                1.9                      13.5  ...             301.9   \n",
              "24137                2.2                      -5.8  ...              10.7   \n",
              "36144                2.3                      -7.5  ...             227.1   \n",
              "36146                1.8                     -10.0  ...             249.7   \n",
              "38669                2.2                       3.9  ...              23.9   \n",
              "50519                2.1                      -3.4  ...             275.0   \n",
              "\n",
              "       Grd_Prod_ReactPwr_Avg  Grd_Prod_ReactPwr_Std  Grd_Prod_PsblePwr_Avg  \\\n",
              "22241                 -209.4                    2.7                 1177.4   \n",
              "24137                 -220.4                    3.4                 1998.9   \n",
              "36144                 -222.9                    2.5                 1841.6   \n",
              "36146                 -210.0                    3.3                 1245.4   \n",
              "38669                 -223.2                    2.4                 1995.5   \n",
              "50519                 -215.6                    5.7                 1497.6   \n",
              "\n",
              "       Grd_Prod_PsblePwr_Std  Grd_Prod_PsbleInd_Avg  Grd_Prod_PsbleInd_Std  \\\n",
              "22241                  301.8                 -995.9                   29.5   \n",
              "24137                   11.0                 -585.3                   21.0   \n",
              "36144                  224.9                 -733.6                  192.0   \n",
              "36146                  249.2                 -988.3                   56.4   \n",
              "38669                   24.9                 -591.7                   44.2   \n",
              "50519                  270.1                 -960.8                  107.3   \n",
              "\n",
              "       Grd_Prod_PsbleCap_Avg  Grd_Prod_PsbleCap_Std  Nac_Direction_Avg  \n",
              "22241                  955.7                  105.4              115.5  \n",
              "24137                  407.2                   11.0              109.1  \n",
              "36144                  561.7                  218.9              108.8  \n",
              "36146                  954.2                  120.4              115.5  \n",
              "38669                  410.7                   24.9              108.8  \n",
              "50519                  836.8                  191.4              115.1  \n",
              "\n",
              "[6 rows x 37 columns]"
            ]
          },
          "execution_count": 11,
          "metadata": {},
          "output_type": "execute_result"
        }
      ],
      "source": [
        "df[df[\"Timestamp\"].duplicated()]\n"
      ]
    },
    {
      "cell_type": "markdown",
      "metadata": {
        "id": "6ioUkj6wbXPg"
      },
      "source": [
        "We want to remove those duplicates"
      ]
    },
    {
      "cell_type": "code",
      "execution_count": null,
      "metadata": {
        "id": "q_DS9HoFact_"
      },
      "outputs": [],
      "source": [
        "indexes= df[df[\"Timestamp\"].duplicated()].index\n",
        "indexes_list = list(indexes)\n",
        "df.drop(indexes_list, inplace=True)\n",
        "\n",
        "\n",
        "\n"
      ]
    },
    {
      "cell_type": "code",
      "execution_count": null,
      "metadata": {
        "colab": {
          "base_uri": "https://localhost:8080/"
        },
        "id": "8OLmCMrAdOWa",
        "outputId": "7fea5857-dfcb-443b-ae95-fb3fc0673e68"
      },
      "outputs": [
        {
          "data": {
            "text/plain": [
              "(52433, 37)"
            ]
          },
          "execution_count": 13,
          "metadata": {},
          "output_type": "execute_result"
        }
      ],
      "source": [
        "df.shape"
      ]
    },
    {
      "cell_type": "code",
      "execution_count": null,
      "metadata": {
        "colab": {
          "base_uri": "https://localhost:8080/",
          "height": 386
        },
        "id": "GrDmsJ41liXu",
        "outputId": "de8e2125-b7dc-488b-c021-18c96346f4b7"
      },
      "outputs": [
        {
          "data": {
            "text/html": [
              "\n",
              "  <div id=\"df-1a3693b8-173f-470d-b87d-8ca821006266\">\n",
              "    <div class=\"colab-df-container\">\n",
              "      <div>\n",
              "<style scoped>\n",
              "    .dataframe tbody tr th:only-of-type {\n",
              "        vertical-align: middle;\n",
              "    }\n",
              "\n",
              "    .dataframe tbody tr th {\n",
              "        vertical-align: top;\n",
              "    }\n",
              "\n",
              "    .dataframe thead th {\n",
              "        text-align: right;\n",
              "    }\n",
              "</style>\n",
              "<table border=\"1\" class=\"dataframe\">\n",
              "  <thead>\n",
              "    <tr style=\"text-align: right;\">\n",
              "      <th></th>\n",
              "      <th>Turbine_ID</th>\n",
              "      <th>Timestamp</th>\n",
              "      <th>Gen_RPM_Avg</th>\n",
              "      <th>Gen_RPM_Std</th>\n",
              "      <th>Hyd_Oil_Temp_Avg</th>\n",
              "      <th>Gear_Oil_Temp_Avg</th>\n",
              "      <th>Rtr_RPM_Avg</th>\n",
              "      <th>Amb_WindSpeed_Avg</th>\n",
              "      <th>Amb_WindSpeed_Std</th>\n",
              "      <th>Amb_WindDir_Relative_Avg</th>\n",
              "      <th>...</th>\n",
              "      <th>Grd_Prod_Pwr_Std</th>\n",
              "      <th>Grd_Prod_ReactPwr_Avg</th>\n",
              "      <th>Grd_Prod_ReactPwr_Std</th>\n",
              "      <th>Grd_Prod_PsblePwr_Avg</th>\n",
              "      <th>Grd_Prod_PsblePwr_Std</th>\n",
              "      <th>Grd_Prod_PsbleInd_Avg</th>\n",
              "      <th>Grd_Prod_PsbleInd_Std</th>\n",
              "      <th>Grd_Prod_PsbleCap_Avg</th>\n",
              "      <th>Grd_Prod_PsbleCap_Std</th>\n",
              "      <th>Nac_Direction_Avg</th>\n",
              "    </tr>\n",
              "  </thead>\n",
              "  <tbody>\n",
              "    <tr>\n",
              "      <th>0</th>\n",
              "      <td>T01</td>\n",
              "      <td>2016-01-08 23:10:00+00:00</td>\n",
              "      <td>1495.0</td>\n",
              "      <td>83.8</td>\n",
              "      <td>29</td>\n",
              "      <td>49</td>\n",
              "      <td>13.2</td>\n",
              "      <td>7.1</td>\n",
              "      <td>1.2</td>\n",
              "      <td>-19.3</td>\n",
              "      <td>...</td>\n",
              "      <td>144.4</td>\n",
              "      <td>-144.4</td>\n",
              "      <td>6.1</td>\n",
              "      <td>588.1</td>\n",
              "      <td>145.0</td>\n",
              "      <td>-1000.0</td>\n",
              "      <td>0.0</td>\n",
              "      <td>1000.0</td>\n",
              "      <td>0.0</td>\n",
              "      <td>220.6</td>\n",
              "    </tr>\n",
              "    <tr>\n",
              "      <th>1</th>\n",
              "      <td>T01</td>\n",
              "      <td>2016-01-09 00:10:00+00:00</td>\n",
              "      <td>1530.5</td>\n",
              "      <td>103.1</td>\n",
              "      <td>28</td>\n",
              "      <td>53</td>\n",
              "      <td>13.6</td>\n",
              "      <td>7.5</td>\n",
              "      <td>1.5</td>\n",
              "      <td>-15.4</td>\n",
              "      <td>...</td>\n",
              "      <td>224.4</td>\n",
              "      <td>-168.9</td>\n",
              "      <td>12.4</td>\n",
              "      <td>730.3</td>\n",
              "      <td>228.5</td>\n",
              "      <td>-999.9</td>\n",
              "      <td>2.3</td>\n",
              "      <td>998.8</td>\n",
              "      <td>12.8</td>\n",
              "      <td>228.0</td>\n",
              "    </tr>\n",
              "    <tr>\n",
              "      <th>2</th>\n",
              "      <td>T01</td>\n",
              "      <td>2016-04-19 14:10:00+00:00</td>\n",
              "      <td>1550.5</td>\n",
              "      <td>83.5</td>\n",
              "      <td>42</td>\n",
              "      <td>54</td>\n",
              "      <td>13.7</td>\n",
              "      <td>7.7</td>\n",
              "      <td>1.5</td>\n",
              "      <td>0.6</td>\n",
              "      <td>...</td>\n",
              "      <td>273.4</td>\n",
              "      <td>-162.6</td>\n",
              "      <td>4.9</td>\n",
              "      <td>854.4</td>\n",
              "      <td>274.0</td>\n",
              "      <td>-998.3</td>\n",
              "      <td>19.4</td>\n",
              "      <td>989.7</td>\n",
              "      <td>58.8</td>\n",
              "      <td>137.9</td>\n",
              "    </tr>\n",
              "    <tr>\n",
              "      <th>3</th>\n",
              "      <td>T01</td>\n",
              "      <td>2016-04-19 15:20:00+00:00</td>\n",
              "      <td>1269.1</td>\n",
              "      <td>37.1</td>\n",
              "      <td>38</td>\n",
              "      <td>50</td>\n",
              "      <td>11.2</td>\n",
              "      <td>4.7</td>\n",
              "      <td>1.1</td>\n",
              "      <td>10.3</td>\n",
              "      <td>...</td>\n",
              "      <td>93.7</td>\n",
              "      <td>-88.0</td>\n",
              "      <td>8.4</td>\n",
              "      <td>138.7</td>\n",
              "      <td>93.4</td>\n",
              "      <td>-591.5</td>\n",
              "      <td>298.3</td>\n",
              "      <td>591.5</td>\n",
              "      <td>298.3</td>\n",
              "      <td>138.9</td>\n",
              "    </tr>\n",
              "    <tr>\n",
              "      <th>4</th>\n",
              "      <td>T01</td>\n",
              "      <td>2016-04-19 16:20:00+00:00</td>\n",
              "      <td>1248.8</td>\n",
              "      <td>49.8</td>\n",
              "      <td>35</td>\n",
              "      <td>46</td>\n",
              "      <td>11.1</td>\n",
              "      <td>4.0</td>\n",
              "      <td>1.1</td>\n",
              "      <td>-14.5</td>\n",
              "      <td>...</td>\n",
              "      <td>75.1</td>\n",
              "      <td>-46.0</td>\n",
              "      <td>114.2</td>\n",
              "      <td>79.0</td>\n",
              "      <td>68.6</td>\n",
              "      <td>-365.0</td>\n",
              "      <td>327.9</td>\n",
              "      <td>365.0</td>\n",
              "      <td>327.9</td>\n",
              "      <td>182.0</td>\n",
              "    </tr>\n",
              "  </tbody>\n",
              "</table>\n",
              "<p>5 rows × 37 columns</p>\n",
              "</div>\n",
              "      <button class=\"colab-df-convert\" onclick=\"convertToInteractive('df-1a3693b8-173f-470d-b87d-8ca821006266')\"\n",
              "              title=\"Convert this dataframe to an interactive table.\"\n",
              "              style=\"display:none;\">\n",
              "        \n",
              "  <svg xmlns=\"http://www.w3.org/2000/svg\" height=\"24px\"viewBox=\"0 0 24 24\"\n",
              "       width=\"24px\">\n",
              "    <path d=\"M0 0h24v24H0V0z\" fill=\"none\"/>\n",
              "    <path d=\"M18.56 5.44l.94 2.06.94-2.06 2.06-.94-2.06-.94-.94-2.06-.94 2.06-2.06.94zm-11 1L8.5 8.5l.94-2.06 2.06-.94-2.06-.94L8.5 2.5l-.94 2.06-2.06.94zm10 10l.94 2.06.94-2.06 2.06-.94-2.06-.94-.94-2.06-.94 2.06-2.06.94z\"/><path d=\"M17.41 7.96l-1.37-1.37c-.4-.4-.92-.59-1.43-.59-.52 0-1.04.2-1.43.59L10.3 9.45l-7.72 7.72c-.78.78-.78 2.05 0 2.83L4 21.41c.39.39.9.59 1.41.59.51 0 1.02-.2 1.41-.59l7.78-7.78 2.81-2.81c.8-.78.8-2.07 0-2.86zM5.41 20L4 18.59l7.72-7.72 1.47 1.35L5.41 20z\"/>\n",
              "  </svg>\n",
              "      </button>\n",
              "      \n",
              "  <style>\n",
              "    .colab-df-container {\n",
              "      display:flex;\n",
              "      flex-wrap:wrap;\n",
              "      gap: 12px;\n",
              "    }\n",
              "\n",
              "    .colab-df-convert {\n",
              "      background-color: #E8F0FE;\n",
              "      border: none;\n",
              "      border-radius: 50%;\n",
              "      cursor: pointer;\n",
              "      display: none;\n",
              "      fill: #1967D2;\n",
              "      height: 32px;\n",
              "      padding: 0 0 0 0;\n",
              "      width: 32px;\n",
              "    }\n",
              "\n",
              "    .colab-df-convert:hover {\n",
              "      background-color: #E2EBFA;\n",
              "      box-shadow: 0px 1px 2px rgba(60, 64, 67, 0.3), 0px 1px 3px 1px rgba(60, 64, 67, 0.15);\n",
              "      fill: #174EA6;\n",
              "    }\n",
              "\n",
              "    [theme=dark] .colab-df-convert {\n",
              "      background-color: #3B4455;\n",
              "      fill: #D2E3FC;\n",
              "    }\n",
              "\n",
              "    [theme=dark] .colab-df-convert:hover {\n",
              "      background-color: #434B5C;\n",
              "      box-shadow: 0px 1px 3px 1px rgba(0, 0, 0, 0.15);\n",
              "      filter: drop-shadow(0px 1px 2px rgba(0, 0, 0, 0.3));\n",
              "      fill: #FFFFFF;\n",
              "    }\n",
              "  </style>\n",
              "\n",
              "      <script>\n",
              "        const buttonEl =\n",
              "          document.querySelector('#df-1a3693b8-173f-470d-b87d-8ca821006266 button.colab-df-convert');\n",
              "        buttonEl.style.display =\n",
              "          google.colab.kernel.accessAllowed ? 'block' : 'none';\n",
              "\n",
              "        async function convertToInteractive(key) {\n",
              "          const element = document.querySelector('#df-1a3693b8-173f-470d-b87d-8ca821006266');\n",
              "          const dataTable =\n",
              "            await google.colab.kernel.invokeFunction('convertToInteractive',\n",
              "                                                     [key], {});\n",
              "          if (!dataTable) return;\n",
              "\n",
              "          const docLinkHtml = 'Like what you see? Visit the ' +\n",
              "            '<a target=\"_blank\" href=https://colab.research.google.com/notebooks/data_table.ipynb>data table notebook</a>'\n",
              "            + ' to learn more about interactive tables.';\n",
              "          element.innerHTML = '';\n",
              "          dataTable['output_type'] = 'display_data';\n",
              "          await google.colab.output.renderOutput(dataTable, element);\n",
              "          const docLink = document.createElement('div');\n",
              "          docLink.innerHTML = docLinkHtml;\n",
              "          element.appendChild(docLink);\n",
              "        }\n",
              "      </script>\n",
              "    </div>\n",
              "  </div>\n",
              "  "
            ],
            "text/plain": [
              "  Turbine_ID                  Timestamp  Gen_RPM_Avg  Gen_RPM_Std  \\\n",
              "0        T01  2016-01-08 23:10:00+00:00       1495.0         83.8   \n",
              "1        T01  2016-01-09 00:10:00+00:00       1530.5        103.1   \n",
              "2        T01  2016-04-19 14:10:00+00:00       1550.5         83.5   \n",
              "3        T01  2016-04-19 15:20:00+00:00       1269.1         37.1   \n",
              "4        T01  2016-04-19 16:20:00+00:00       1248.8         49.8   \n",
              "\n",
              "   Hyd_Oil_Temp_Avg  Gear_Oil_Temp_Avg  Rtr_RPM_Avg  Amb_WindSpeed_Avg  \\\n",
              "0                29                 49         13.2                7.1   \n",
              "1                28                 53         13.6                7.5   \n",
              "2                42                 54         13.7                7.7   \n",
              "3                38                 50         11.2                4.7   \n",
              "4                35                 46         11.1                4.0   \n",
              "\n",
              "   Amb_WindSpeed_Std  Amb_WindDir_Relative_Avg  ...  Grd_Prod_Pwr_Std  \\\n",
              "0                1.2                     -19.3  ...             144.4   \n",
              "1                1.5                     -15.4  ...             224.4   \n",
              "2                1.5                       0.6  ...             273.4   \n",
              "3                1.1                      10.3  ...              93.7   \n",
              "4                1.1                     -14.5  ...              75.1   \n",
              "\n",
              "   Grd_Prod_ReactPwr_Avg  Grd_Prod_ReactPwr_Std  Grd_Prod_PsblePwr_Avg  \\\n",
              "0                 -144.4                    6.1                  588.1   \n",
              "1                 -168.9                   12.4                  730.3   \n",
              "2                 -162.6                    4.9                  854.4   \n",
              "3                  -88.0                    8.4                  138.7   \n",
              "4                  -46.0                  114.2                   79.0   \n",
              "\n",
              "   Grd_Prod_PsblePwr_Std  Grd_Prod_PsbleInd_Avg  Grd_Prod_PsbleInd_Std  \\\n",
              "0                  145.0                -1000.0                    0.0   \n",
              "1                  228.5                 -999.9                    2.3   \n",
              "2                  274.0                 -998.3                   19.4   \n",
              "3                   93.4                 -591.5                  298.3   \n",
              "4                   68.6                 -365.0                  327.9   \n",
              "\n",
              "   Grd_Prod_PsbleCap_Avg  Grd_Prod_PsbleCap_Std  Nac_Direction_Avg  \n",
              "0                 1000.0                    0.0              220.6  \n",
              "1                  998.8                   12.8              228.0  \n",
              "2                  989.7                   58.8              137.9  \n",
              "3                  591.5                  298.3              138.9  \n",
              "4                  365.0                  327.9              182.0  \n",
              "\n",
              "[5 rows x 37 columns]"
            ]
          },
          "execution_count": 14,
          "metadata": {},
          "output_type": "execute_result"
        }
      ],
      "source": [
        "df.head()"
      ]
    },
    {
      "cell_type": "markdown",
      "metadata": {
        "id": "FjysJRPDXGpU"
      },
      "source": [
        "To see all the column we can use the transpose method"
      ]
    },
    {
      "cell_type": "code",
      "execution_count": null,
      "metadata": {
        "colab": {
          "base_uri": "https://localhost:8080/",
          "height": 1000
        },
        "id": "WLb0pjkrXKUh",
        "outputId": "e60ce77e-3cf7-40e2-ec39-16e5ef65005d"
      },
      "outputs": [
        {
          "data": {
            "text/html": [
              "\n",
              "  <div id=\"df-95c1b05a-6732-4f4d-b316-10ca490fdfaa\">\n",
              "    <div class=\"colab-df-container\">\n",
              "      <div>\n",
              "<style scoped>\n",
              "    .dataframe tbody tr th:only-of-type {\n",
              "        vertical-align: middle;\n",
              "    }\n",
              "\n",
              "    .dataframe tbody tr th {\n",
              "        vertical-align: top;\n",
              "    }\n",
              "\n",
              "    .dataframe thead th {\n",
              "        text-align: right;\n",
              "    }\n",
              "</style>\n",
              "<table border=\"1\" class=\"dataframe\">\n",
              "  <thead>\n",
              "    <tr style=\"text-align: right;\">\n",
              "      <th></th>\n",
              "      <th>0</th>\n",
              "      <th>1</th>\n",
              "      <th>2</th>\n",
              "      <th>3</th>\n",
              "      <th>4</th>\n",
              "    </tr>\n",
              "  </thead>\n",
              "  <tbody>\n",
              "    <tr>\n",
              "      <th>Turbine_ID</th>\n",
              "      <td>T01</td>\n",
              "      <td>T01</td>\n",
              "      <td>T01</td>\n",
              "      <td>T01</td>\n",
              "      <td>T01</td>\n",
              "    </tr>\n",
              "    <tr>\n",
              "      <th>Timestamp</th>\n",
              "      <td>2016-01-08 23:10:00+00:00</td>\n",
              "      <td>2016-01-09 00:10:00+00:00</td>\n",
              "      <td>2016-04-19 14:10:00+00:00</td>\n",
              "      <td>2016-04-19 15:20:00+00:00</td>\n",
              "      <td>2016-04-19 16:20:00+00:00</td>\n",
              "    </tr>\n",
              "    <tr>\n",
              "      <th>Gen_RPM_Avg</th>\n",
              "      <td>1495.0</td>\n",
              "      <td>1530.5</td>\n",
              "      <td>1550.5</td>\n",
              "      <td>1269.1</td>\n",
              "      <td>1248.8</td>\n",
              "    </tr>\n",
              "    <tr>\n",
              "      <th>Gen_RPM_Std</th>\n",
              "      <td>83.8</td>\n",
              "      <td>103.1</td>\n",
              "      <td>83.5</td>\n",
              "      <td>37.1</td>\n",
              "      <td>49.8</td>\n",
              "    </tr>\n",
              "    <tr>\n",
              "      <th>Hyd_Oil_Temp_Avg</th>\n",
              "      <td>29</td>\n",
              "      <td>28</td>\n",
              "      <td>42</td>\n",
              "      <td>38</td>\n",
              "      <td>35</td>\n",
              "    </tr>\n",
              "    <tr>\n",
              "      <th>Gear_Oil_Temp_Avg</th>\n",
              "      <td>49</td>\n",
              "      <td>53</td>\n",
              "      <td>54</td>\n",
              "      <td>50</td>\n",
              "      <td>46</td>\n",
              "    </tr>\n",
              "    <tr>\n",
              "      <th>Rtr_RPM_Avg</th>\n",
              "      <td>13.2</td>\n",
              "      <td>13.6</td>\n",
              "      <td>13.7</td>\n",
              "      <td>11.2</td>\n",
              "      <td>11.1</td>\n",
              "    </tr>\n",
              "    <tr>\n",
              "      <th>Amb_WindSpeed_Avg</th>\n",
              "      <td>7.1</td>\n",
              "      <td>7.5</td>\n",
              "      <td>7.7</td>\n",
              "      <td>4.7</td>\n",
              "      <td>4.0</td>\n",
              "    </tr>\n",
              "    <tr>\n",
              "      <th>Amb_WindSpeed_Std</th>\n",
              "      <td>1.2</td>\n",
              "      <td>1.5</td>\n",
              "      <td>1.5</td>\n",
              "      <td>1.1</td>\n",
              "      <td>1.1</td>\n",
              "    </tr>\n",
              "    <tr>\n",
              "      <th>Amb_WindDir_Relative_Avg</th>\n",
              "      <td>-19.3</td>\n",
              "      <td>-15.4</td>\n",
              "      <td>0.6</td>\n",
              "      <td>10.3</td>\n",
              "      <td>-14.5</td>\n",
              "    </tr>\n",
              "    <tr>\n",
              "      <th>Amb_WindDir_Abs_Avg</th>\n",
              "      <td>201.2</td>\n",
              "      <td>212.6</td>\n",
              "      <td>138.5</td>\n",
              "      <td>149.2</td>\n",
              "      <td>167.5</td>\n",
              "    </tr>\n",
              "    <tr>\n",
              "      <th>Prod_LatestAvg_ActPwrGen1</th>\n",
              "      <td>98177</td>\n",
              "      <td>120935</td>\n",
              "      <td>142022</td>\n",
              "      <td>23179</td>\n",
              "      <td>12343</td>\n",
              "    </tr>\n",
              "    <tr>\n",
              "      <th>Prod_LatestAvg_TotActPwr</th>\n",
              "      <td>98177</td>\n",
              "      <td>120935</td>\n",
              "      <td>142022</td>\n",
              "      <td>23179</td>\n",
              "      <td>11860</td>\n",
              "    </tr>\n",
              "    <tr>\n",
              "      <th>Prod_LatestAvg_TotReactPwr</th>\n",
              "      <td>-24113</td>\n",
              "      <td>-28146</td>\n",
              "      <td>-27091</td>\n",
              "      <td>-14681</td>\n",
              "      <td>-7705</td>\n",
              "    </tr>\n",
              "    <tr>\n",
              "      <th>Blds_PitchAngle_Avg</th>\n",
              "      <td>-2.0</td>\n",
              "      <td>-2.1</td>\n",
              "      <td>-2.1</td>\n",
              "      <td>-0.8</td>\n",
              "      <td>-0.1</td>\n",
              "    </tr>\n",
              "    <tr>\n",
              "      <th>Blds_PitchAngle_Std</th>\n",
              "      <td>0.3</td>\n",
              "      <td>0.3</td>\n",
              "      <td>0.3</td>\n",
              "      <td>0.8</td>\n",
              "      <td>0.8</td>\n",
              "    </tr>\n",
              "    <tr>\n",
              "      <th>Grd_Prod_Pwr_Avg</th>\n",
              "      <td>588.2</td>\n",
              "      <td>727.3</td>\n",
              "      <td>853.9</td>\n",
              "      <td>139.1</td>\n",
              "      <td>71.8</td>\n",
              "    </tr>\n",
              "    <tr>\n",
              "      <th>Grd_Prod_CosPhi_Avg</th>\n",
              "      <td>1.0</td>\n",
              "      <td>1.0</td>\n",
              "      <td>1.0</td>\n",
              "      <td>0.7</td>\n",
              "      <td>0.7</td>\n",
              "    </tr>\n",
              "    <tr>\n",
              "      <th>Grd_Prod_Freq_Avg</th>\n",
              "      <td>49.9</td>\n",
              "      <td>50.0</td>\n",
              "      <td>50.0</td>\n",
              "      <td>50.0</td>\n",
              "      <td>50.0</td>\n",
              "    </tr>\n",
              "    <tr>\n",
              "      <th>Grd_Prod_VoltPhse1_Avg</th>\n",
              "      <td>400.4</td>\n",
              "      <td>396.9</td>\n",
              "      <td>398.4</td>\n",
              "      <td>398.4</td>\n",
              "      <td>398.0</td>\n",
              "    </tr>\n",
              "    <tr>\n",
              "      <th>Grd_Prod_VoltPhse2_Avg</th>\n",
              "      <td>398.5</td>\n",
              "      <td>395.1</td>\n",
              "      <td>396.8</td>\n",
              "      <td>396.8</td>\n",
              "      <td>396.4</td>\n",
              "    </tr>\n",
              "    <tr>\n",
              "      <th>Grd_Prod_VoltPhse3_Avg</th>\n",
              "      <td>398.8</td>\n",
              "      <td>396.3</td>\n",
              "      <td>397.5</td>\n",
              "      <td>395.2</td>\n",
              "      <td>394.7</td>\n",
              "    </tr>\n",
              "    <tr>\n",
              "      <th>Grd_Prod_CurPhse1_Avg</th>\n",
              "      <td>489.2</td>\n",
              "      <td>614.6</td>\n",
              "      <td>707.2</td>\n",
              "      <td>131.2</td>\n",
              "      <td>92.7</td>\n",
              "    </tr>\n",
              "    <tr>\n",
              "      <th>Grd_Prod_CurPhse2_Avg</th>\n",
              "      <td>521.6</td>\n",
              "      <td>643.9</td>\n",
              "      <td>744.1</td>\n",
              "      <td>164.1</td>\n",
              "      <td>116.8</td>\n",
              "    </tr>\n",
              "    <tr>\n",
              "      <th>Grd_Prod_CurPhse3_Avg</th>\n",
              "      <td>498.6</td>\n",
              "      <td>622.2</td>\n",
              "      <td>727.0</td>\n",
              "      <td>136.4</td>\n",
              "      <td>100.2</td>\n",
              "    </tr>\n",
              "    <tr>\n",
              "      <th>Rtr_RPM_Std</th>\n",
              "      <td>0.7</td>\n",
              "      <td>0.9</td>\n",
              "      <td>0.7</td>\n",
              "      <td>0.3</td>\n",
              "      <td>0.5</td>\n",
              "    </tr>\n",
              "    <tr>\n",
              "      <th>Amb_WindSpeed_Est_Avg</th>\n",
              "      <td>7.0</td>\n",
              "      <td>7.5</td>\n",
              "      <td>7.9</td>\n",
              "      <td>4.6</td>\n",
              "      <td>4.0</td>\n",
              "    </tr>\n",
              "    <tr>\n",
              "      <th>Grd_Prod_Pwr_Std</th>\n",
              "      <td>144.4</td>\n",
              "      <td>224.4</td>\n",
              "      <td>273.4</td>\n",
              "      <td>93.7</td>\n",
              "      <td>75.1</td>\n",
              "    </tr>\n",
              "    <tr>\n",
              "      <th>Grd_Prod_ReactPwr_Avg</th>\n",
              "      <td>-144.4</td>\n",
              "      <td>-168.9</td>\n",
              "      <td>-162.6</td>\n",
              "      <td>-88.0</td>\n",
              "      <td>-46.0</td>\n",
              "    </tr>\n",
              "    <tr>\n",
              "      <th>Grd_Prod_ReactPwr_Std</th>\n",
              "      <td>6.1</td>\n",
              "      <td>12.4</td>\n",
              "      <td>4.9</td>\n",
              "      <td>8.4</td>\n",
              "      <td>114.2</td>\n",
              "    </tr>\n",
              "    <tr>\n",
              "      <th>Grd_Prod_PsblePwr_Avg</th>\n",
              "      <td>588.1</td>\n",
              "      <td>730.3</td>\n",
              "      <td>854.4</td>\n",
              "      <td>138.7</td>\n",
              "      <td>79.0</td>\n",
              "    </tr>\n",
              "    <tr>\n",
              "      <th>Grd_Prod_PsblePwr_Std</th>\n",
              "      <td>145.0</td>\n",
              "      <td>228.5</td>\n",
              "      <td>274.0</td>\n",
              "      <td>93.4</td>\n",
              "      <td>68.6</td>\n",
              "    </tr>\n",
              "    <tr>\n",
              "      <th>Grd_Prod_PsbleInd_Avg</th>\n",
              "      <td>-1000.0</td>\n",
              "      <td>-999.9</td>\n",
              "      <td>-998.3</td>\n",
              "      <td>-591.5</td>\n",
              "      <td>-365.0</td>\n",
              "    </tr>\n",
              "    <tr>\n",
              "      <th>Grd_Prod_PsbleInd_Std</th>\n",
              "      <td>0.0</td>\n",
              "      <td>2.3</td>\n",
              "      <td>19.4</td>\n",
              "      <td>298.3</td>\n",
              "      <td>327.9</td>\n",
              "    </tr>\n",
              "    <tr>\n",
              "      <th>Grd_Prod_PsbleCap_Avg</th>\n",
              "      <td>1000.0</td>\n",
              "      <td>998.8</td>\n",
              "      <td>989.7</td>\n",
              "      <td>591.5</td>\n",
              "      <td>365.0</td>\n",
              "    </tr>\n",
              "    <tr>\n",
              "      <th>Grd_Prod_PsbleCap_Std</th>\n",
              "      <td>0.0</td>\n",
              "      <td>12.8</td>\n",
              "      <td>58.8</td>\n",
              "      <td>298.3</td>\n",
              "      <td>327.9</td>\n",
              "    </tr>\n",
              "    <tr>\n",
              "      <th>Nac_Direction_Avg</th>\n",
              "      <td>220.6</td>\n",
              "      <td>228.0</td>\n",
              "      <td>137.9</td>\n",
              "      <td>138.9</td>\n",
              "      <td>182.0</td>\n",
              "    </tr>\n",
              "  </tbody>\n",
              "</table>\n",
              "</div>\n",
              "      <button class=\"colab-df-convert\" onclick=\"convertToInteractive('df-95c1b05a-6732-4f4d-b316-10ca490fdfaa')\"\n",
              "              title=\"Convert this dataframe to an interactive table.\"\n",
              "              style=\"display:none;\">\n",
              "        \n",
              "  <svg xmlns=\"http://www.w3.org/2000/svg\" height=\"24px\"viewBox=\"0 0 24 24\"\n",
              "       width=\"24px\">\n",
              "    <path d=\"M0 0h24v24H0V0z\" fill=\"none\"/>\n",
              "    <path d=\"M18.56 5.44l.94 2.06.94-2.06 2.06-.94-2.06-.94-.94-2.06-.94 2.06-2.06.94zm-11 1L8.5 8.5l.94-2.06 2.06-.94-2.06-.94L8.5 2.5l-.94 2.06-2.06.94zm10 10l.94 2.06.94-2.06 2.06-.94-2.06-.94-.94-2.06-.94 2.06-2.06.94z\"/><path d=\"M17.41 7.96l-1.37-1.37c-.4-.4-.92-.59-1.43-.59-.52 0-1.04.2-1.43.59L10.3 9.45l-7.72 7.72c-.78.78-.78 2.05 0 2.83L4 21.41c.39.39.9.59 1.41.59.51 0 1.02-.2 1.41-.59l7.78-7.78 2.81-2.81c.8-.78.8-2.07 0-2.86zM5.41 20L4 18.59l7.72-7.72 1.47 1.35L5.41 20z\"/>\n",
              "  </svg>\n",
              "      </button>\n",
              "      \n",
              "  <style>\n",
              "    .colab-df-container {\n",
              "      display:flex;\n",
              "      flex-wrap:wrap;\n",
              "      gap: 12px;\n",
              "    }\n",
              "\n",
              "    .colab-df-convert {\n",
              "      background-color: #E8F0FE;\n",
              "      border: none;\n",
              "      border-radius: 50%;\n",
              "      cursor: pointer;\n",
              "      display: none;\n",
              "      fill: #1967D2;\n",
              "      height: 32px;\n",
              "      padding: 0 0 0 0;\n",
              "      width: 32px;\n",
              "    }\n",
              "\n",
              "    .colab-df-convert:hover {\n",
              "      background-color: #E2EBFA;\n",
              "      box-shadow: 0px 1px 2px rgba(60, 64, 67, 0.3), 0px 1px 3px 1px rgba(60, 64, 67, 0.15);\n",
              "      fill: #174EA6;\n",
              "    }\n",
              "\n",
              "    [theme=dark] .colab-df-convert {\n",
              "      background-color: #3B4455;\n",
              "      fill: #D2E3FC;\n",
              "    }\n",
              "\n",
              "    [theme=dark] .colab-df-convert:hover {\n",
              "      background-color: #434B5C;\n",
              "      box-shadow: 0px 1px 3px 1px rgba(0, 0, 0, 0.15);\n",
              "      filter: drop-shadow(0px 1px 2px rgba(0, 0, 0, 0.3));\n",
              "      fill: #FFFFFF;\n",
              "    }\n",
              "  </style>\n",
              "\n",
              "      <script>\n",
              "        const buttonEl =\n",
              "          document.querySelector('#df-95c1b05a-6732-4f4d-b316-10ca490fdfaa button.colab-df-convert');\n",
              "        buttonEl.style.display =\n",
              "          google.colab.kernel.accessAllowed ? 'block' : 'none';\n",
              "\n",
              "        async function convertToInteractive(key) {\n",
              "          const element = document.querySelector('#df-95c1b05a-6732-4f4d-b316-10ca490fdfaa');\n",
              "          const dataTable =\n",
              "            await google.colab.kernel.invokeFunction('convertToInteractive',\n",
              "                                                     [key], {});\n",
              "          if (!dataTable) return;\n",
              "\n",
              "          const docLinkHtml = 'Like what you see? Visit the ' +\n",
              "            '<a target=\"_blank\" href=https://colab.research.google.com/notebooks/data_table.ipynb>data table notebook</a>'\n",
              "            + ' to learn more about interactive tables.';\n",
              "          element.innerHTML = '';\n",
              "          dataTable['output_type'] = 'display_data';\n",
              "          await google.colab.output.renderOutput(dataTable, element);\n",
              "          const docLink = document.createElement('div');\n",
              "          docLink.innerHTML = docLinkHtml;\n",
              "          element.appendChild(docLink);\n",
              "        }\n",
              "      </script>\n",
              "    </div>\n",
              "  </div>\n",
              "  "
            ],
            "text/plain": [
              "                                                    0  \\\n",
              "Turbine_ID                                        T01   \n",
              "Timestamp                   2016-01-08 23:10:00+00:00   \n",
              "Gen_RPM_Avg                                    1495.0   \n",
              "Gen_RPM_Std                                      83.8   \n",
              "Hyd_Oil_Temp_Avg                                   29   \n",
              "Gear_Oil_Temp_Avg                                  49   \n",
              "Rtr_RPM_Avg                                      13.2   \n",
              "Amb_WindSpeed_Avg                                 7.1   \n",
              "Amb_WindSpeed_Std                                 1.2   \n",
              "Amb_WindDir_Relative_Avg                        -19.3   \n",
              "Amb_WindDir_Abs_Avg                             201.2   \n",
              "Prod_LatestAvg_ActPwrGen1                       98177   \n",
              "Prod_LatestAvg_TotActPwr                        98177   \n",
              "Prod_LatestAvg_TotReactPwr                     -24113   \n",
              "Blds_PitchAngle_Avg                              -2.0   \n",
              "Blds_PitchAngle_Std                               0.3   \n",
              "Grd_Prod_Pwr_Avg                                588.2   \n",
              "Grd_Prod_CosPhi_Avg                               1.0   \n",
              "Grd_Prod_Freq_Avg                                49.9   \n",
              "Grd_Prod_VoltPhse1_Avg                          400.4   \n",
              "Grd_Prod_VoltPhse2_Avg                          398.5   \n",
              "Grd_Prod_VoltPhse3_Avg                          398.8   \n",
              "Grd_Prod_CurPhse1_Avg                           489.2   \n",
              "Grd_Prod_CurPhse2_Avg                           521.6   \n",
              "Grd_Prod_CurPhse3_Avg                           498.6   \n",
              "Rtr_RPM_Std                                       0.7   \n",
              "Amb_WindSpeed_Est_Avg                             7.0   \n",
              "Grd_Prod_Pwr_Std                                144.4   \n",
              "Grd_Prod_ReactPwr_Avg                          -144.4   \n",
              "Grd_Prod_ReactPwr_Std                             6.1   \n",
              "Grd_Prod_PsblePwr_Avg                           588.1   \n",
              "Grd_Prod_PsblePwr_Std                           145.0   \n",
              "Grd_Prod_PsbleInd_Avg                         -1000.0   \n",
              "Grd_Prod_PsbleInd_Std                             0.0   \n",
              "Grd_Prod_PsbleCap_Avg                          1000.0   \n",
              "Grd_Prod_PsbleCap_Std                             0.0   \n",
              "Nac_Direction_Avg                               220.6   \n",
              "\n",
              "                                                    1  \\\n",
              "Turbine_ID                                        T01   \n",
              "Timestamp                   2016-01-09 00:10:00+00:00   \n",
              "Gen_RPM_Avg                                    1530.5   \n",
              "Gen_RPM_Std                                     103.1   \n",
              "Hyd_Oil_Temp_Avg                                   28   \n",
              "Gear_Oil_Temp_Avg                                  53   \n",
              "Rtr_RPM_Avg                                      13.6   \n",
              "Amb_WindSpeed_Avg                                 7.5   \n",
              "Amb_WindSpeed_Std                                 1.5   \n",
              "Amb_WindDir_Relative_Avg                        -15.4   \n",
              "Amb_WindDir_Abs_Avg                             212.6   \n",
              "Prod_LatestAvg_ActPwrGen1                      120935   \n",
              "Prod_LatestAvg_TotActPwr                       120935   \n",
              "Prod_LatestAvg_TotReactPwr                     -28146   \n",
              "Blds_PitchAngle_Avg                              -2.1   \n",
              "Blds_PitchAngle_Std                               0.3   \n",
              "Grd_Prod_Pwr_Avg                                727.3   \n",
              "Grd_Prod_CosPhi_Avg                               1.0   \n",
              "Grd_Prod_Freq_Avg                                50.0   \n",
              "Grd_Prod_VoltPhse1_Avg                          396.9   \n",
              "Grd_Prod_VoltPhse2_Avg                          395.1   \n",
              "Grd_Prod_VoltPhse3_Avg                          396.3   \n",
              "Grd_Prod_CurPhse1_Avg                           614.6   \n",
              "Grd_Prod_CurPhse2_Avg                           643.9   \n",
              "Grd_Prod_CurPhse3_Avg                           622.2   \n",
              "Rtr_RPM_Std                                       0.9   \n",
              "Amb_WindSpeed_Est_Avg                             7.5   \n",
              "Grd_Prod_Pwr_Std                                224.4   \n",
              "Grd_Prod_ReactPwr_Avg                          -168.9   \n",
              "Grd_Prod_ReactPwr_Std                            12.4   \n",
              "Grd_Prod_PsblePwr_Avg                           730.3   \n",
              "Grd_Prod_PsblePwr_Std                           228.5   \n",
              "Grd_Prod_PsbleInd_Avg                          -999.9   \n",
              "Grd_Prod_PsbleInd_Std                             2.3   \n",
              "Grd_Prod_PsbleCap_Avg                           998.8   \n",
              "Grd_Prod_PsbleCap_Std                            12.8   \n",
              "Nac_Direction_Avg                               228.0   \n",
              "\n",
              "                                                    2  \\\n",
              "Turbine_ID                                        T01   \n",
              "Timestamp                   2016-04-19 14:10:00+00:00   \n",
              "Gen_RPM_Avg                                    1550.5   \n",
              "Gen_RPM_Std                                      83.5   \n",
              "Hyd_Oil_Temp_Avg                                   42   \n",
              "Gear_Oil_Temp_Avg                                  54   \n",
              "Rtr_RPM_Avg                                      13.7   \n",
              "Amb_WindSpeed_Avg                                 7.7   \n",
              "Amb_WindSpeed_Std                                 1.5   \n",
              "Amb_WindDir_Relative_Avg                          0.6   \n",
              "Amb_WindDir_Abs_Avg                             138.5   \n",
              "Prod_LatestAvg_ActPwrGen1                      142022   \n",
              "Prod_LatestAvg_TotActPwr                       142022   \n",
              "Prod_LatestAvg_TotReactPwr                     -27091   \n",
              "Blds_PitchAngle_Avg                              -2.1   \n",
              "Blds_PitchAngle_Std                               0.3   \n",
              "Grd_Prod_Pwr_Avg                                853.9   \n",
              "Grd_Prod_CosPhi_Avg                               1.0   \n",
              "Grd_Prod_Freq_Avg                                50.0   \n",
              "Grd_Prod_VoltPhse1_Avg                          398.4   \n",
              "Grd_Prod_VoltPhse2_Avg                          396.8   \n",
              "Grd_Prod_VoltPhse3_Avg                          397.5   \n",
              "Grd_Prod_CurPhse1_Avg                           707.2   \n",
              "Grd_Prod_CurPhse2_Avg                           744.1   \n",
              "Grd_Prod_CurPhse3_Avg                           727.0   \n",
              "Rtr_RPM_Std                                       0.7   \n",
              "Amb_WindSpeed_Est_Avg                             7.9   \n",
              "Grd_Prod_Pwr_Std                                273.4   \n",
              "Grd_Prod_ReactPwr_Avg                          -162.6   \n",
              "Grd_Prod_ReactPwr_Std                             4.9   \n",
              "Grd_Prod_PsblePwr_Avg                           854.4   \n",
              "Grd_Prod_PsblePwr_Std                           274.0   \n",
              "Grd_Prod_PsbleInd_Avg                          -998.3   \n",
              "Grd_Prod_PsbleInd_Std                            19.4   \n",
              "Grd_Prod_PsbleCap_Avg                           989.7   \n",
              "Grd_Prod_PsbleCap_Std                            58.8   \n",
              "Nac_Direction_Avg                               137.9   \n",
              "\n",
              "                                                    3  \\\n",
              "Turbine_ID                                        T01   \n",
              "Timestamp                   2016-04-19 15:20:00+00:00   \n",
              "Gen_RPM_Avg                                    1269.1   \n",
              "Gen_RPM_Std                                      37.1   \n",
              "Hyd_Oil_Temp_Avg                                   38   \n",
              "Gear_Oil_Temp_Avg                                  50   \n",
              "Rtr_RPM_Avg                                      11.2   \n",
              "Amb_WindSpeed_Avg                                 4.7   \n",
              "Amb_WindSpeed_Std                                 1.1   \n",
              "Amb_WindDir_Relative_Avg                         10.3   \n",
              "Amb_WindDir_Abs_Avg                             149.2   \n",
              "Prod_LatestAvg_ActPwrGen1                       23179   \n",
              "Prod_LatestAvg_TotActPwr                        23179   \n",
              "Prod_LatestAvg_TotReactPwr                     -14681   \n",
              "Blds_PitchAngle_Avg                              -0.8   \n",
              "Blds_PitchAngle_Std                               0.8   \n",
              "Grd_Prod_Pwr_Avg                                139.1   \n",
              "Grd_Prod_CosPhi_Avg                               0.7   \n",
              "Grd_Prod_Freq_Avg                                50.0   \n",
              "Grd_Prod_VoltPhse1_Avg                          398.4   \n",
              "Grd_Prod_VoltPhse2_Avg                          396.8   \n",
              "Grd_Prod_VoltPhse3_Avg                          395.2   \n",
              "Grd_Prod_CurPhse1_Avg                           131.2   \n",
              "Grd_Prod_CurPhse2_Avg                           164.1   \n",
              "Grd_Prod_CurPhse3_Avg                           136.4   \n",
              "Rtr_RPM_Std                                       0.3   \n",
              "Amb_WindSpeed_Est_Avg                             4.6   \n",
              "Grd_Prod_Pwr_Std                                 93.7   \n",
              "Grd_Prod_ReactPwr_Avg                           -88.0   \n",
              "Grd_Prod_ReactPwr_Std                             8.4   \n",
              "Grd_Prod_PsblePwr_Avg                           138.7   \n",
              "Grd_Prod_PsblePwr_Std                            93.4   \n",
              "Grd_Prod_PsbleInd_Avg                          -591.5   \n",
              "Grd_Prod_PsbleInd_Std                           298.3   \n",
              "Grd_Prod_PsbleCap_Avg                           591.5   \n",
              "Grd_Prod_PsbleCap_Std                           298.3   \n",
              "Nac_Direction_Avg                               138.9   \n",
              "\n",
              "                                                    4  \n",
              "Turbine_ID                                        T01  \n",
              "Timestamp                   2016-04-19 16:20:00+00:00  \n",
              "Gen_RPM_Avg                                    1248.8  \n",
              "Gen_RPM_Std                                      49.8  \n",
              "Hyd_Oil_Temp_Avg                                   35  \n",
              "Gear_Oil_Temp_Avg                                  46  \n",
              "Rtr_RPM_Avg                                      11.1  \n",
              "Amb_WindSpeed_Avg                                 4.0  \n",
              "Amb_WindSpeed_Std                                 1.1  \n",
              "Amb_WindDir_Relative_Avg                        -14.5  \n",
              "Amb_WindDir_Abs_Avg                             167.5  \n",
              "Prod_LatestAvg_ActPwrGen1                       12343  \n",
              "Prod_LatestAvg_TotActPwr                        11860  \n",
              "Prod_LatestAvg_TotReactPwr                      -7705  \n",
              "Blds_PitchAngle_Avg                              -0.1  \n",
              "Blds_PitchAngle_Std                               0.8  \n",
              "Grd_Prod_Pwr_Avg                                 71.8  \n",
              "Grd_Prod_CosPhi_Avg                               0.7  \n",
              "Grd_Prod_Freq_Avg                                50.0  \n",
              "Grd_Prod_VoltPhse1_Avg                          398.0  \n",
              "Grd_Prod_VoltPhse2_Avg                          396.4  \n",
              "Grd_Prod_VoltPhse3_Avg                          394.7  \n",
              "Grd_Prod_CurPhse1_Avg                            92.7  \n",
              "Grd_Prod_CurPhse2_Avg                           116.8  \n",
              "Grd_Prod_CurPhse3_Avg                           100.2  \n",
              "Rtr_RPM_Std                                       0.5  \n",
              "Amb_WindSpeed_Est_Avg                             4.0  \n",
              "Grd_Prod_Pwr_Std                                 75.1  \n",
              "Grd_Prod_ReactPwr_Avg                           -46.0  \n",
              "Grd_Prod_ReactPwr_Std                           114.2  \n",
              "Grd_Prod_PsblePwr_Avg                            79.0  \n",
              "Grd_Prod_PsblePwr_Std                            68.6  \n",
              "Grd_Prod_PsbleInd_Avg                          -365.0  \n",
              "Grd_Prod_PsbleInd_Std                           327.9  \n",
              "Grd_Prod_PsbleCap_Avg                           365.0  \n",
              "Grd_Prod_PsbleCap_Std                           327.9  \n",
              "Nac_Direction_Avg                               182.0  "
            ]
          },
          "execution_count": 15,
          "metadata": {},
          "output_type": "execute_result"
        }
      ],
      "source": [
        "df.head().T"
      ]
    },
    {
      "cell_type": "markdown",
      "metadata": {
        "id": "ErCwJMKziPs8"
      },
      "source": [
        "**Visualising the data**"
      ]
    },
    {
      "cell_type": "markdown",
      "metadata": {
        "id": "NW5GpmUyd604"
      },
      "source": [
        "How is the Power Generation correlated to the windspeed?"
      ]
    },
    {
      "cell_type": "code",
      "execution_count": null,
      "metadata": {
        "colab": {
          "base_uri": "https://localhost:8080/",
          "height": 631
        },
        "id": "fspWAndZkYIp",
        "outputId": "89545b31-2b97-41ff-de4a-511da942664a"
      },
      "outputs": [
        {
          "data": {
            "text/plain": [
              "<matplotlib.axes._subplots.AxesSubplot at 0x7fe9067f5050>"
            ]
          },
          "execution_count": 16,
          "metadata": {},
          "output_type": "execute_result"
        },
        {
          "data": {
            "image/png": "[encoded data removed]",
            "text/plain": [
              "<Figure size 720x720 with 1 Axes>"
            ]
          },
          "metadata": {},
          "output_type": "display_data"
        }
      ],
      "source": [
        "#Scatter Plots\n",
        "fig_dims = (10, 10)\n",
        "fig, ax = plt.subplots(figsize=fig_dims)\n",
        "sns.scatterplot(data=df, x=\"Amb_WindSpeed_Avg\", y=\"Prod_LatestAvg_ActPwrGen1\")\n"
      ]
    },
    {
      "cell_type": "markdown",
      "metadata": {
        "id": "_HreoP_LV23g"
      },
      "source": [
        "We see a typical S-curve. However as the S is thin, it could be possible to implement linear models with Air speed as the unique input and Power generated as the only output."
      ]
    },
    {
      "cell_type": "markdown",
      "metadata": {
        "id": "9y2q5vrLNKoR"
      },
      "source": [
        "Here we see the theorical curve provided by the manufacturer, we can see that the shape of the curve is the same apart from some deviations that may appear for the real conditions"
      ]
    },
    {
      "cell_type": "code",
      "execution_count": null,
      "metadata": {
        "colab": {
          "base_uri": "https://localhost:8080/",
          "height": 206
        },
        "id": "J8_qxJxsUQVW",
        "outputId": "94a5abfb-d29d-4b61-f489-10fe4cb61d3f"
      },
      "outputs": [
        {
          "data": {
            "text/html": [
              "\n",
              "  <div id=\"df-721ae619-d89c-45ca-8832-173e495659ad\">\n",
              "    <div class=\"colab-df-container\">\n",
              "      <div>\n",
              "<style scoped>\n",
              "    .dataframe tbody tr th:only-of-type {\n",
              "        vertical-align: middle;\n",
              "    }\n",
              "\n",
              "    .dataframe tbody tr th {\n",
              "        vertical-align: top;\n",
              "    }\n",
              "\n",
              "    .dataframe thead th {\n",
              "        text-align: right;\n",
              "    }\n",
              "</style>\n",
              "<table border=\"1\" class=\"dataframe\">\n",
              "  <thead>\n",
              "    <tr style=\"text-align: right;\">\n",
              "      <th></th>\n",
              "      <th>Amb_WindSpeed_Avg</th>\n",
              "      <th>Grd_Prod_Pwr_Avg</th>\n",
              "    </tr>\n",
              "  </thead>\n",
              "  <tbody>\n",
              "    <tr>\n",
              "      <th>0</th>\n",
              "      <td>4.0</td>\n",
              "      <td>89</td>\n",
              "    </tr>\n",
              "    <tr>\n",
              "      <th>1</th>\n",
              "      <td>4.5</td>\n",
              "      <td>142</td>\n",
              "    </tr>\n",
              "    <tr>\n",
              "      <th>2</th>\n",
              "      <td>5.0</td>\n",
              "      <td>204</td>\n",
              "    </tr>\n",
              "    <tr>\n",
              "      <th>3</th>\n",
              "      <td>5.5</td>\n",
              "      <td>279</td>\n",
              "    </tr>\n",
              "    <tr>\n",
              "      <th>4</th>\n",
              "      <td>6.0</td>\n",
              "      <td>368</td>\n",
              "    </tr>\n",
              "  </tbody>\n",
              "</table>\n",
              "</div>\n",
              "      <button class=\"colab-df-convert\" onclick=\"convertToInteractive('df-721ae619-d89c-45ca-8832-173e495659ad')\"\n",
              "              title=\"Convert this dataframe to an interactive table.\"\n",
              "              style=\"display:none;\">\n",
              "        \n",
              "  <svg xmlns=\"http://www.w3.org/2000/svg\" height=\"24px\"viewBox=\"0 0 24 24\"\n",
              "       width=\"24px\">\n",
              "    <path d=\"M0 0h24v24H0V0z\" fill=\"none\"/>\n",
              "    <path d=\"M18.56 5.44l.94 2.06.94-2.06 2.06-.94-2.06-.94-.94-2.06-.94 2.06-2.06.94zm-11 1L8.5 8.5l.94-2.06 2.06-.94-2.06-.94L8.5 2.5l-.94 2.06-2.06.94zm10 10l.94 2.06.94-2.06 2.06-.94-2.06-.94-.94-2.06-.94 2.06-2.06.94z\"/><path d=\"M17.41 7.96l-1.37-1.37c-.4-.4-.92-.59-1.43-.59-.52 0-1.04.2-1.43.59L10.3 9.45l-7.72 7.72c-.78.78-.78 2.05 0 2.83L4 21.41c.39.39.9.59 1.41.59.51 0 1.02-.2 1.41-.59l7.78-7.78 2.81-2.81c.8-.78.8-2.07 0-2.86zM5.41 20L4 18.59l7.72-7.72 1.47 1.35L5.41 20z\"/>\n",
              "  </svg>\n",
              "      </button>\n",
              "      \n",
              "  <style>\n",
              "    .colab-df-container {\n",
              "      display:flex;\n",
              "      flex-wrap:wrap;\n",
              "      gap: 12px;\n",
              "    }\n",
              "\n",
              "    .colab-df-convert {\n",
              "      background-color: #E8F0FE;\n",
              "      border: none;\n",
              "      border-radius: 50%;\n",
              "      cursor: pointer;\n",
              "      display: none;\n",
              "      fill: #1967D2;\n",
              "      height: 32px;\n",
              "      padding: 0 0 0 0;\n",
              "      width: 32px;\n",
              "    }\n",
              "\n",
              "    .colab-df-convert:hover {\n",
              "      background-color: #E2EBFA;\n",
              "      box-shadow: 0px 1px 2px rgba(60, 64, 67, 0.3), 0px 1px 3px 1px rgba(60, 64, 67, 0.15);\n",
              "      fill: #174EA6;\n",
              "    }\n",
              "\n",
              "    [theme=dark] .colab-df-convert {\n",
              "      background-color: #3B4455;\n",
              "      fill: #D2E3FC;\n",
              "    }\n",
              "\n",
              "    [theme=dark] .colab-df-convert:hover {\n",
              "      background-color: #434B5C;\n",
              "      box-shadow: 0px 1px 3px 1px rgba(0, 0, 0, 0.15);\n",
              "      filter: drop-shadow(0px 1px 2px rgba(0, 0, 0, 0.3));\n",
              "      fill: #FFFFFF;\n",
              "    }\n",
              "  </style>\n",
              "\n",
              "      <script>\n",
              "        const buttonEl =\n",
              "          document.querySelector('#df-721ae619-d89c-45ca-8832-173e495659ad button.colab-df-convert');\n",
              "        buttonEl.style.display =\n",
              "          google.colab.kernel.accessAllowed ? 'block' : 'none';\n",
              "\n",
              "        async function convertToInteractive(key) {\n",
              "          const element = document.querySelector('#df-721ae619-d89c-45ca-8832-173e495659ad');\n",
              "          const dataTable =\n",
              "            await google.colab.kernel.invokeFunction('convertToInteractive',\n",
              "                                                     [key], {});\n",
              "          if (!dataTable) return;\n",
              "\n",
              "          const docLinkHtml = 'Like what you see? Visit the ' +\n",
              "            '<a target=\"_blank\" href=https://colab.research.google.com/notebooks/data_table.ipynb>data table notebook</a>'\n",
              "            + ' to learn more about interactive tables.';\n",
              "          element.innerHTML = '';\n",
              "          dataTable['output_type'] = 'display_data';\n",
              "          await google.colab.output.renderOutput(dataTable, element);\n",
              "          const docLink = document.createElement('div');\n",
              "          docLink.innerHTML = docLinkHtml;\n",
              "          element.appendChild(docLink);\n",
              "        }\n",
              "      </script>\n",
              "    </div>\n",
              "  </div>\n",
              "  "
            ],
            "text/plain": [
              "   Amb_WindSpeed_Avg  Grd_Prod_Pwr_Avg\n",
              "0                4.0                89\n",
              "1                4.5               142\n",
              "2                5.0               204\n",
              "3                5.5               279\n",
              "4                6.0               368"
            ]
          },
          "execution_count": 17,
          "metadata": {},
          "output_type": "execute_result"
        }
      ],
      "source": [
        "WTcat = pd.read_excel(\"Cathalog_data.xlsx\") #'/content/drive/MyDrive/Cathalog_data.xlsx'\n",
        "WTcat.head()"
      ]
    },
    {
      "cell_type": "code",
      "execution_count": null,
      "metadata": {
        "colab": {
          "base_uri": "https://localhost:8080/",
          "height": 628
        },
        "id": "ix5KSqEVNJEL",
        "outputId": "2372919d-0876-4c9b-e0f7-996218722886"
      },
      "outputs": [
        {
          "data": {
            "text/plain": [
              "<matplotlib.axes._subplots.AxesSubplot at 0x7fe903aadc90>"
            ]
          },
          "execution_count": 18,
          "metadata": {},
          "output_type": "execute_result"
        },
        {
          "data": {
            "image/png": "[encoded data removed]",
            "text/plain": [
              "<Figure size 720x720 with 1 Axes>"
            ]
          },
          "metadata": {},
          "output_type": "display_data"
        }
      ],
      "source": [
        "fig_dims = (10, 10)\n",
        "fig, ax = plt.subplots(figsize=fig_dims)\n",
        "# WTcatax=WTcat.plot.scatter(x='Amb_WindSpeed_Avg',y='Grd_Prod_Pwr_Avg',c='Purple')\n",
        "sns.scatterplot(data=WTcat, x=\"Amb_WindSpeed_Avg\", y=\"Grd_Prod_Pwr_Avg\")   \n"
      ]
    },
    {
      "cell_type": "markdown",
      "metadata": {
        "id": "IpwQBY4pN9ve"
      },
      "source": [
        "On the next plot we can se how the generator speed is \n",
        "related with the energy production"
      ]
    },
    {
      "cell_type": "code",
      "execution_count": null,
      "metadata": {
        "colab": {
          "base_uri": "https://localhost:8080/",
          "height": 306
        },
        "id": "lk22AwR0fm1S",
        "outputId": "83dc7e92-fd7a-42b2-f922-9a547e8fb49f"
      },
      "outputs": [
        {
          "data": {
            "text/plain": [
              "<matplotlib.axes._subplots.AxesSubplot at 0x7fe903a31110>"
            ]
          },
          "execution_count": 19,
          "metadata": {},
          "output_type": "execute_result"
        },
        {
          "data": {
            "image/png": "[encoded data removed]",
            "text/plain": [
              "<Figure size 432x288 with 1 Axes>"
            ]
          },
          "metadata": {},
          "output_type": "display_data"
        }
      ],
      "source": [
        "fig_dims = (6, 4)\n",
        "fig, ax = plt.subplots(figsize=fig_dims)               \n",
        "sns.scatterplot(data=df, x=\"Gen_RPM_Avg\", y=\"Prod_LatestAvg_ActPwrGen1\")   "
      ]
    },
    {
      "cell_type": "markdown",
      "metadata": {
        "id": "o_7o7mYY_Hdr"
      },
      "source": [
        "# Data Cleaning"
      ]
    },
    {
      "cell_type": "markdown",
      "metadata": {
        "id": "fi-bCFr5V7SI"
      },
      "source": [
        "**Remove Outliers**"
      ]
    },
    {
      "cell_type": "markdown",
      "metadata": {
        "id": "0E7kU5z8WXC7"
      },
      "source": [
        "We only want the positive generated power in our data thats why we remove all the negatives ones.\n",
        "And because the graph shows a very unrealistic straight line a the top of the graph we remove the values over 333000 aswell."
      ]
    },
    {
      "cell_type": "code",
      "execution_count": null,
      "metadata": {
        "colab": {
          "base_uri": "https://localhost:8080/"
        },
        "id": "xSeWt5gMWbKL",
        "outputId": "8f1def96-0b95-4791-ee5c-d1c8e7541207"
      },
      "outputs": [
        {
          "data": {
            "text/plain": [
              "31096      -369\n",
              "20929      -344\n",
              "8376       -317\n",
              "51343      -301\n",
              "34984      -278\n",
              "          ...  \n",
              "9366     333844\n",
              "4410     333848\n",
              "48415    333848\n",
              "12581    333849\n",
              "13171    333853\n",
              "Name: Prod_LatestAvg_ActPwrGen1, Length: 52433, dtype: int64"
            ]
          },
          "execution_count": 20,
          "metadata": {},
          "output_type": "execute_result"
        }
      ],
      "source": [
        "df[\"Prod_LatestAvg_ActPwrGen1\"].sort_values() "
      ]
    },
    {
      "cell_type": "code",
      "execution_count": null,
      "metadata": {
        "id": "VYmtipcjWgbB"
      },
      "outputs": [],
      "source": [
        "df = df[df[\"Prod_LatestAvg_ActPwrGen1\"]>0]\n"
      ]
    },
    {
      "cell_type": "code",
      "execution_count": null,
      "metadata": {
        "id": "fp-AW17FW7zg"
      },
      "outputs": [],
      "source": [
        "df = df[df[\"Prod_LatestAvg_ActPwrGen1\"]<333000]"
      ]
    },
    {
      "cell_type": "code",
      "execution_count": null,
      "metadata": {
        "colab": {
          "base_uri": "https://localhost:8080/",
          "height": 628
        },
        "id": "jDgHiuy1WrBa",
        "outputId": "9b684982-b9d1-4649-e8e4-8464c521b892"
      },
      "outputs": [
        {
          "data": {
            "text/plain": [
              "<matplotlib.axes._subplots.AxesSubplot at 0x7fe9039c5190>"
            ]
          },
          "execution_count": 23,
          "metadata": {},
          "output_type": "execute_result"
        },
        {
          "data": {
            "image/png": "[encoded data removed]",
            "text/plain": [
              "<Figure size 720x720 with 1 Axes>"
            ]
          },
          "metadata": {},
          "output_type": "display_data"
        }
      ],
      "source": [
        "fig_dims = (10, 10)\n",
        "fig, ax = plt.subplots(figsize=fig_dims)\n",
        "sns.scatterplot(data=df, x=\"Amb_WindSpeed_Avg\", y=\"Prod_LatestAvg_ActPwrGen1\")"
      ]
    },
    {
      "cell_type": "code",
      "execution_count": null,
      "metadata": {
        "colab": {
          "base_uri": "https://localhost:8080/",
          "height": 356
        },
        "id": "ZsLSb8f1YGu6",
        "outputId": "6d5045da-3ee8-46eb-f325-d813724b8b52"
      },
      "outputs": [
        {
          "data": {
            "text/plain": [
              "<matplotlib.axes._subplots.AxesSubplot at 0x7fe90393d610>"
            ]
          },
          "execution_count": 24,
          "metadata": {},
          "output_type": "execute_result"
        },
        {
          "data": {
            "image/png": "[encoded data removed]",
            "text/plain": [
              "<Figure size 360x360 with 1 Axes>"
            ]
          },
          "metadata": {},
          "output_type": "display_data"
        }
      ],
      "source": [
        "fig_dims = (5, 5)\n",
        "fig, ax = plt.subplots(figsize=fig_dims)               \n",
        "sns.scatterplot(data=df, x=\"Gen_RPM_Avg\", y=\"Prod_LatestAvg_ActPwrGen1\")"
      ]
    },
    {
      "cell_type": "markdown",
      "metadata": {
        "id": "ZsC7DkqTTUI3"
      },
      "source": [
        "**Feature Engineering**"
      ]
    },
    {
      "cell_type": "markdown",
      "metadata": {
        "id": "mXj33w-dNAi2"
      },
      "source": [
        "First we want to split up the Timestamp column, so that we can distinguish between daytime or nighttime for example. In the dummies part we can then get each time as a column to see if any specific time has influence on the model. For example 15:00 "
      ]
    },
    {
      "cell_type": "code",
      "execution_count": null,
      "metadata": {
        "id": "__leonWhN_TT"
      },
      "outputs": [],
      "source": [
        "df['Date'] = pd.to_datetime(df['Timestamp']).dt.date\n",
        "df['Time'] = pd.to_datetime(df['Timestamp']).dt.time\n",
        "# https://stackoverflow.com/questions/35595710/splitting-timestamp-column-into-separate-date-and-time-columns\n"
      ]
    },
    {
      "cell_type": "code",
      "execution_count": null,
      "metadata": {
        "colab": {
          "base_uri": "https://localhost:8080/"
        },
        "id": "4kKCFjH3ONrv",
        "outputId": "532bb4a9-fbfb-4c0c-e544-c3813d98f106"
      },
      "outputs": [
        {
          "data": {
            "text/plain": [
              "0    2016-01-08\n",
              "1    2016-01-09\n",
              "2    2016-04-19\n",
              "3    2016-04-19\n",
              "4    2016-04-19\n",
              "Name: Date, dtype: object"
            ]
          },
          "execution_count": 26,
          "metadata": {},
          "output_type": "execute_result"
        }
      ],
      "source": [
        "df[\"Date\"].head()"
      ]
    },
    {
      "cell_type": "code",
      "execution_count": null,
      "metadata": {
        "colab": {
          "base_uri": "https://localhost:8080/"
        },
        "id": "bApOk5UHORty",
        "outputId": "b030d246-4e8b-4919-fa4e-803413ca4997"
      },
      "outputs": [
        {
          "data": {
            "text/plain": [
              "0    23:10:00\n",
              "1    00:10:00\n",
              "2    14:10:00\n",
              "3    15:20:00\n",
              "4    16:20:00\n",
              "Name: Time, dtype: object"
            ]
          },
          "execution_count": 27,
          "metadata": {},
          "output_type": "execute_result"
        }
      ],
      "source": [
        "df[\"Time\"].head()"
      ]
    },
    {
      "cell_type": "markdown",
      "metadata": {
        "id": "oUBVTAq5Od33"
      },
      "source": [
        "After that we won't need the \"Timestamp\" column anymore"
      ]
    },
    {
      "cell_type": "code",
      "execution_count": null,
      "metadata": {
        "id": "N1g8sYXHOZ0h"
      },
      "outputs": [],
      "source": [
        "df.drop([\"Timestamp\"], axis=1, inplace=True)"
      ]
    },
    {
      "cell_type": "markdown",
      "metadata": {
        "id": "RFAcpcbiQI5O"
      },
      "source": [
        "Because the data is from one single turbine, we don't need the columne \"Turbine_ID\" anymore."
      ]
    },
    {
      "cell_type": "code",
      "execution_count": null,
      "metadata": {
        "id": "8tiHbHJDQRCC"
      },
      "outputs": [],
      "source": [
        "df.drop([\"Turbine_ID\"], axis=1, inplace=True)"
      ]
    },
    {
      "cell_type": "code",
      "execution_count": null,
      "metadata": {
        "colab": {
          "base_uri": "https://localhost:8080/",
          "height": 240
        },
        "id": "WRF5q9_7QbgF",
        "outputId": "da7374ff-4be4-450f-db11-9fb4ffef95ed"
      },
      "outputs": [
        {
          "data": {
            "text/html": [
              "\n",
              "  <div id=\"df-d9382532-7227-469a-8f48-ed0e3af71f7a\">\n",
              "    <div class=\"colab-df-container\">\n",
              "      <div>\n",
              "<style scoped>\n",
              "    .dataframe tbody tr th:only-of-type {\n",
              "        vertical-align: middle;\n",
              "    }\n",
              "\n",
              "    .dataframe tbody tr th {\n",
              "        vertical-align: top;\n",
              "    }\n",
              "\n",
              "    .dataframe thead th {\n",
              "        text-align: right;\n",
              "    }\n",
              "</style>\n",
              "<table border=\"1\" class=\"dataframe\">\n",
              "  <thead>\n",
              "    <tr style=\"text-align: right;\">\n",
              "      <th></th>\n",
              "      <th>Gen_RPM_Avg</th>\n",
              "      <th>Gen_RPM_Std</th>\n",
              "      <th>Hyd_Oil_Temp_Avg</th>\n",
              "      <th>Gear_Oil_Temp_Avg</th>\n",
              "      <th>Rtr_RPM_Avg</th>\n",
              "      <th>Amb_WindSpeed_Avg</th>\n",
              "      <th>Amb_WindSpeed_Std</th>\n",
              "      <th>Amb_WindDir_Relative_Avg</th>\n",
              "      <th>Amb_WindDir_Abs_Avg</th>\n",
              "      <th>Prod_LatestAvg_ActPwrGen1</th>\n",
              "      <th>...</th>\n",
              "      <th>Grd_Prod_ReactPwr_Std</th>\n",
              "      <th>Grd_Prod_PsblePwr_Avg</th>\n",
              "      <th>Grd_Prod_PsblePwr_Std</th>\n",
              "      <th>Grd_Prod_PsbleInd_Avg</th>\n",
              "      <th>Grd_Prod_PsbleInd_Std</th>\n",
              "      <th>Grd_Prod_PsbleCap_Avg</th>\n",
              "      <th>Grd_Prod_PsbleCap_Std</th>\n",
              "      <th>Nac_Direction_Avg</th>\n",
              "      <th>Date</th>\n",
              "      <th>Time</th>\n",
              "    </tr>\n",
              "  </thead>\n",
              "  <tbody>\n",
              "    <tr>\n",
              "      <th>0</th>\n",
              "      <td>1495.0</td>\n",
              "      <td>83.8</td>\n",
              "      <td>29</td>\n",
              "      <td>49</td>\n",
              "      <td>13.2</td>\n",
              "      <td>7.1</td>\n",
              "      <td>1.2</td>\n",
              "      <td>-19.3</td>\n",
              "      <td>201.2</td>\n",
              "      <td>98177</td>\n",
              "      <td>...</td>\n",
              "      <td>6.1</td>\n",
              "      <td>588.1</td>\n",
              "      <td>145.0</td>\n",
              "      <td>-1000.0</td>\n",
              "      <td>0.0</td>\n",
              "      <td>1000.0</td>\n",
              "      <td>0.0</td>\n",
              "      <td>220.6</td>\n",
              "      <td>2016-01-08</td>\n",
              "      <td>23:10:00</td>\n",
              "    </tr>\n",
              "    <tr>\n",
              "      <th>1</th>\n",
              "      <td>1530.5</td>\n",
              "      <td>103.1</td>\n",
              "      <td>28</td>\n",
              "      <td>53</td>\n",
              "      <td>13.6</td>\n",
              "      <td>7.5</td>\n",
              "      <td>1.5</td>\n",
              "      <td>-15.4</td>\n",
              "      <td>212.6</td>\n",
              "      <td>120935</td>\n",
              "      <td>...</td>\n",
              "      <td>12.4</td>\n",
              "      <td>730.3</td>\n",
              "      <td>228.5</td>\n",
              "      <td>-999.9</td>\n",
              "      <td>2.3</td>\n",
              "      <td>998.8</td>\n",
              "      <td>12.8</td>\n",
              "      <td>228.0</td>\n",
              "      <td>2016-01-09</td>\n",
              "      <td>00:10:00</td>\n",
              "    </tr>\n",
              "  </tbody>\n",
              "</table>\n",
              "<p>2 rows × 37 columns</p>\n",
              "</div>\n",
              "      <button class=\"colab-df-convert\" onclick=\"convertToInteractive('df-d9382532-7227-469a-8f48-ed0e3af71f7a')\"\n",
              "              title=\"Convert this dataframe to an interactive table.\"\n",
              "              style=\"display:none;\">\n",
              "        \n",
              "  <svg xmlns=\"http://www.w3.org/2000/svg\" height=\"24px\"viewBox=\"0 0 24 24\"\n",
              "       width=\"24px\">\n",
              "    <path d=\"M0 0h24v24H0V0z\" fill=\"none\"/>\n",
              "    <path d=\"M18.56 5.44l.94 2.06.94-2.06 2.06-.94-2.06-.94-.94-2.06-.94 2.06-2.06.94zm-11 1L8.5 8.5l.94-2.06 2.06-.94-2.06-.94L8.5 2.5l-.94 2.06-2.06.94zm10 10l.94 2.06.94-2.06 2.06-.94-2.06-.94-.94-2.06-.94 2.06-2.06.94z\"/><path d=\"M17.41 7.96l-1.37-1.37c-.4-.4-.92-.59-1.43-.59-.52 0-1.04.2-1.43.59L10.3 9.45l-7.72 7.72c-.78.78-.78 2.05 0 2.83L4 21.41c.39.39.9.59 1.41.59.51 0 1.02-.2 1.41-.59l7.78-7.78 2.81-2.81c.8-.78.8-2.07 0-2.86zM5.41 20L4 18.59l7.72-7.72 1.47 1.35L5.41 20z\"/>\n",
              "  </svg>\n",
              "      </button>\n",
              "      \n",
              "  <style>\n",
              "    .colab-df-container {\n",
              "      display:flex;\n",
              "      flex-wrap:wrap;\n",
              "      gap: 12px;\n",
              "    }\n",
              "\n",
              "    .colab-df-convert {\n",
              "      background-color: #E8F0FE;\n",
              "      border: none;\n",
              "      border-radius: 50%;\n",
              "      cursor: pointer;\n",
              "      display: none;\n",
              "      fill: #1967D2;\n",
              "      height: 32px;\n",
              "      padding: 0 0 0 0;\n",
              "      width: 32px;\n",
              "    }\n",
              "\n",
              "    .colab-df-convert:hover {\n",
              "      background-color: #E2EBFA;\n",
              "      box-shadow: 0px 1px 2px rgba(60, 64, 67, 0.3), 0px 1px 3px 1px rgba(60, 64, 67, 0.15);\n",
              "      fill: #174EA6;\n",
              "    }\n",
              "\n",
              "    [theme=dark] .colab-df-convert {\n",
              "      background-color: #3B4455;\n",
              "      fill: #D2E3FC;\n",
              "    }\n",
              "\n",
              "    [theme=dark] .colab-df-convert:hover {\n",
              "      background-color: #434B5C;\n",
              "      box-shadow: 0px 1px 3px 1px rgba(0, 0, 0, 0.15);\n",
              "      filter: drop-shadow(0px 1px 2px rgba(0, 0, 0, 0.3));\n",
              "      fill: #FFFFFF;\n",
              "    }\n",
              "  </style>\n",
              "\n",
              "      <script>\n",
              "        const buttonEl =\n",
              "          document.querySelector('#df-d9382532-7227-469a-8f48-ed0e3af71f7a button.colab-df-convert');\n",
              "        buttonEl.style.display =\n",
              "          google.colab.kernel.accessAllowed ? 'block' : 'none';\n",
              "\n",
              "        async function convertToInteractive(key) {\n",
              "          const element = document.querySelector('#df-d9382532-7227-469a-8f48-ed0e3af71f7a');\n",
              "          const dataTable =\n",
              "            await google.colab.kernel.invokeFunction('convertToInteractive',\n",
              "                                                     [key], {});\n",
              "          if (!dataTable) return;\n",
              "\n",
              "          const docLinkHtml = 'Like what you see? Visit the ' +\n",
              "            '<a target=\"_blank\" href=https://colab.research.google.com/notebooks/data_table.ipynb>data table notebook</a>'\n",
              "            + ' to learn more about interactive tables.';\n",
              "          element.innerHTML = '';\n",
              "          dataTable['output_type'] = 'display_data';\n",
              "          await google.colab.output.renderOutput(dataTable, element);\n",
              "          const docLink = document.createElement('div');\n",
              "          docLink.innerHTML = docLinkHtml;\n",
              "          element.appendChild(docLink);\n",
              "        }\n",
              "      </script>\n",
              "    </div>\n",
              "  </div>\n",
              "  "
            ],
            "text/plain": [
              "   Gen_RPM_Avg  Gen_RPM_Std  Hyd_Oil_Temp_Avg  Gear_Oil_Temp_Avg  Rtr_RPM_Avg  \\\n",
              "0       1495.0         83.8                29                 49         13.2   \n",
              "1       1530.5        103.1                28                 53         13.6   \n",
              "\n",
              "   Amb_WindSpeed_Avg  Amb_WindSpeed_Std  Amb_WindDir_Relative_Avg  \\\n",
              "0                7.1                1.2                     -19.3   \n",
              "1                7.5                1.5                     -15.4   \n",
              "\n",
              "   Amb_WindDir_Abs_Avg  Prod_LatestAvg_ActPwrGen1  ...  Grd_Prod_ReactPwr_Std  \\\n",
              "0                201.2                      98177  ...                    6.1   \n",
              "1                212.6                     120935  ...                   12.4   \n",
              "\n",
              "   Grd_Prod_PsblePwr_Avg  Grd_Prod_PsblePwr_Std  Grd_Prod_PsbleInd_Avg  \\\n",
              "0                  588.1                  145.0                -1000.0   \n",
              "1                  730.3                  228.5                 -999.9   \n",
              "\n",
              "   Grd_Prod_PsbleInd_Std  Grd_Prod_PsbleCap_Avg  Grd_Prod_PsbleCap_Std  \\\n",
              "0                    0.0                 1000.0                    0.0   \n",
              "1                    2.3                  998.8                   12.8   \n",
              "\n",
              "   Nac_Direction_Avg        Date      Time  \n",
              "0              220.6  2016-01-08  23:10:00  \n",
              "1              228.0  2016-01-09  00:10:00  \n",
              "\n",
              "[2 rows x 37 columns]"
            ]
          },
          "execution_count": 30,
          "metadata": {},
          "output_type": "execute_result"
        }
      ],
      "source": [
        "df.head(2)"
      ]
    },
    {
      "cell_type": "markdown",
      "metadata": {
        "id": "aN1cXCCNTvGV"
      },
      "source": [
        "Correlation Matrix"
      ]
    },
    {
      "cell_type": "code",
      "execution_count": null,
      "metadata": {
        "id": "okvaWuFKToqR"
      },
      "outputs": [],
      "source": [
        "correlation_matrix = df.corr()"
      ]
    },
    {
      "cell_type": "code",
      "execution_count": null,
      "metadata": {
        "colab": {
          "base_uri": "https://localhost:8080/"
        },
        "id": "kfCGy3reUKcY",
        "outputId": "48945eb2-9abd-48b8-d06a-e953c65a5773"
      },
      "outputs": [
        {
          "data": {
            "text/plain": [
              "Prod_LatestAvg_ActPwrGen1     1.000000\n",
              "Prod_LatestAvg_TotActPwr      0.999993\n",
              "Grd_Prod_Pwr_Avg              0.999992\n",
              "Grd_Prod_CurPhse2_Avg         0.999220\n",
              "Grd_Prod_CurPhse3_Avg         0.998964\n",
              "Grd_Prod_CurPhse1_Avg         0.998952\n",
              "Grd_Prod_PsblePwr_Avg         0.994896\n",
              "Amb_WindSpeed_Est_Avg         0.972649\n",
              "Amb_WindSpeed_Avg             0.970388\n",
              "Amb_WindSpeed_Std             0.811095\n",
              "Gen_RPM_Avg                   0.795876\n",
              "Rtr_RPM_Avg                   0.793368\n",
              "Grd_Prod_VoltPhse3_Avg        0.761333\n",
              "Gear_Oil_Temp_Avg             0.668167\n",
              "Grd_Prod_CosPhi_Avg           0.642792\n",
              "Hyd_Oil_Temp_Avg              0.582938\n",
              "Grd_Prod_PsblePwr_Std         0.565015\n",
              "Grd_Prod_Pwr_Std              0.553802\n",
              "Grd_Prod_PsbleCap_Avg         0.167839\n",
              "Amb_WindDir_Relative_Avg     -0.002188\n",
              "Grd_Prod_Freq_Avg            -0.011541\n",
              "Grd_Prod_VoltPhse1_Avg       -0.055498\n",
              "Blds_PitchAngle_Avg          -0.057349\n",
              "Grd_Prod_PsbleCap_Std        -0.097166\n",
              "Grd_Prod_VoltPhse2_Avg       -0.126614\n",
              "Blds_PitchAngle_Std          -0.142920\n",
              "Grd_Prod_PsbleInd_Std        -0.193822\n",
              "Amb_WindDir_Abs_Avg          -0.263769\n",
              "Nac_Direction_Avg            -0.271420\n",
              "Gen_RPM_Std                  -0.338010\n",
              "Rtr_RPM_Std                  -0.338781\n",
              "Grd_Prod_PsbleInd_Avg        -0.373411\n",
              "Grd_Prod_ReactPwr_Std        -0.382787\n",
              "Grd_Prod_ReactPwr_Avg        -0.828177\n",
              "Prod_LatestAvg_TotReactPwr   -0.828370\n",
              "Name: Prod_LatestAvg_ActPwrGen1, dtype: float64"
            ]
          },
          "execution_count": 32,
          "metadata": {},
          "output_type": "execute_result"
        }
      ],
      "source": [
        "correlation_matrix['Prod_LatestAvg_ActPwrGen1'].sort_values(ascending=False)"
      ]
    },
    {
      "cell_type": "markdown",
      "metadata": {
        "id": "UBMRi_TZVMm7"
      },
      "source": [
        "We are removing the values over 0.99 correlation because they would be basically the same value like the produced power (1.00)\n",
        "Maybe Simon can give a better technical reasoning for this :D"
      ]
    },
    {
      "cell_type": "code",
      "execution_count": null,
      "metadata": {
        "id": "pxro5EzRVy0M"
      },
      "outputs": [],
      "source": [
        "df.drop([\"Prod_LatestAvg_TotActPwr\", \"Grd_Prod_Pwr_Avg\", \"Grd_Prod_CurPhse1_Avg\", \"Grd_Prod_CurPhse3_Avg\", \"Grd_Prod_CurPhse2_Avg\", \"Grd_Prod_PsblePwr_Avg\" ], axis=1, inplace=True)"
      ]
    },
    {
      "cell_type": "code",
      "execution_count": null,
      "metadata": {
        "id": "WdsE57j6WcHP"
      },
      "outputs": [],
      "source": [
        "correlation_matrix = df.corr()"
      ]
    },
    {
      "cell_type": "code",
      "execution_count": null,
      "metadata": {
        "colab": {
          "base_uri": "https://localhost:8080/"
        },
        "id": "YBnO2lsmWf78",
        "outputId": "5f2743de-0da9-40ea-dbc5-9b7099868874"
      },
      "outputs": [
        {
          "data": {
            "text/plain": [
              "Prod_LatestAvg_ActPwrGen1     1.000000\n",
              "Amb_WindSpeed_Est_Avg         0.972649\n",
              "Amb_WindSpeed_Avg             0.970388\n",
              "Amb_WindSpeed_Std             0.811095\n",
              "Gen_RPM_Avg                   0.795876\n",
              "Rtr_RPM_Avg                   0.793368\n",
              "Grd_Prod_VoltPhse3_Avg        0.761333\n",
              "Gear_Oil_Temp_Avg             0.668167\n",
              "Grd_Prod_CosPhi_Avg           0.642792\n",
              "Hyd_Oil_Temp_Avg              0.582938\n",
              "Grd_Prod_PsblePwr_Std         0.565015\n",
              "Grd_Prod_Pwr_Std              0.553802\n",
              "Grd_Prod_PsbleCap_Avg         0.167839\n",
              "Amb_WindDir_Relative_Avg     -0.002188\n",
              "Grd_Prod_Freq_Avg            -0.011541\n",
              "Grd_Prod_VoltPhse1_Avg       -0.055498\n",
              "Blds_PitchAngle_Avg          -0.057349\n",
              "Grd_Prod_PsbleCap_Std        -0.097166\n",
              "Grd_Prod_VoltPhse2_Avg       -0.126614\n",
              "Blds_PitchAngle_Std          -0.142920\n",
              "Grd_Prod_PsbleInd_Std        -0.193822\n",
              "Amb_WindDir_Abs_Avg          -0.263769\n",
              "Nac_Direction_Avg            -0.271420\n",
              "Gen_RPM_Std                  -0.338010\n",
              "Rtr_RPM_Std                  -0.338781\n",
              "Grd_Prod_PsbleInd_Avg        -0.373411\n",
              "Grd_Prod_ReactPwr_Std        -0.382787\n",
              "Grd_Prod_ReactPwr_Avg        -0.828177\n",
              "Prod_LatestAvg_TotReactPwr   -0.828370\n",
              "Name: Prod_LatestAvg_ActPwrGen1, dtype: float64"
            ]
          },
          "execution_count": 35,
          "metadata": {},
          "output_type": "execute_result"
        }
      ],
      "source": [
        "correlation_matrix['Prod_LatestAvg_ActPwrGen1'].sort_values(ascending=False)"
      ]
    },
    {
      "cell_type": "markdown",
      "metadata": {
        "id": "IYu3hEddW7K4"
      },
      "source": [
        "The windspeed has the highest correlation to our predictiong goal"
      ]
    },
    {
      "cell_type": "markdown",
      "metadata": {
        "id": "y9cwq_UXRkiO"
      },
      "source": [
        "**Change \"obecjt type\" data to \"categorical\"**"
      ]
    },
    {
      "cell_type": "code",
      "execution_count": null,
      "metadata": {
        "colab": {
          "base_uri": "https://localhost:8080/"
        },
        "id": "8E8lruoc_CTP",
        "outputId": "dd62dfa3-2a4b-4108-f3a5-b68583f0b156"
      },
      "outputs": [
        {
          "data": {
            "text/plain": [
              "Gen_RPM_Avg                   float64\n",
              "Gen_RPM_Std                   float64\n",
              "Hyd_Oil_Temp_Avg                int64\n",
              "Gear_Oil_Temp_Avg               int64\n",
              "Rtr_RPM_Avg                   float64\n",
              "Amb_WindSpeed_Avg             float64\n",
              "Amb_WindSpeed_Std             float64\n",
              "Amb_WindDir_Relative_Avg      float64\n",
              "Amb_WindDir_Abs_Avg           float64\n",
              "Prod_LatestAvg_ActPwrGen1       int64\n",
              "Prod_LatestAvg_TotReactPwr      int64\n",
              "Blds_PitchAngle_Avg           float64\n",
              "Blds_PitchAngle_Std           float64\n",
              "Grd_Prod_CosPhi_Avg           float64\n",
              "Grd_Prod_Freq_Avg             float64\n",
              "Grd_Prod_VoltPhse1_Avg        float64\n",
              "Grd_Prod_VoltPhse2_Avg        float64\n",
              "Grd_Prod_VoltPhse3_Avg        float64\n",
              "Rtr_RPM_Std                   float64\n",
              "Amb_WindSpeed_Est_Avg         float64\n",
              "Grd_Prod_Pwr_Std              float64\n",
              "Grd_Prod_ReactPwr_Avg         float64\n",
              "Grd_Prod_ReactPwr_Std         float64\n",
              "Grd_Prod_PsblePwr_Std         float64\n",
              "Grd_Prod_PsbleInd_Avg         float64\n",
              "Grd_Prod_PsbleInd_Std         float64\n",
              "Grd_Prod_PsbleCap_Avg         float64\n",
              "Grd_Prod_PsbleCap_Std         float64\n",
              "Nac_Direction_Avg             float64\n",
              "Date                           object\n",
              "Time                           object\n",
              "dtype: object"
            ]
          },
          "execution_count": 36,
          "metadata": {},
          "output_type": "execute_result"
        }
      ],
      "source": [
        "df.dtypes"
      ]
    },
    {
      "cell_type": "code",
      "execution_count": null,
      "metadata": {
        "id": "PG5eNHKmMppL"
      },
      "outputs": [],
      "source": [
        "df['Date'] = df['Date'].astype('category')\n",
        "df['Time'] = df['Time'].astype('category')\n",
        "\n"
      ]
    },
    {
      "cell_type": "code",
      "execution_count": null,
      "metadata": {
        "colab": {
          "base_uri": "https://localhost:8080/"
        },
        "id": "k_tvEVA_Efoi",
        "outputId": "f5eceed3-fd6a-4776-a758-5c6cd728342b"
      },
      "outputs": [
        {
          "data": {
            "text/plain": [
              "Gen_RPM_Avg                   34891\n",
              "Gen_RPM_Std                   34891\n",
              "Hyd_Oil_Temp_Avg              34891\n",
              "Gear_Oil_Temp_Avg             34891\n",
              "Rtr_RPM_Avg                   34891\n",
              "Amb_WindSpeed_Avg             34891\n",
              "Amb_WindSpeed_Std             34891\n",
              "Amb_WindDir_Relative_Avg      34891\n",
              "Amb_WindDir_Abs_Avg           34891\n",
              "Prod_LatestAvg_ActPwrGen1     34891\n",
              "Prod_LatestAvg_TotReactPwr    34891\n",
              "Blds_PitchAngle_Avg           34891\n",
              "Blds_PitchAngle_Std           34891\n",
              "Grd_Prod_CosPhi_Avg           34891\n",
              "Grd_Prod_Freq_Avg             34891\n",
              "Grd_Prod_VoltPhse1_Avg        34891\n",
              "Grd_Prod_VoltPhse2_Avg        34891\n",
              "Grd_Prod_VoltPhse3_Avg        34891\n",
              "Rtr_RPM_Std                   34891\n",
              "Amb_WindSpeed_Est_Avg         34891\n",
              "Grd_Prod_Pwr_Std              34891\n",
              "Grd_Prod_ReactPwr_Avg         34891\n",
              "Grd_Prod_ReactPwr_Std         34891\n",
              "Grd_Prod_PsblePwr_Std         34891\n",
              "Grd_Prod_PsbleInd_Avg         34891\n",
              "Grd_Prod_PsbleInd_Std         34891\n",
              "Grd_Prod_PsbleCap_Avg         34891\n",
              "Grd_Prod_PsbleCap_Std         34891\n",
              "Nac_Direction_Avg             34891\n",
              "Date                          34891\n",
              "Time                          34891\n",
              "dtype: int64"
            ]
          },
          "execution_count": 38,
          "metadata": {},
          "output_type": "execute_result"
        }
      ],
      "source": [
        "df.count(0)"
      ]
    },
    {
      "cell_type": "markdown",
      "metadata": {
        "id": "GjO7BtkLSbh3"
      },
      "source": [
        "**Missing Values**"
      ]
    },
    {
      "cell_type": "code",
      "execution_count": null,
      "metadata": {
        "colab": {
          "base_uri": "https://localhost:8080/"
        },
        "id": "aihZeUPqcoWb",
        "outputId": "f6551ff5-8f65-40bd-c321-eda2fedb6fa7"
      },
      "outputs": [
        {
          "data": {
            "text/plain": [
              "Gen_RPM_Avg                   0\n",
              "Gen_RPM_Std                   0\n",
              "Hyd_Oil_Temp_Avg              0\n",
              "Gear_Oil_Temp_Avg             0\n",
              "Rtr_RPM_Avg                   0\n",
              "Amb_WindSpeed_Avg             0\n",
              "Amb_WindSpeed_Std             0\n",
              "Amb_WindDir_Relative_Avg      0\n",
              "Amb_WindDir_Abs_Avg           0\n",
              "Prod_LatestAvg_ActPwrGen1     0\n",
              "Prod_LatestAvg_TotReactPwr    0\n",
              "Blds_PitchAngle_Avg           0\n",
              "Blds_PitchAngle_Std           0\n",
              "Grd_Prod_CosPhi_Avg           0\n",
              "Grd_Prod_Freq_Avg             0\n",
              "Grd_Prod_VoltPhse1_Avg        0\n",
              "Grd_Prod_VoltPhse2_Avg        0\n",
              "Grd_Prod_VoltPhse3_Avg        0\n",
              "Rtr_RPM_Std                   0\n",
              "Amb_WindSpeed_Est_Avg         0\n",
              "Grd_Prod_Pwr_Std              0\n",
              "Grd_Prod_ReactPwr_Avg         0\n",
              "Grd_Prod_ReactPwr_Std         0\n",
              "Grd_Prod_PsblePwr_Std         0\n",
              "Grd_Prod_PsbleInd_Avg         0\n",
              "Grd_Prod_PsbleInd_Std         0\n",
              "Grd_Prod_PsbleCap_Avg         0\n",
              "Grd_Prod_PsbleCap_Std         0\n",
              "Nac_Direction_Avg             0\n",
              "Date                          0\n",
              "Time                          0\n",
              "dtype: int64"
            ]
          },
          "execution_count": 39,
          "metadata": {},
          "output_type": "execute_result"
        }
      ],
      "source": [
        "df.isna().sum()\n"
      ]
    },
    {
      "cell_type": "markdown",
      "metadata": {
        "id": "iwog3M9tSpRE"
      },
      "source": [
        "There are no missing values in our dataset"
      ]
    },
    {
      "cell_type": "markdown",
      "metadata": {
        "id": "29GSSy7NXdq5"
      },
      "source": [
        "**Make categorical Data numerical**"
      ]
    },
    {
      "cell_type": "markdown",
      "metadata": {
        "id": "4bypThUVXi-l"
      },
      "source": [
        "We use the dummie method to convert the categorical data into columns"
      ]
    },
    {
      "cell_type": "code",
      "execution_count": null,
      "metadata": {
        "id": "5dags8crXnS-"
      },
      "outputs": [],
      "source": [
        "turbine_data = pd.get_dummies(df)\n"
      ]
    },
    {
      "cell_type": "code",
      "execution_count": null,
      "metadata": {
        "colab": {
          "base_uri": "https://localhost:8080/",
          "height": 299
        },
        "id": "2L636Qx0Xy_G",
        "outputId": "d3a7187c-9ff8-435a-8ce3-2cc6a2087f47"
      },
      "outputs": [
        {
          "data": {
            "text/html": [
              "\n",
              "  <div id=\"df-de96fa99-daf8-4b05-b7a1-0630e6b4c5d5\">\n",
              "    <div class=\"colab-df-container\">\n",
              "      <div>\n",
              "<style scoped>\n",
              "    .dataframe tbody tr th:only-of-type {\n",
              "        vertical-align: middle;\n",
              "    }\n",
              "\n",
              "    .dataframe tbody tr th {\n",
              "        vertical-align: top;\n",
              "    }\n",
              "\n",
              "    .dataframe thead th {\n",
              "        text-align: right;\n",
              "    }\n",
              "</style>\n",
              "<table border=\"1\" class=\"dataframe\">\n",
              "  <thead>\n",
              "    <tr style=\"text-align: right;\">\n",
              "      <th></th>\n",
              "      <th>Gen_RPM_Avg</th>\n",
              "      <th>Gen_RPM_Std</th>\n",
              "      <th>Hyd_Oil_Temp_Avg</th>\n",
              "      <th>Gear_Oil_Temp_Avg</th>\n",
              "      <th>Rtr_RPM_Avg</th>\n",
              "      <th>Amb_WindSpeed_Avg</th>\n",
              "      <th>Amb_WindSpeed_Std</th>\n",
              "      <th>Amb_WindDir_Relative_Avg</th>\n",
              "      <th>Amb_WindDir_Abs_Avg</th>\n",
              "      <th>Prod_LatestAvg_ActPwrGen1</th>\n",
              "      <th>...</th>\n",
              "      <th>Time_22:20:00</th>\n",
              "      <th>Time_22:30:00</th>\n",
              "      <th>Time_22:40:00</th>\n",
              "      <th>Time_22:50:00</th>\n",
              "      <th>Time_23:00:00</th>\n",
              "      <th>Time_23:10:00</th>\n",
              "      <th>Time_23:20:00</th>\n",
              "      <th>Time_23:30:00</th>\n",
              "      <th>Time_23:40:00</th>\n",
              "      <th>Time_23:50:00</th>\n",
              "    </tr>\n",
              "  </thead>\n",
              "  <tbody>\n",
              "    <tr>\n",
              "      <th>0</th>\n",
              "      <td>1495.0</td>\n",
              "      <td>83.8</td>\n",
              "      <td>29</td>\n",
              "      <td>49</td>\n",
              "      <td>13.2</td>\n",
              "      <td>7.1</td>\n",
              "      <td>1.2</td>\n",
              "      <td>-19.3</td>\n",
              "      <td>201.2</td>\n",
              "      <td>98177</td>\n",
              "      <td>...</td>\n",
              "      <td>0</td>\n",
              "      <td>0</td>\n",
              "      <td>0</td>\n",
              "      <td>0</td>\n",
              "      <td>0</td>\n",
              "      <td>1</td>\n",
              "      <td>0</td>\n",
              "      <td>0</td>\n",
              "      <td>0</td>\n",
              "      <td>0</td>\n",
              "    </tr>\n",
              "    <tr>\n",
              "      <th>1</th>\n",
              "      <td>1530.5</td>\n",
              "      <td>103.1</td>\n",
              "      <td>28</td>\n",
              "      <td>53</td>\n",
              "      <td>13.6</td>\n",
              "      <td>7.5</td>\n",
              "      <td>1.5</td>\n",
              "      <td>-15.4</td>\n",
              "      <td>212.6</td>\n",
              "      <td>120935</td>\n",
              "      <td>...</td>\n",
              "      <td>0</td>\n",
              "      <td>0</td>\n",
              "      <td>0</td>\n",
              "      <td>0</td>\n",
              "      <td>0</td>\n",
              "      <td>0</td>\n",
              "      <td>0</td>\n",
              "      <td>0</td>\n",
              "      <td>0</td>\n",
              "      <td>0</td>\n",
              "    </tr>\n",
              "    <tr>\n",
              "      <th>2</th>\n",
              "      <td>1550.5</td>\n",
              "      <td>83.5</td>\n",
              "      <td>42</td>\n",
              "      <td>54</td>\n",
              "      <td>13.7</td>\n",
              "      <td>7.7</td>\n",
              "      <td>1.5</td>\n",
              "      <td>0.6</td>\n",
              "      <td>138.5</td>\n",
              "      <td>142022</td>\n",
              "      <td>...</td>\n",
              "      <td>0</td>\n",
              "      <td>0</td>\n",
              "      <td>0</td>\n",
              "      <td>0</td>\n",
              "      <td>0</td>\n",
              "      <td>0</td>\n",
              "      <td>0</td>\n",
              "      <td>0</td>\n",
              "      <td>0</td>\n",
              "      <td>0</td>\n",
              "    </tr>\n",
              "    <tr>\n",
              "      <th>3</th>\n",
              "      <td>1269.1</td>\n",
              "      <td>37.1</td>\n",
              "      <td>38</td>\n",
              "      <td>50</td>\n",
              "      <td>11.2</td>\n",
              "      <td>4.7</td>\n",
              "      <td>1.1</td>\n",
              "      <td>10.3</td>\n",
              "      <td>149.2</td>\n",
              "      <td>23179</td>\n",
              "      <td>...</td>\n",
              "      <td>0</td>\n",
              "      <td>0</td>\n",
              "      <td>0</td>\n",
              "      <td>0</td>\n",
              "      <td>0</td>\n",
              "      <td>0</td>\n",
              "      <td>0</td>\n",
              "      <td>0</td>\n",
              "      <td>0</td>\n",
              "      <td>0</td>\n",
              "    </tr>\n",
              "    <tr>\n",
              "      <th>4</th>\n",
              "      <td>1248.8</td>\n",
              "      <td>49.8</td>\n",
              "      <td>35</td>\n",
              "      <td>46</td>\n",
              "      <td>11.1</td>\n",
              "      <td>4.0</td>\n",
              "      <td>1.1</td>\n",
              "      <td>-14.5</td>\n",
              "      <td>167.5</td>\n",
              "      <td>12343</td>\n",
              "      <td>...</td>\n",
              "      <td>0</td>\n",
              "      <td>0</td>\n",
              "      <td>0</td>\n",
              "      <td>0</td>\n",
              "      <td>0</td>\n",
              "      <td>0</td>\n",
              "      <td>0</td>\n",
              "      <td>0</td>\n",
              "      <td>0</td>\n",
              "      <td>0</td>\n",
              "    </tr>\n",
              "  </tbody>\n",
              "</table>\n",
              "<p>5 rows × 539 columns</p>\n",
              "</div>\n",
              "      <button class=\"colab-df-convert\" onclick=\"convertToInteractive('df-de96fa99-daf8-4b05-b7a1-0630e6b4c5d5')\"\n",
              "              title=\"Convert this dataframe to an interactive table.\"\n",
              "              style=\"display:none;\">\n",
              "        \n",
              "  <svg xmlns=\"http://www.w3.org/2000/svg\" height=\"24px\"viewBox=\"0 0 24 24\"\n",
              "       width=\"24px\">\n",
              "    <path d=\"M0 0h24v24H0V0z\" fill=\"none\"/>\n",
              "    <path d=\"M18.56 5.44l.94 2.06.94-2.06 2.06-.94-2.06-.94-.94-2.06-.94 2.06-2.06.94zm-11 1L8.5 8.5l.94-2.06 2.06-.94-2.06-.94L8.5 2.5l-.94 2.06-2.06.94zm10 10l.94 2.06.94-2.06 2.06-.94-2.06-.94-.94-2.06-.94 2.06-2.06.94z\"/><path d=\"M17.41 7.96l-1.37-1.37c-.4-.4-.92-.59-1.43-.59-.52 0-1.04.2-1.43.59L10.3 9.45l-7.72 7.72c-.78.78-.78 2.05 0 2.83L4 21.41c.39.39.9.59 1.41.59.51 0 1.02-.2 1.41-.59l7.78-7.78 2.81-2.81c.8-.78.8-2.07 0-2.86zM5.41 20L4 18.59l7.72-7.72 1.47 1.35L5.41 20z\"/>\n",
              "  </svg>\n",
              "      </button>\n",
              "      \n",
              "  <style>\n",
              "    .colab-df-container {\n",
              "      display:flex;\n",
              "      flex-wrap:wrap;\n",
              "      gap: 12px;\n",
              "    }\n",
              "\n",
              "    .colab-df-convert {\n",
              "      background-color: #E8F0FE;\n",
              "      border: none;\n",
              "      border-radius: 50%;\n",
              "      cursor: pointer;\n",
              "      display: none;\n",
              "      fill: #1967D2;\n",
              "      height: 32px;\n",
              "      padding: 0 0 0 0;\n",
              "      width: 32px;\n",
              "    }\n",
              "\n",
              "    .colab-df-convert:hover {\n",
              "      background-color: #E2EBFA;\n",
              "      box-shadow: 0px 1px 2px rgba(60, 64, 67, 0.3), 0px 1px 3px 1px rgba(60, 64, 67, 0.15);\n",
              "      fill: #174EA6;\n",
              "    }\n",
              "\n",
              "    [theme=dark] .colab-df-convert {\n",
              "      background-color: #3B4455;\n",
              "      fill: #D2E3FC;\n",
              "    }\n",
              "\n",
              "    [theme=dark] .colab-df-convert:hover {\n",
              "      background-color: #434B5C;\n",
              "      box-shadow: 0px 1px 3px 1px rgba(0, 0, 0, 0.15);\n",
              "      filter: drop-shadow(0px 1px 2px rgba(0, 0, 0, 0.3));\n",
              "      fill: #FFFFFF;\n",
              "    }\n",
              "  </style>\n",
              "\n",
              "      <script>\n",
              "        const buttonEl =\n",
              "          document.querySelector('#df-de96fa99-daf8-4b05-b7a1-0630e6b4c5d5 button.colab-df-convert');\n",
              "        buttonEl.style.display =\n",
              "          google.colab.kernel.accessAllowed ? 'block' : 'none';\n",
              "\n",
              "        async function convertToInteractive(key) {\n",
              "          const element = document.querySelector('#df-de96fa99-daf8-4b05-b7a1-0630e6b4c5d5');\n",
              "          const dataTable =\n",
              "            await google.colab.kernel.invokeFunction('convertToInteractive',\n",
              "                                                     [key], {});\n",
              "          if (!dataTable) return;\n",
              "\n",
              "          const docLinkHtml = 'Like what you see? Visit the ' +\n",
              "            '<a target=\"_blank\" href=https://colab.research.google.com/notebooks/data_table.ipynb>data table notebook</a>'\n",
              "            + ' to learn more about interactive tables.';\n",
              "          element.innerHTML = '';\n",
              "          dataTable['output_type'] = 'display_data';\n",
              "          await google.colab.output.renderOutput(dataTable, element);\n",
              "          const docLink = document.createElement('div');\n",
              "          docLink.innerHTML = docLinkHtml;\n",
              "          element.appendChild(docLink);\n",
              "        }\n",
              "      </script>\n",
              "    </div>\n",
              "  </div>\n",
              "  "
            ],
            "text/plain": [
              "   Gen_RPM_Avg  Gen_RPM_Std  Hyd_Oil_Temp_Avg  Gear_Oil_Temp_Avg  Rtr_RPM_Avg  \\\n",
              "0       1495.0         83.8                29                 49         13.2   \n",
              "1       1530.5        103.1                28                 53         13.6   \n",
              "2       1550.5         83.5                42                 54         13.7   \n",
              "3       1269.1         37.1                38                 50         11.2   \n",
              "4       1248.8         49.8                35                 46         11.1   \n",
              "\n",
              "   Amb_WindSpeed_Avg  Amb_WindSpeed_Std  Amb_WindDir_Relative_Avg  \\\n",
              "0                7.1                1.2                     -19.3   \n",
              "1                7.5                1.5                     -15.4   \n",
              "2                7.7                1.5                       0.6   \n",
              "3                4.7                1.1                      10.3   \n",
              "4                4.0                1.1                     -14.5   \n",
              "\n",
              "   Amb_WindDir_Abs_Avg  Prod_LatestAvg_ActPwrGen1  ...  Time_22:20:00  \\\n",
              "0                201.2                      98177  ...              0   \n",
              "1                212.6                     120935  ...              0   \n",
              "2                138.5                     142022  ...              0   \n",
              "3                149.2                      23179  ...              0   \n",
              "4                167.5                      12343  ...              0   \n",
              "\n",
              "   Time_22:30:00  Time_22:40:00  Time_22:50:00  Time_23:00:00  Time_23:10:00  \\\n",
              "0              0              0              0              0              1   \n",
              "1              0              0              0              0              0   \n",
              "2              0              0              0              0              0   \n",
              "3              0              0              0              0              0   \n",
              "4              0              0              0              0              0   \n",
              "\n",
              "   Time_23:20:00  Time_23:30:00  Time_23:40:00  Time_23:50:00  \n",
              "0              0              0              0              0  \n",
              "1              0              0              0              0  \n",
              "2              0              0              0              0  \n",
              "3              0              0              0              0  \n",
              "4              0              0              0              0  \n",
              "\n",
              "[5 rows x 539 columns]"
            ]
          },
          "execution_count": 41,
          "metadata": {},
          "output_type": "execute_result"
        }
      ],
      "source": [
        "turbine_data.head()"
      ]
    },
    {
      "cell_type": "code",
      "execution_count": null,
      "metadata": {
        "colab": {
          "base_uri": "https://localhost:8080/"
        },
        "id": "ri6f4hicdpzJ",
        "outputId": "2fabacd6-c32a-45c0-a830-f73e4c2b0b83"
      },
      "outputs": [
        {
          "data": {
            "text/plain": [
              "(34891, 539)"
            ]
          },
          "execution_count": 42,
          "metadata": {},
          "output_type": "execute_result"
        }
      ],
      "source": [
        "turbine_data.shape"
      ]
    },
    {
      "cell_type": "code",
      "execution_count": null,
      "metadata": {
        "colab": {
          "base_uri": "https://localhost:8080/"
        },
        "id": "5r9_WTrzX9Eo",
        "outputId": "d802ef89-4dfc-4995-e3b3-203ffe270ac5"
      },
      "outputs": [
        {
          "data": {
            "text/plain": [
              "Gen_RPM_Avg          float64\n",
              "Gen_RPM_Std          float64\n",
              "Hyd_Oil_Temp_Avg       int64\n",
              "Gear_Oil_Temp_Avg      int64\n",
              "Rtr_RPM_Avg          float64\n",
              "                      ...   \n",
              "Time_23:10:00          uint8\n",
              "Time_23:20:00          uint8\n",
              "Time_23:30:00          uint8\n",
              "Time_23:40:00          uint8\n",
              "Time_23:50:00          uint8\n",
              "Length: 539, dtype: object"
            ]
          },
          "execution_count": 43,
          "metadata": {},
          "output_type": "execute_result"
        }
      ],
      "source": [
        "turbine_data.dtypes"
      ]
    },
    {
      "cell_type": "markdown",
      "metadata": {
        "id": "Vw8qvVSCZJpA"
      },
      "source": [
        "# 1. Model: Random forrest\n",
        "Most of the code here is from the Data Science Lecture with my own intepretetations\n",
        "# Modeler:  Dominique Peytrignet"
      ]
    },
    {
      "cell_type": "code",
      "execution_count": null,
      "metadata": {
        "id": "HMttYKUUZj_B"
      },
      "outputs": [],
      "source": [
        "from sklearn.metrics import mean_squared_error, r2_score"
      ]
    },
    {
      "cell_type": "markdown",
      "metadata": {
        "id": "Ene87w1ljQpB"
      },
      "source": [
        "As we have learned I will use the Root Mean Squared Error as performance measurement for my model.\n",
        "\n",
        "\n",
        "\n"
      ]
    },
    {
      "cell_type": "code",
      "execution_count": null,
      "metadata": {
        "id": "PfMrMF_OkqZw"
      },
      "outputs": [],
      "source": [
        "def rmse(y, yhat):\n",
        "    \"\"\"\n",
        "    Args:\n",
        "        y (array): Actual values for target.\n",
        "        yhat (array): Predicted values for target.\n",
        "    \"\"\"\n",
        "    return np.sqrt(mean_squared_error(y, yhat))\n",
        "\n",
        "def print_rf_scores(fitted_model):\n",
        "    \"\"\"Generates RMSE and R^2 scores from fitted Random Forest model.\"\"\"\n",
        "\n",
        "    yhat_train = fitted_model.predict(X_train)\n",
        "    yhat_valid = fitted_model.predict(X_valid)\n",
        "\n",
        "    scores = {\n",
        "        \"RMSE on train:\": rmse(y_train, yhat_train),\n",
        "        \"RMSE on valid:\": rmse(y_valid, yhat_valid),\n",
        "    }\n",
        "    if hasattr(fitted_model, \"oob_score_\"):\n",
        "        scores[\"OOB R^2:\"] = fitted_model.oob_score_\n",
        "\n",
        "    for score_name, score_value in scores.items():\n",
        "        print(score_name, round(score_value, 3))"
      ]
    },
    {
      "cell_type": "markdown",
      "metadata": {
        "id": "L7o1410lTxvq"
      },
      "source": [
        "The RMSE punishes larger error in the prediction. The root is taken because the result of the RMSE will be the same unit as the predicted value, in our example it is Watt hours [Wh]. The lower the value the better the model has performed, i.e the less errors were made."
      ]
    },
    {
      "cell_type": "markdown",
      "metadata": {
        "id": "PiChLcn7k-ic"
      },
      "source": [
        "## Model"
      ]
    },
    {
      "cell_type": "markdown",
      "metadata": {
        "id": "WhMQp_eLlCui"
      },
      "source": [
        "I am choosing the random forrest regressor from sklearn"
      ]
    },
    {
      "cell_type": "code",
      "execution_count": null,
      "metadata": {
        "id": "zK_vRcDVlAzd"
      },
      "outputs": [],
      "source": [
        "from sklearn.ensemble import RandomForestRegressor"
      ]
    },
    {
      "cell_type": "markdown",
      "metadata": {
        "id": "EgKKSfhPmRR3"
      },
      "source": [
        "THis is going to be my base model with 7 trees"
      ]
    },
    {
      "cell_type": "code",
      "execution_count": null,
      "metadata": {
        "id": "degIjXCclL1_"
      },
      "outputs": [],
      "source": [
        "model1 = RandomForestRegressor(n_estimators=7, random_state=1999, n_jobs=-1, max_depth=3)"
      ]
    },
    {
      "cell_type": "markdown",
      "metadata": {
        "id": "fHjAfHe1mz_x"
      },
      "source": [
        "Creating feature matrix X and target vector y"
      ]
    },
    {
      "cell_type": "code",
      "execution_count": null,
      "metadata": {
        "colab": {
          "base_uri": "https://localhost:8080/",
          "height": 299
        },
        "id": "7Be6SFq8mzF3",
        "outputId": "5b0c2109-4d70-42d2-ca10-6b4ab17a2682"
      },
      "outputs": [
        {
          "data": {
            "text/html": [
              "\n",
              "  <div id=\"df-e8ecb3ee-15fd-440d-bf23-d02f9eb16992\">\n",
              "    <div class=\"colab-df-container\">\n",
              "      <div>\n",
              "<style scoped>\n",
              "    .dataframe tbody tr th:only-of-type {\n",
              "        vertical-align: middle;\n",
              "    }\n",
              "\n",
              "    .dataframe tbody tr th {\n",
              "        vertical-align: top;\n",
              "    }\n",
              "\n",
              "    .dataframe thead th {\n",
              "        text-align: right;\n",
              "    }\n",
              "</style>\n",
              "<table border=\"1\" class=\"dataframe\">\n",
              "  <thead>\n",
              "    <tr style=\"text-align: right;\">\n",
              "      <th></th>\n",
              "      <th>Gen_RPM_Avg</th>\n",
              "      <th>Gen_RPM_Std</th>\n",
              "      <th>Hyd_Oil_Temp_Avg</th>\n",
              "      <th>Gear_Oil_Temp_Avg</th>\n",
              "      <th>Rtr_RPM_Avg</th>\n",
              "      <th>Amb_WindSpeed_Avg</th>\n",
              "      <th>Amb_WindSpeed_Std</th>\n",
              "      <th>Amb_WindDir_Relative_Avg</th>\n",
              "      <th>Amb_WindDir_Abs_Avg</th>\n",
              "      <th>Prod_LatestAvg_TotReactPwr</th>\n",
              "      <th>...</th>\n",
              "      <th>Time_22:20:00</th>\n",
              "      <th>Time_22:30:00</th>\n",
              "      <th>Time_22:40:00</th>\n",
              "      <th>Time_22:50:00</th>\n",
              "      <th>Time_23:00:00</th>\n",
              "      <th>Time_23:10:00</th>\n",
              "      <th>Time_23:20:00</th>\n",
              "      <th>Time_23:30:00</th>\n",
              "      <th>Time_23:40:00</th>\n",
              "      <th>Time_23:50:00</th>\n",
              "    </tr>\n",
              "  </thead>\n",
              "  <tbody>\n",
              "    <tr>\n",
              "      <th>0</th>\n",
              "      <td>1495.0</td>\n",
              "      <td>83.8</td>\n",
              "      <td>29</td>\n",
              "      <td>49</td>\n",
              "      <td>13.2</td>\n",
              "      <td>7.1</td>\n",
              "      <td>1.2</td>\n",
              "      <td>-19.3</td>\n",
              "      <td>201.2</td>\n",
              "      <td>-24113</td>\n",
              "      <td>...</td>\n",
              "      <td>0</td>\n",
              "      <td>0</td>\n",
              "      <td>0</td>\n",
              "      <td>0</td>\n",
              "      <td>0</td>\n",
              "      <td>1</td>\n",
              "      <td>0</td>\n",
              "      <td>0</td>\n",
              "      <td>0</td>\n",
              "      <td>0</td>\n",
              "    </tr>\n",
              "    <tr>\n",
              "      <th>1</th>\n",
              "      <td>1530.5</td>\n",
              "      <td>103.1</td>\n",
              "      <td>28</td>\n",
              "      <td>53</td>\n",
              "      <td>13.6</td>\n",
              "      <td>7.5</td>\n",
              "      <td>1.5</td>\n",
              "      <td>-15.4</td>\n",
              "      <td>212.6</td>\n",
              "      <td>-28146</td>\n",
              "      <td>...</td>\n",
              "      <td>0</td>\n",
              "      <td>0</td>\n",
              "      <td>0</td>\n",
              "      <td>0</td>\n",
              "      <td>0</td>\n",
              "      <td>0</td>\n",
              "      <td>0</td>\n",
              "      <td>0</td>\n",
              "      <td>0</td>\n",
              "      <td>0</td>\n",
              "    </tr>\n",
              "    <tr>\n",
              "      <th>2</th>\n",
              "      <td>1550.5</td>\n",
              "      <td>83.5</td>\n",
              "      <td>42</td>\n",
              "      <td>54</td>\n",
              "      <td>13.7</td>\n",
              "      <td>7.7</td>\n",
              "      <td>1.5</td>\n",
              "      <td>0.6</td>\n",
              "      <td>138.5</td>\n",
              "      <td>-27091</td>\n",
              "      <td>...</td>\n",
              "      <td>0</td>\n",
              "      <td>0</td>\n",
              "      <td>0</td>\n",
              "      <td>0</td>\n",
              "      <td>0</td>\n",
              "      <td>0</td>\n",
              "      <td>0</td>\n",
              "      <td>0</td>\n",
              "      <td>0</td>\n",
              "      <td>0</td>\n",
              "    </tr>\n",
              "    <tr>\n",
              "      <th>3</th>\n",
              "      <td>1269.1</td>\n",
              "      <td>37.1</td>\n",
              "      <td>38</td>\n",
              "      <td>50</td>\n",
              "      <td>11.2</td>\n",
              "      <td>4.7</td>\n",
              "      <td>1.1</td>\n",
              "      <td>10.3</td>\n",
              "      <td>149.2</td>\n",
              "      <td>-14681</td>\n",
              "      <td>...</td>\n",
              "      <td>0</td>\n",
              "      <td>0</td>\n",
              "      <td>0</td>\n",
              "      <td>0</td>\n",
              "      <td>0</td>\n",
              "      <td>0</td>\n",
              "      <td>0</td>\n",
              "      <td>0</td>\n",
              "      <td>0</td>\n",
              "      <td>0</td>\n",
              "    </tr>\n",
              "    <tr>\n",
              "      <th>4</th>\n",
              "      <td>1248.8</td>\n",
              "      <td>49.8</td>\n",
              "      <td>35</td>\n",
              "      <td>46</td>\n",
              "      <td>11.1</td>\n",
              "      <td>4.0</td>\n",
              "      <td>1.1</td>\n",
              "      <td>-14.5</td>\n",
              "      <td>167.5</td>\n",
              "      <td>-7705</td>\n",
              "      <td>...</td>\n",
              "      <td>0</td>\n",
              "      <td>0</td>\n",
              "      <td>0</td>\n",
              "      <td>0</td>\n",
              "      <td>0</td>\n",
              "      <td>0</td>\n",
              "      <td>0</td>\n",
              "      <td>0</td>\n",
              "      <td>0</td>\n",
              "      <td>0</td>\n",
              "    </tr>\n",
              "  </tbody>\n",
              "</table>\n",
              "<p>5 rows × 538 columns</p>\n",
              "</div>\n",
              "      <button class=\"colab-df-convert\" onclick=\"convertToInteractive('df-e8ecb3ee-15fd-440d-bf23-d02f9eb16992')\"\n",
              "              title=\"Convert this dataframe to an interactive table.\"\n",
              "              style=\"display:none;\">\n",
              "        \n",
              "  <svg xmlns=\"http://www.w3.org/2000/svg\" height=\"24px\"viewBox=\"0 0 24 24\"\n",
              "       width=\"24px\">\n",
              "    <path d=\"M0 0h24v24H0V0z\" fill=\"none\"/>\n",
              "    <path d=\"M18.56 5.44l.94 2.06.94-2.06 2.06-.94-2.06-.94-.94-2.06-.94 2.06-2.06.94zm-11 1L8.5 8.5l.94-2.06 2.06-.94-2.06-.94L8.5 2.5l-.94 2.06-2.06.94zm10 10l.94 2.06.94-2.06 2.06-.94-2.06-.94-.94-2.06-.94 2.06-2.06.94z\"/><path d=\"M17.41 7.96l-1.37-1.37c-.4-.4-.92-.59-1.43-.59-.52 0-1.04.2-1.43.59L10.3 9.45l-7.72 7.72c-.78.78-.78 2.05 0 2.83L4 21.41c.39.39.9.59 1.41.59.51 0 1.02-.2 1.41-.59l7.78-7.78 2.81-2.81c.8-.78.8-2.07 0-2.86zM5.41 20L4 18.59l7.72-7.72 1.47 1.35L5.41 20z\"/>\n",
              "  </svg>\n",
              "      </button>\n",
              "      \n",
              "  <style>\n",
              "    .colab-df-container {\n",
              "      display:flex;\n",
              "      flex-wrap:wrap;\n",
              "      gap: 12px;\n",
              "    }\n",
              "\n",
              "    .colab-df-convert {\n",
              "      background-color: #E8F0FE;\n",
              "      border: none;\n",
              "      border-radius: 50%;\n",
              "      cursor: pointer;\n",
              "      display: none;\n",
              "      fill: #1967D2;\n",
              "      height: 32px;\n",
              "      padding: 0 0 0 0;\n",
              "      width: 32px;\n",
              "    }\n",
              "\n",
              "    .colab-df-convert:hover {\n",
              "      background-color: #E2EBFA;\n",
              "      box-shadow: 0px 1px 2px rgba(60, 64, 67, 0.3), 0px 1px 3px 1px rgba(60, 64, 67, 0.15);\n",
              "      fill: #174EA6;\n",
              "    }\n",
              "\n",
              "    [theme=dark] .colab-df-convert {\n",
              "      background-color: #3B4455;\n",
              "      fill: #D2E3FC;\n",
              "    }\n",
              "\n",
              "    [theme=dark] .colab-df-convert:hover {\n",
              "      background-color: #434B5C;\n",
              "      box-shadow: 0px 1px 3px 1px rgba(0, 0, 0, 0.15);\n",
              "      filter: drop-shadow(0px 1px 2px rgba(0, 0, 0, 0.3));\n",
              "      fill: #FFFFFF;\n",
              "    }\n",
              "  </style>\n",
              "\n",
              "      <script>\n",
              "        const buttonEl =\n",
              "          document.querySelector('#df-e8ecb3ee-15fd-440d-bf23-d02f9eb16992 button.colab-df-convert');\n",
              "        buttonEl.style.display =\n",
              "          google.colab.kernel.accessAllowed ? 'block' : 'none';\n",
              "\n",
              "        async function convertToInteractive(key) {\n",
              "          const element = document.querySelector('#df-e8ecb3ee-15fd-440d-bf23-d02f9eb16992');\n",
              "          const dataTable =\n",
              "            await google.colab.kernel.invokeFunction('convertToInteractive',\n",
              "                                                     [key], {});\n",
              "          if (!dataTable) return;\n",
              "\n",
              "          const docLinkHtml = 'Like what you see? Visit the ' +\n",
              "            '<a target=\"_blank\" href=https://colab.research.google.com/notebooks/data_table.ipynb>data table notebook</a>'\n",
              "            + ' to learn more about interactive tables.';\n",
              "          element.innerHTML = '';\n",
              "          dataTable['output_type'] = 'display_data';\n",
              "          await google.colab.output.renderOutput(dataTable, element);\n",
              "          const docLink = document.createElement('div');\n",
              "          docLink.innerHTML = docLinkHtml;\n",
              "          element.appendChild(docLink);\n",
              "        }\n",
              "      </script>\n",
              "    </div>\n",
              "  </div>\n",
              "  "
            ],
            "text/plain": [
              "   Gen_RPM_Avg  Gen_RPM_Std  Hyd_Oil_Temp_Avg  Gear_Oil_Temp_Avg  Rtr_RPM_Avg  \\\n",
              "0       1495.0         83.8                29                 49         13.2   \n",
              "1       1530.5        103.1                28                 53         13.6   \n",
              "2       1550.5         83.5                42                 54         13.7   \n",
              "3       1269.1         37.1                38                 50         11.2   \n",
              "4       1248.8         49.8                35                 46         11.1   \n",
              "\n",
              "   Amb_WindSpeed_Avg  Amb_WindSpeed_Std  Amb_WindDir_Relative_Avg  \\\n",
              "0                7.1                1.2                     -19.3   \n",
              "1                7.5                1.5                     -15.4   \n",
              "2                7.7                1.5                       0.6   \n",
              "3                4.7                1.1                      10.3   \n",
              "4                4.0                1.1                     -14.5   \n",
              "\n",
              "   Amb_WindDir_Abs_Avg  Prod_LatestAvg_TotReactPwr  ...  Time_22:20:00  \\\n",
              "0                201.2                      -24113  ...              0   \n",
              "1                212.6                      -28146  ...              0   \n",
              "2                138.5                      -27091  ...              0   \n",
              "3                149.2                      -14681  ...              0   \n",
              "4                167.5                       -7705  ...              0   \n",
              "\n",
              "   Time_22:30:00  Time_22:40:00  Time_22:50:00  Time_23:00:00  Time_23:10:00  \\\n",
              "0              0              0              0              0              1   \n",
              "1              0              0              0              0              0   \n",
              "2              0              0              0              0              0   \n",
              "3              0              0              0              0              0   \n",
              "4              0              0              0              0              0   \n",
              "\n",
              "   Time_23:20:00  Time_23:30:00  Time_23:40:00  Time_23:50:00  \n",
              "0              0              0              0              0  \n",
              "1              0              0              0              0  \n",
              "2              0              0              0              0  \n",
              "3              0              0              0              0  \n",
              "4              0              0              0              0  \n",
              "\n",
              "[5 rows x 538 columns]"
            ]
          },
          "execution_count": 48,
          "metadata": {},
          "output_type": "execute_result"
        }
      ],
      "source": [
        "X = turbine_data.loc[:, turbine_data.columns != 'Prod_LatestAvg_ActPwrGen1']\n",
        "X.head()"
      ]
    },
    {
      "cell_type": "code",
      "execution_count": null,
      "metadata": {
        "colab": {
          "base_uri": "https://localhost:8080/"
        },
        "id": "dOsNGCytnLJV",
        "outputId": "026138d2-446f-4f1b-c504-ad10d1e724e5"
      },
      "outputs": [
        {
          "data": {
            "text/plain": [
              "0     98177\n",
              "1    120935\n",
              "2    142022\n",
              "3     23179\n",
              "4     12343\n",
              "Name: Prod_LatestAvg_ActPwrGen1, dtype: int64"
            ]
          },
          "execution_count": 49,
          "metadata": {},
          "output_type": "execute_result"
        }
      ],
      "source": [
        "y = turbine_data[\"Prod_LatestAvg_ActPwrGen1\"]\n",
        "y.head()"
      ]
    },
    {
      "cell_type": "markdown",
      "metadata": {
        "id": "MGTop4GymiSz"
      },
      "source": [
        "Splitting the data in to train and validation sets"
      ]
    },
    {
      "cell_type": "code",
      "execution_count": null,
      "metadata": {
        "colab": {
          "base_uri": "https://localhost:8080/"
        },
        "id": "Oa05WgDfmmYM",
        "outputId": "4af9fc97-0834-4616-c8c8-d35e49547fd6"
      },
      "outputs": [
        {
          "name": "stdout",
          "output_type": "stream",
          "text": [
            "27912 train rows + 6979 valid rows\n"
          ]
        }
      ],
      "source": [
        "X_train, X_valid, y_train, y_valid = train_test_split(X, y, test_size=0.2, random_state=1999)\n",
        "\n",
        "print(f'{len(X_train)} train rows + {len(X_valid)} valid rows')"
      ]
    },
    {
      "cell_type": "markdown",
      "metadata": {
        "id": "NWZDx1puTUcF"
      },
      "source": [
        "Splitting the data in to train and validation sets gives us the possibility to validate the model, so that we are not overfitting the model. With this code we are spliting the dataset in to  80% training data and 20% validation data."
      ]
    },
    {
      "cell_type": "markdown",
      "metadata": {
        "id": "eBTgAbzioIMy"
      },
      "source": [
        "fit the model on training data"
      ]
    },
    {
      "cell_type": "code",
      "execution_count": null,
      "metadata": {
        "colab": {
          "base_uri": "https://localhost:8080/"
        },
        "id": "pZT8t7Xhn7cu",
        "outputId": "0cd01cb1-1e40-4ff8-b21a-7496f61aab59"
      },
      "outputs": [
        {
          "data": {
            "text/plain": [
              "RandomForestRegressor(max_depth=3, n_estimators=7, n_jobs=-1, random_state=1999)"
            ]
          },
          "execution_count": 51,
          "metadata": {},
          "output_type": "execute_result"
        }
      ],
      "source": [
        "model1.fit(X_train, y_train)"
      ]
    },
    {
      "cell_type": "markdown",
      "metadata": {
        "id": "b4GsJFvjqWIA"
      },
      "source": [
        "## Evaluate prediction"
      ]
    },
    {
      "cell_type": "code",
      "execution_count": null,
      "metadata": {
        "colab": {
          "base_uri": "https://localhost:8080/"
        },
        "id": "8VqpfLVioUaN",
        "outputId": "bd80b9a8-3a78-4057-9df3-27ae4de28753"
      },
      "outputs": [
        {
          "name": "stdout",
          "output_type": "stream",
          "text": [
            "RMSE on train: 13358.154\n",
            "RMSE on valid: 12947.133\n"
          ]
        }
      ],
      "source": [
        "prediction = model1.predict(X_valid)\n",
        "y_pred=pd.DataFrame(prediction, columns=['Prod_LatestAvg_ActPwrGen1'])\n",
        "\n",
        "rmse(y_valid, y_pred)\n",
        "print_rf_scores(model1)\n"
      ]
    },
    {
      "cell_type": "code",
      "execution_count": null,
      "metadata": {
        "id": "DWi5kMlEql2R"
      },
      "outputs": [],
      "source": [
        "y_valid = y_valid.reset_index()\n",
        "y_valid.drop(['index'], axis=1, inplace=True)"
      ]
    },
    {
      "cell_type": "code",
      "execution_count": null,
      "metadata": {
        "colab": {
          "base_uri": "https://localhost:8080/",
          "height": 410
        },
        "id": "yKaIdnd_rA7s",
        "outputId": "e6a24b7d-7541-4ba6-9466-32a39fe9c16c"
      },
      "outputs": [
        {
          "data": {
            "image/png": "[encoded data removed]",
            "text/plain": [
              "<Figure size 432x432 with 1 Axes>"
            ]
          },
          "metadata": {},
          "output_type": "display_data"
        }
      ],
      "source": [
        "plt.figure(figsize=(6, 6))\n",
        "plt.scatter(y_valid,y_pred)\n",
        "plt.xlabel(\"Actual Average Power Production\")\n",
        "plt.ylabel(\"Predicted Average Power Production\")\n",
        "plt.xlim([0,510000])\n",
        "plt.ylim([0,510000])\n",
        "plt.title(f\"Prediction Error for {model1.__class__.__name__}\")\n",
        "plt.show()"
      ]
    },
    {
      "cell_type": "markdown",
      "metadata": {
        "id": "ULa0LvI4r_Fh"
      },
      "source": [
        "we see some kind of a linear relationship between the predicted and the actual values. This means the model performs fearly well. Still there are some outliers."
      ]
    },
    {
      "cell_type": "markdown",
      "metadata": {
        "id": "Mu0-lkwbxtQ1"
      },
      "source": [
        "## Hyperparamter Tuning"
      ]
    },
    {
      "cell_type": "markdown",
      "metadata": {
        "id": "LqIL3vMmx7gy"
      },
      "source": [
        "I first try to improve the model by increasing the number of trees and see if the performance has gone higher. \n",
        "\n",
        "Further I use bootstrap = True so it doesn't use the whole dataset to create samples for the different trees. With this setting the sample size will be default to 2. \n",
        "https://scikit-learn.org/stable/modules/generated/sklearn.ensemble.RandomForestRegressor.html\n"
      ]
    },
    {
      "cell_type": "code",
      "execution_count": null,
      "metadata": {
        "colab": {
          "base_uri": "https://localhost:8080/"
        },
        "id": "nsmo14dkw87C",
        "outputId": "3dbce1e9-f3ad-4088-fafd-c242aa02fafa"
      },
      "outputs": [
        {
          "data": {
            "text/plain": [
              "RandomForestRegressor(max_depth=3, n_estimators=10, n_jobs=-1,\n",
              "                      random_state=1999)"
            ]
          },
          "execution_count": 55,
          "metadata": {},
          "output_type": "execute_result"
        }
      ],
      "source": [
        "model2 = RandomForestRegressor(n_estimators=10, max_depth=3, bootstrap=True, random_state=1999, n_jobs=-1)\n",
        "model2.fit(X_train, y_train)"
      ]
    },
    {
      "cell_type": "markdown",
      "metadata": {
        "id": "rute2G6137fZ"
      },
      "source": [
        "Finding out the optimal amount of trees"
      ]
    },
    {
      "cell_type": "code",
      "execution_count": null,
      "metadata": {
        "colab": {
          "base_uri": "https://localhost:8080/"
        },
        "id": "A-RpVo05zF43",
        "outputId": "8413d13d-17a4-477d-8407-100d3866a665"
      },
      "outputs": [
        {
          "name": "stderr",
          "output_type": "stream",
          "text": [
            "/usr/local/lib/python3.7/dist-packages/sklearn/base.py:444: UserWarning: X has feature names, but DecisionTreeRegressor was fitted without feature names\n",
            "  f\"X has feature names, but {self.__class__.__name__} was fitted without\"\n",
            "/usr/local/lib/python3.7/dist-packages/sklearn/base.py:444: UserWarning: X has feature names, but DecisionTreeRegressor was fitted without feature names\n",
            "  f\"X has feature names, but {self.__class__.__name__} was fitted without\"\n",
            "/usr/local/lib/python3.7/dist-packages/sklearn/base.py:444: UserWarning: X has feature names, but DecisionTreeRegressor was fitted without feature names\n",
            "  f\"X has feature names, but {self.__class__.__name__} was fitted without\"\n",
            "/usr/local/lib/python3.7/dist-packages/sklearn/base.py:444: UserWarning: X has feature names, but DecisionTreeRegressor was fitted without feature names\n",
            "  f\"X has feature names, but {self.__class__.__name__} was fitted without\"\n",
            "/usr/local/lib/python3.7/dist-packages/sklearn/base.py:444: UserWarning: X has feature names, but DecisionTreeRegressor was fitted without feature names\n",
            "  f\"X has feature names, but {self.__class__.__name__} was fitted without\"\n",
            "/usr/local/lib/python3.7/dist-packages/sklearn/base.py:444: UserWarning: X has feature names, but DecisionTreeRegressor was fitted without feature names\n",
            "  f\"X has feature names, but {self.__class__.__name__} was fitted without\"\n",
            "/usr/local/lib/python3.7/dist-packages/sklearn/base.py:444: UserWarning: X has feature names, but DecisionTreeRegressor was fitted without feature names\n",
            "  f\"X has feature names, but {self.__class__.__name__} was fitted without\"\n",
            "/usr/local/lib/python3.7/dist-packages/sklearn/base.py:444: UserWarning: X has feature names, but DecisionTreeRegressor was fitted without feature names\n",
            "  f\"X has feature names, but {self.__class__.__name__} was fitted without\"\n",
            "/usr/local/lib/python3.7/dist-packages/sklearn/base.py:444: UserWarning: X has feature names, but DecisionTreeRegressor was fitted without feature names\n",
            "  f\"X has feature names, but {self.__class__.__name__} was fitted without\"\n",
            "/usr/local/lib/python3.7/dist-packages/sklearn/base.py:444: UserWarning: X has feature names, but DecisionTreeRegressor was fitted without feature names\n",
            "  f\"X has feature names, but {self.__class__.__name__} was fitted without\"\n"
          ]
        }
      ],
      "source": [
        "preds = np.stack([tree.predict(X_valid) for tree in model2.estimators_])"
      ]
    },
    {
      "cell_type": "code",
      "execution_count": null,
      "metadata": {
        "colab": {
          "base_uri": "https://localhost:8080/"
        },
        "id": "91SAPo5gzXdi",
        "outputId": "5ab8dff1-78c9-418d-d64e-e2babc74dea3"
      },
      "outputs": [
        {
          "data": {
            "text/plain": [
              "(10, 6979)"
            ]
          },
          "execution_count": 57,
          "metadata": {},
          "output_type": "execute_result"
        }
      ],
      "source": [
        "preds.shape"
      ]
    },
    {
      "cell_type": "code",
      "execution_count": null,
      "metadata": {
        "colab": {
          "base_uri": "https://localhost:8080/"
        },
        "id": "kbVWOKGTzZbM",
        "outputId": "6460a302-e79d-4bb3-f221-9eb945ed84aa"
      },
      "outputs": [
        {
          "name": "stderr",
          "output_type": "stream",
          "text": [
            "/usr/local/lib/python3.7/dist-packages/sklearn/base.py:444: UserWarning: X has feature names, but DecisionTreeRegressor was fitted without feature names\n",
            "  f\"X has feature names, but {self.__class__.__name__} was fitted without\"\n",
            "/usr/local/lib/python3.7/dist-packages/sklearn/base.py:444: UserWarning: X has feature names, but DecisionTreeRegressor was fitted without feature names\n",
            "  f\"X has feature names, but {self.__class__.__name__} was fitted without\"\n",
            "/usr/local/lib/python3.7/dist-packages/sklearn/base.py:444: UserWarning: X has feature names, but DecisionTreeRegressor was fitted without feature names\n",
            "  f\"X has feature names, but {self.__class__.__name__} was fitted without\"\n",
            "/usr/local/lib/python3.7/dist-packages/sklearn/base.py:444: UserWarning: X has feature names, but DecisionTreeRegressor was fitted without feature names\n",
            "  f\"X has feature names, but {self.__class__.__name__} was fitted without\"\n",
            "/usr/local/lib/python3.7/dist-packages/sklearn/base.py:444: UserWarning: X has feature names, but DecisionTreeRegressor was fitted without feature names\n",
            "  f\"X has feature names, but {self.__class__.__name__} was fitted without\"\n",
            "/usr/local/lib/python3.7/dist-packages/sklearn/base.py:444: UserWarning: X has feature names, but DecisionTreeRegressor was fitted without feature names\n",
            "  f\"X has feature names, but {self.__class__.__name__} was fitted without\"\n",
            "/usr/local/lib/python3.7/dist-packages/sklearn/base.py:444: UserWarning: X has feature names, but DecisionTreeRegressor was fitted without feature names\n",
            "  f\"X has feature names, but {self.__class__.__name__} was fitted without\"\n",
            "/usr/local/lib/python3.7/dist-packages/sklearn/base.py:444: UserWarning: X has feature names, but DecisionTreeRegressor was fitted without feature names\n",
            "  f\"X has feature names, but {self.__class__.__name__} was fitted without\"\n",
            "/usr/local/lib/python3.7/dist-packages/sklearn/base.py:444: UserWarning: X has feature names, but DecisionTreeRegressor was fitted without feature names\n",
            "  f\"X has feature names, but {self.__class__.__name__} was fitted without\"\n",
            "/usr/local/lib/python3.7/dist-packages/sklearn/base.py:444: UserWarning: X has feature names, but DecisionTreeRegressor was fitted without feature names\n",
            "  f\"X has feature names, but {self.__class__.__name__} was fitted without\"\n"
          ]
        }
      ],
      "source": [
        "from numpy.testing import assert_array_equal\n",
        "\n",
        "preds_list = []\n",
        "\n",
        "for tree in model2.estimators_:\n",
        "    preds_list.append(tree.predict(X_valid))\n",
        "\n",
        "# concatenate list of predictions into single array \n",
        "preds_v2 = np.stack(preds_list)\n",
        "\n",
        "# test that arrays are equal\n",
        "assert_array_equal(preds, preds_v2)"
      ]
    },
    {
      "cell_type": "code",
      "execution_count": null,
      "metadata": {
        "id": "A9KpGg1uzbfj"
      },
      "outputs": [],
      "source": [
        "def plot_r2_vs_trees(preds, y_valid):\n",
        "    \"\"\"Generate a plot of R^2 score on validation set vs number of trees in Random Forest\"\"\"\n",
        "    fig, ax = plt.subplots(figsize=(10,10))\n",
        "    plt.plot(\n",
        "        [\n",
        "            r2_score(y_valid, np.mean(preds[: i + 1], axis=0))\n",
        "            for i in range(len(preds) + 1)\n",
        "        ]\n",
        "    )\n",
        "    ax.set_ylabel(\"$R^2$ on validation set\")\n",
        "    ax.set_xlabel(\"Number of trees\")"
      ]
    },
    {
      "cell_type": "code",
      "execution_count": null,
      "metadata": {
        "colab": {
          "base_uri": "https://localhost:8080/",
          "height": 611
        },
        "id": "mbEVGAL3zl0W",
        "outputId": "59e5a603-bbe7-45fc-e251-4853dba4c1f3"
      },
      "outputs": [
        {
          "data": {
            "image/png": "[encoded data removed]",
            "text/plain": [
              "<Figure size 720x720 with 1 Axes>"
            ]
          },
          "metadata": {},
          "output_type": "display_data"
        }
      ],
      "source": [
        "\n",
        "plot_r2_vs_trees(preds, y_valid)"
      ]
    },
    {
      "cell_type": "markdown",
      "metadata": {
        "id": "1A3M1qoa0dX7"
      },
      "source": [
        "Wee see that with more trees the performance generaly goes up, there is a little dump between 2-4 trees. The best amount of trees would be 5 or 8. I am curious how the model performs with even larger number of trees?"
      ]
    },
    {
      "cell_type": "code",
      "execution_count": null,
      "metadata": {
        "colab": {
          "base_uri": "https://localhost:8080/"
        },
        "id": "Bst_QKv5zpgq",
        "outputId": "28ebb585-e2af-4a54-9403-809d78fb6756"
      },
      "outputs": [
        {
          "name": "stdout",
          "output_type": "stream",
          "text": [
            "RMSE on train: 13234.86\n",
            "RMSE on valid: 12806.275\n"
          ]
        }
      ],
      "source": [
        "model3 = RandomForestRegressor(n_estimators=40, max_depth=3,bootstrap=True, random_state=1999, n_jobs=-1)\n",
        "model3.fit(X_train, y_train)\n",
        "print_rf_scores(model3)"
      ]
    },
    {
      "cell_type": "code",
      "execution_count": null,
      "metadata": {
        "colab": {
          "base_uri": "https://localhost:8080/"
        },
        "id": "GxlYKNfZ2Wrb",
        "outputId": "ff6c37ae-73c7-46df-afe7-81cab25d98fa"
      },
      "outputs": [
        {
          "name": "stderr",
          "output_type": "stream",
          "text": [
            "/usr/local/lib/python3.7/dist-packages/sklearn/base.py:444: UserWarning: X has feature names, but DecisionTreeRegressor was fitted without feature names\n",
            "  f\"X has feature names, but {self.__class__.__name__} was fitted without\"\n",
            "/usr/local/lib/python3.7/dist-packages/sklearn/base.py:444: UserWarning: X has feature names, but DecisionTreeRegressor was fitted without feature names\n",
            "  f\"X has feature names, but {self.__class__.__name__} was fitted without\"\n",
            "/usr/local/lib/python3.7/dist-packages/sklearn/base.py:444: UserWarning: X has feature names, but DecisionTreeRegressor was fitted without feature names\n",
            "  f\"X has feature names, but {self.__class__.__name__} was fitted without\"\n",
            "/usr/local/lib/python3.7/dist-packages/sklearn/base.py:444: UserWarning: X has feature names, but DecisionTreeRegressor was fitted without feature names\n",
            "  f\"X has feature names, but {self.__class__.__name__} was fitted without\"\n",
            "/usr/local/lib/python3.7/dist-packages/sklearn/base.py:444: UserWarning: X has feature names, but DecisionTreeRegressor was fitted without feature names\n",
            "  f\"X has feature names, but {self.__class__.__name__} was fitted without\"\n",
            "/usr/local/lib/python3.7/dist-packages/sklearn/base.py:444: UserWarning: X has feature names, but DecisionTreeRegressor was fitted without feature names\n",
            "  f\"X has feature names, but {self.__class__.__name__} was fitted without\"\n",
            "/usr/local/lib/python3.7/dist-packages/sklearn/base.py:444: UserWarning: X has feature names, but DecisionTreeRegressor was fitted without feature names\n",
            "  f\"X has feature names, but {self.__class__.__name__} was fitted without\"\n",
            "/usr/local/lib/python3.7/dist-packages/sklearn/base.py:444: UserWarning: X has feature names, but DecisionTreeRegressor was fitted without feature names\n",
            "  f\"X has feature names, but {self.__class__.__name__} was fitted without\"\n",
            "/usr/local/lib/python3.7/dist-packages/sklearn/base.py:444: UserWarning: X has feature names, but DecisionTreeRegressor was fitted without feature names\n",
            "  f\"X has feature names, but {self.__class__.__name__} was fitted without\"\n",
            "/usr/local/lib/python3.7/dist-packages/sklearn/base.py:444: UserWarning: X has feature names, but DecisionTreeRegressor was fitted without feature names\n",
            "  f\"X has feature names, but {self.__class__.__name__} was fitted without\"\n",
            "/usr/local/lib/python3.7/dist-packages/sklearn/base.py:444: UserWarning: X has feature names, but DecisionTreeRegressor was fitted without feature names\n",
            "  f\"X has feature names, but {self.__class__.__name__} was fitted without\"\n",
            "/usr/local/lib/python3.7/dist-packages/sklearn/base.py:444: UserWarning: X has feature names, but DecisionTreeRegressor was fitted without feature names\n",
            "  f\"X has feature names, but {self.__class__.__name__} was fitted without\"\n",
            "/usr/local/lib/python3.7/dist-packages/sklearn/base.py:444: UserWarning: X has feature names, but DecisionTreeRegressor was fitted without feature names\n",
            "  f\"X has feature names, but {self.__class__.__name__} was fitted without\"\n",
            "/usr/local/lib/python3.7/dist-packages/sklearn/base.py:444: UserWarning: X has feature names, but DecisionTreeRegressor was fitted without feature names\n",
            "  f\"X has feature names, but {self.__class__.__name__} was fitted without\"\n",
            "/usr/local/lib/python3.7/dist-packages/sklearn/base.py:444: UserWarning: X has feature names, but DecisionTreeRegressor was fitted without feature names\n",
            "  f\"X has feature names, but {self.__class__.__name__} was fitted without\"\n",
            "/usr/local/lib/python3.7/dist-packages/sklearn/base.py:444: UserWarning: X has feature names, but DecisionTreeRegressor was fitted without feature names\n",
            "  f\"X has feature names, but {self.__class__.__name__} was fitted without\"\n",
            "/usr/local/lib/python3.7/dist-packages/sklearn/base.py:444: UserWarning: X has feature names, but DecisionTreeRegressor was fitted without feature names\n",
            "  f\"X has feature names, but {self.__class__.__name__} was fitted without\"\n",
            "/usr/local/lib/python3.7/dist-packages/sklearn/base.py:444: UserWarning: X has feature names, but DecisionTreeRegressor was fitted without feature names\n",
            "  f\"X has feature names, but {self.__class__.__name__} was fitted without\"\n",
            "/usr/local/lib/python3.7/dist-packages/sklearn/base.py:444: UserWarning: X has feature names, but DecisionTreeRegressor was fitted without feature names\n",
            "  f\"X has feature names, but {self.__class__.__name__} was fitted without\"\n",
            "/usr/local/lib/python3.7/dist-packages/sklearn/base.py:444: UserWarning: X has feature names, but DecisionTreeRegressor was fitted without feature names\n",
            "  f\"X has feature names, but {self.__class__.__name__} was fitted without\"\n",
            "/usr/local/lib/python3.7/dist-packages/sklearn/base.py:444: UserWarning: X has feature names, but DecisionTreeRegressor was fitted without feature names\n",
            "  f\"X has feature names, but {self.__class__.__name__} was fitted without\"\n",
            "/usr/local/lib/python3.7/dist-packages/sklearn/base.py:444: UserWarning: X has feature names, but DecisionTreeRegressor was fitted without feature names\n",
            "  f\"X has feature names, but {self.__class__.__name__} was fitted without\"\n",
            "/usr/local/lib/python3.7/dist-packages/sklearn/base.py:444: UserWarning: X has feature names, but DecisionTreeRegressor was fitted without feature names\n",
            "  f\"X has feature names, but {self.__class__.__name__} was fitted without\"\n",
            "/usr/local/lib/python3.7/dist-packages/sklearn/base.py:444: UserWarning: X has feature names, but DecisionTreeRegressor was fitted without feature names\n",
            "  f\"X has feature names, but {self.__class__.__name__} was fitted without\"\n",
            "/usr/local/lib/python3.7/dist-packages/sklearn/base.py:444: UserWarning: X has feature names, but DecisionTreeRegressor was fitted without feature names\n",
            "  f\"X has feature names, but {self.__class__.__name__} was fitted without\"\n",
            "/usr/local/lib/python3.7/dist-packages/sklearn/base.py:444: UserWarning: X has feature names, but DecisionTreeRegressor was fitted without feature names\n",
            "  f\"X has feature names, but {self.__class__.__name__} was fitted without\"\n",
            "/usr/local/lib/python3.7/dist-packages/sklearn/base.py:444: UserWarning: X has feature names, but DecisionTreeRegressor was fitted without feature names\n",
            "  f\"X has feature names, but {self.__class__.__name__} was fitted without\"\n",
            "/usr/local/lib/python3.7/dist-packages/sklearn/base.py:444: UserWarning: X has feature names, but DecisionTreeRegressor was fitted without feature names\n",
            "  f\"X has feature names, but {self.__class__.__name__} was fitted without\"\n",
            "/usr/local/lib/python3.7/dist-packages/sklearn/base.py:444: UserWarning: X has feature names, but DecisionTreeRegressor was fitted without feature names\n",
            "  f\"X has feature names, but {self.__class__.__name__} was fitted without\"\n",
            "/usr/local/lib/python3.7/dist-packages/sklearn/base.py:444: UserWarning: X has feature names, but DecisionTreeRegressor was fitted without feature names\n",
            "  f\"X has feature names, but {self.__class__.__name__} was fitted without\"\n",
            "/usr/local/lib/python3.7/dist-packages/sklearn/base.py:444: UserWarning: X has feature names, but DecisionTreeRegressor was fitted without feature names\n",
            "  f\"X has feature names, but {self.__class__.__name__} was fitted without\"\n",
            "/usr/local/lib/python3.7/dist-packages/sklearn/base.py:444: UserWarning: X has feature names, but DecisionTreeRegressor was fitted without feature names\n",
            "  f\"X has feature names, but {self.__class__.__name__} was fitted without\"\n",
            "/usr/local/lib/python3.7/dist-packages/sklearn/base.py:444: UserWarning: X has feature names, but DecisionTreeRegressor was fitted without feature names\n",
            "  f\"X has feature names, but {self.__class__.__name__} was fitted without\"\n",
            "/usr/local/lib/python3.7/dist-packages/sklearn/base.py:444: UserWarning: X has feature names, but DecisionTreeRegressor was fitted without feature names\n",
            "  f\"X has feature names, but {self.__class__.__name__} was fitted without\"\n",
            "/usr/local/lib/python3.7/dist-packages/sklearn/base.py:444: UserWarning: X has feature names, but DecisionTreeRegressor was fitted without feature names\n",
            "  f\"X has feature names, but {self.__class__.__name__} was fitted without\"\n",
            "/usr/local/lib/python3.7/dist-packages/sklearn/base.py:444: UserWarning: X has feature names, but DecisionTreeRegressor was fitted without feature names\n",
            "  f\"X has feature names, but {self.__class__.__name__} was fitted without\"\n",
            "/usr/local/lib/python3.7/dist-packages/sklearn/base.py:444: UserWarning: X has feature names, but DecisionTreeRegressor was fitted without feature names\n",
            "  f\"X has feature names, but {self.__class__.__name__} was fitted without\"\n",
            "/usr/local/lib/python3.7/dist-packages/sklearn/base.py:444: UserWarning: X has feature names, but DecisionTreeRegressor was fitted without feature names\n",
            "  f\"X has feature names, but {self.__class__.__name__} was fitted without\"\n",
            "/usr/local/lib/python3.7/dist-packages/sklearn/base.py:444: UserWarning: X has feature names, but DecisionTreeRegressor was fitted without feature names\n",
            "  f\"X has feature names, but {self.__class__.__name__} was fitted without\"\n",
            "/usr/local/lib/python3.7/dist-packages/sklearn/base.py:444: UserWarning: X has feature names, but DecisionTreeRegressor was fitted without feature names\n",
            "  f\"X has feature names, but {self.__class__.__name__} was fitted without\"\n"
          ]
        }
      ],
      "source": [
        "preds = np.stack([tree.predict(X_valid) for tree in model3.estimators_])"
      ]
    },
    {
      "cell_type": "code",
      "execution_count": null,
      "metadata": {
        "colab": {
          "base_uri": "https://localhost:8080/",
          "height": 611
        },
        "id": "aT18P4wO2b5b",
        "outputId": "046a8936-e86a-4239-b7e1-9ad71d6daa9b"
      },
      "outputs": [
        {
          "data": {
            "image/png": "[encoded data removed]",
            "text/plain": [
              "<Figure size 720x720 with 1 Axes>"
            ]
          },
          "metadata": {},
          "output_type": "display_data"
        }
      ],
      "source": [
        "plot_r2_vs_trees(preds, y_valid)"
      ]
    },
    {
      "cell_type": "markdown",
      "metadata": {
        "id": "VZI4UhnY2mJB"
      },
      "source": [
        "We see that the with even higher number of trees the performance is flattening out . But we see a peak at 25 trees, so this would be the best amount."
      ]
    },
    {
      "cell_type": "code",
      "execution_count": null,
      "metadata": {
        "colab": {
          "base_uri": "https://localhost:8080/"
        },
        "id": "4Qo-yFC82hVy",
        "outputId": "dca2e5e7-cef8-4600-c45a-eb20d5c6efa0"
      },
      "outputs": [
        {
          "name": "stdout",
          "output_type": "stream",
          "text": [
            "RMSE on train: 13192.889\n",
            "RMSE on valid: 12803.307\n"
          ]
        }
      ],
      "source": [
        "model4 = RandomForestRegressor(n_estimators=25, max_depth=3,bootstrap=True, random_state=1999, n_jobs=-1)\n",
        "model4.fit(X_train, y_train)\n",
        "print_rf_scores(model4)"
      ]
    },
    {
      "cell_type": "markdown",
      "metadata": {
        "id": "N3jZlExg6iw_"
      },
      "source": [
        "Like this I was able to slightly improve the model. It was already well fitted"
      ]
    },
    {
      "cell_type": "markdown",
      "metadata": {
        "id": "VLT-w2l568-0"
      },
      "source": [
        "## More Hyperparameter Tuning"
      ]
    },
    {
      "cell_type": "markdown",
      "metadata": {
        "id": "KLeXgJHC7BUn"
      },
      "source": [
        "I take model4 as baseline model as it has performerd pretty well, it is now the model 5."
      ]
    },
    {
      "cell_type": "code",
      "execution_count": null,
      "metadata": {
        "colab": {
          "base_uri": "https://localhost:8080/"
        },
        "id": "10nB6AXg6_qi",
        "outputId": "511dfc3e-9000-4e9d-fb1f-e1e029830d07"
      },
      "outputs": [
        {
          "name": "stdout",
          "output_type": "stream",
          "text": [
            "RMSE on train: 13192.889\n",
            "RMSE on valid: 12803.307\n"
          ]
        }
      ],
      "source": [
        "model5 = RandomForestRegressor(n_estimators=25, max_depth = 3, bootstrap=True, random_state=1999, n_jobs=-1, min_samples_leaf=3)\n",
        "model5.fit(X_train, y_train)\n",
        "print_rf_scores(model5)"
      ]
    },
    {
      "cell_type": "code",
      "execution_count": null,
      "metadata": {
        "colab": {
          "base_uri": "https://localhost:8080/"
        },
        "id": "fkaQndfwbkUR",
        "outputId": "6f16438e-18a6-433e-f067-6ac90de20b0d"
      },
      "outputs": [
        {
          "name": "stdout",
          "output_type": "stream",
          "text": [
            "RMSE on train: 13192.889\n",
            "RMSE on valid: 12803.307\n"
          ]
        }
      ],
      "source": [
        "model6 = RandomForestRegressor(n_estimators=25, max_depth = 3, bootstrap=True, random_state=1999, n_jobs=-1, min_samples_leaf=10)\n",
        "model6.fit(X_train, y_train)\n",
        "print_rf_scores(model6)"
      ]
    },
    {
      "cell_type": "markdown",
      "metadata": {
        "id": "bqI2CX3NcM3c"
      },
      "source": [
        "It seems like that changing the minimum amount of samples per leaf won't change the results of the model."
      ]
    },
    {
      "cell_type": "code",
      "execution_count": null,
      "metadata": {
        "colab": {
          "base_uri": "https://localhost:8080/"
        },
        "id": "9VwoZ2A61z4D",
        "outputId": "b5d74ef9-d710-4a73-97e6-39516b4bccef"
      },
      "outputs": [
        {
          "name": "stdout",
          "output_type": "stream",
          "text": [
            "RMSE on train: 13192.889\n",
            "RMSE on valid: 12803.307\n"
          ]
        }
      ],
      "source": [
        "model7 = RandomForestRegressor(n_estimators=25, max_depth = 3, bootstrap=True, random_state=1999, n_jobs=-1, min_samples_leaf=10, max_leaf_nodes=50)\n",
        "model7.fit(X_train, y_train)\n",
        "print_rf_scores(model7)"
      ]
    },
    {
      "cell_type": "markdown",
      "metadata": {
        "id": "ZuhJGakg20mL"
      },
      "source": [
        "also when adding the parameter \"max_leaf_nodes\" it wont change the result significantly, jsut a little"
      ]
    },
    {
      "cell_type": "markdown",
      "metadata": {
        "id": "yjWPQnw67JMJ"
      },
      "source": [
        "## Feature Importance"
      ]
    },
    {
      "cell_type": "markdown",
      "metadata": {
        "id": "9LmCtJPwYzZN"
      },
      "source": [
        "With the feature importance function it is possible to see which columns contribute the most to the performance of the model"
      ]
    },
    {
      "cell_type": "code",
      "execution_count": null,
      "metadata": {
        "id": "ZNTrWhA37LZt"
      },
      "outputs": [],
      "source": [
        "def rf_feature_importance(fitted_model, df):\n",
        "    return pd.DataFrame(\n",
        "        {\"Column\": df.columns, \"Importance\": fitted_model.feature_importances_}\n",
        "    ).sort_values(\"Importance\", ascending=False)"
      ]
    },
    {
      "cell_type": "code",
      "execution_count": null,
      "metadata": {
        "colab": {
          "base_uri": "https://localhost:8080/",
          "height": 363
        },
        "id": "aqSG4cdbdCZx",
        "outputId": "d6050457-e94a-4e96-f748-6ee87b9a6680"
      },
      "outputs": [
        {
          "data": {
            "text/html": [
              "\n",
              "  <div id=\"df-a959f20e-77c0-4742-b3f0-c3ce0a6990ec\">\n",
              "    <div class=\"colab-df-container\">\n",
              "      <div>\n",
              "<style scoped>\n",
              "    .dataframe tbody tr th:only-of-type {\n",
              "        vertical-align: middle;\n",
              "    }\n",
              "\n",
              "    .dataframe tbody tr th {\n",
              "        vertical-align: top;\n",
              "    }\n",
              "\n",
              "    .dataframe thead th {\n",
              "        text-align: right;\n",
              "    }\n",
              "</style>\n",
              "<table border=\"1\" class=\"dataframe\">\n",
              "  <thead>\n",
              "    <tr style=\"text-align: right;\">\n",
              "      <th></th>\n",
              "      <th>Column</th>\n",
              "      <th>Importance</th>\n",
              "    </tr>\n",
              "  </thead>\n",
              "  <tbody>\n",
              "    <tr>\n",
              "      <th>18</th>\n",
              "      <td>Amb_WindSpeed_Est_Avg</td>\n",
              "      <td>0.992447</td>\n",
              "    </tr>\n",
              "    <tr>\n",
              "      <th>0</th>\n",
              "      <td>Gen_RPM_Avg</td>\n",
              "      <td>0.006354</td>\n",
              "    </tr>\n",
              "    <tr>\n",
              "      <th>4</th>\n",
              "      <td>Rtr_RPM_Avg</td>\n",
              "      <td>0.000613</td>\n",
              "    </tr>\n",
              "    <tr>\n",
              "      <th>23</th>\n",
              "      <td>Grd_Prod_PsbleInd_Avg</td>\n",
              "      <td>0.000294</td>\n",
              "    </tr>\n",
              "    <tr>\n",
              "      <th>20</th>\n",
              "      <td>Grd_Prod_ReactPwr_Avg</td>\n",
              "      <td>0.000292</td>\n",
              "    </tr>\n",
              "    <tr>\n",
              "      <th>340</th>\n",
              "      <td>Date_2016-11-08</td>\n",
              "      <td>0.000000</td>\n",
              "    </tr>\n",
              "    <tr>\n",
              "      <th>362</th>\n",
              "      <td>Date_2016-11-30</td>\n",
              "      <td>0.000000</td>\n",
              "    </tr>\n",
              "    <tr>\n",
              "      <th>357</th>\n",
              "      <td>Date_2016-11-25</td>\n",
              "      <td>0.000000</td>\n",
              "    </tr>\n",
              "    <tr>\n",
              "      <th>358</th>\n",
              "      <td>Date_2016-11-26</td>\n",
              "      <td>0.000000</td>\n",
              "    </tr>\n",
              "    <tr>\n",
              "      <th>359</th>\n",
              "      <td>Date_2016-11-27</td>\n",
              "      <td>0.000000</td>\n",
              "    </tr>\n",
              "  </tbody>\n",
              "</table>\n",
              "</div>\n",
              "      <button class=\"colab-df-convert\" onclick=\"convertToInteractive('df-a959f20e-77c0-4742-b3f0-c3ce0a6990ec')\"\n",
              "              title=\"Convert this dataframe to an interactive table.\"\n",
              "              style=\"display:none;\">\n",
              "        \n",
              "  <svg xmlns=\"http://www.w3.org/2000/svg\" height=\"24px\"viewBox=\"0 0 24 24\"\n",
              "       width=\"24px\">\n",
              "    <path d=\"M0 0h24v24H0V0z\" fill=\"none\"/>\n",
              "    <path d=\"M18.56 5.44l.94 2.06.94-2.06 2.06-.94-2.06-.94-.94-2.06-.94 2.06-2.06.94zm-11 1L8.5 8.5l.94-2.06 2.06-.94-2.06-.94L8.5 2.5l-.94 2.06-2.06.94zm10 10l.94 2.06.94-2.06 2.06-.94-2.06-.94-.94-2.06-.94 2.06-2.06.94z\"/><path d=\"M17.41 7.96l-1.37-1.37c-.4-.4-.92-.59-1.43-.59-.52 0-1.04.2-1.43.59L10.3 9.45l-7.72 7.72c-.78.78-.78 2.05 0 2.83L4 21.41c.39.39.9.59 1.41.59.51 0 1.02-.2 1.41-.59l7.78-7.78 2.81-2.81c.8-.78.8-2.07 0-2.86zM5.41 20L4 18.59l7.72-7.72 1.47 1.35L5.41 20z\"/>\n",
              "  </svg>\n",
              "      </button>\n",
              "      \n",
              "  <style>\n",
              "    .colab-df-container {\n",
              "      display:flex;\n",
              "      flex-wrap:wrap;\n",
              "      gap: 12px;\n",
              "    }\n",
              "\n",
              "    .colab-df-convert {\n",
              "      background-color: #E8F0FE;\n",
              "      border: none;\n",
              "      border-radius: 50%;\n",
              "      cursor: pointer;\n",
              "      display: none;\n",
              "      fill: #1967D2;\n",
              "      height: 32px;\n",
              "      padding: 0 0 0 0;\n",
              "      width: 32px;\n",
              "    }\n",
              "\n",
              "    .colab-df-convert:hover {\n",
              "      background-color: #E2EBFA;\n",
              "      box-shadow: 0px 1px 2px rgba(60, 64, 67, 0.3), 0px 1px 3px 1px rgba(60, 64, 67, 0.15);\n",
              "      fill: #174EA6;\n",
              "    }\n",
              "\n",
              "    [theme=dark] .colab-df-convert {\n",
              "      background-color: #3B4455;\n",
              "      fill: #D2E3FC;\n",
              "    }\n",
              "\n",
              "    [theme=dark] .colab-df-convert:hover {\n",
              "      background-color: #434B5C;\n",
              "      box-shadow: 0px 1px 3px 1px rgba(0, 0, 0, 0.15);\n",
              "      filter: drop-shadow(0px 1px 2px rgba(0, 0, 0, 0.3));\n",
              "      fill: #FFFFFF;\n",
              "    }\n",
              "  </style>\n",
              "\n",
              "      <script>\n",
              "        const buttonEl =\n",
              "          document.querySelector('#df-a959f20e-77c0-4742-b3f0-c3ce0a6990ec button.colab-df-convert');\n",
              "        buttonEl.style.display =\n",
              "          google.colab.kernel.accessAllowed ? 'block' : 'none';\n",
              "\n",
              "        async function convertToInteractive(key) {\n",
              "          const element = document.querySelector('#df-a959f20e-77c0-4742-b3f0-c3ce0a6990ec');\n",
              "          const dataTable =\n",
              "            await google.colab.kernel.invokeFunction('convertToInteractive',\n",
              "                                                     [key], {});\n",
              "          if (!dataTable) return;\n",
              "\n",
              "          const docLinkHtml = 'Like what you see? Visit the ' +\n",
              "            '<a target=\"_blank\" href=https://colab.research.google.com/notebooks/data_table.ipynb>data table notebook</a>'\n",
              "            + ' to learn more about interactive tables.';\n",
              "          element.innerHTML = '';\n",
              "          dataTable['output_type'] = 'display_data';\n",
              "          await google.colab.output.renderOutput(dataTable, element);\n",
              "          const docLink = document.createElement('div');\n",
              "          docLink.innerHTML = docLinkHtml;\n",
              "          element.appendChild(docLink);\n",
              "        }\n",
              "      </script>\n",
              "    </div>\n",
              "  </div>\n",
              "  "
            ],
            "text/plain": [
              "                    Column  Importance\n",
              "18   Amb_WindSpeed_Est_Avg    0.992447\n",
              "0              Gen_RPM_Avg    0.006354\n",
              "4              Rtr_RPM_Avg    0.000613\n",
              "23   Grd_Prod_PsbleInd_Avg    0.000294\n",
              "20   Grd_Prod_ReactPwr_Avg    0.000292\n",
              "340        Date_2016-11-08    0.000000\n",
              "362        Date_2016-11-30    0.000000\n",
              "357        Date_2016-11-25    0.000000\n",
              "358        Date_2016-11-26    0.000000\n",
              "359        Date_2016-11-27    0.000000"
            ]
          },
          "execution_count": 69,
          "metadata": {},
          "output_type": "execute_result"
        }
      ],
      "source": [
        "feature_importance = rf_feature_importance(model5, X)\n",
        "\n",
        "# peek at top 10 features\n",
        "feature_importance[:10]"
      ]
    },
    {
      "cell_type": "markdown",
      "metadata": {
        "id": "6tVb1bPCdVkZ"
      },
      "source": [
        "We see that only the first 4 have some importance for the model. But most significant to the model is obviously the Windspeed because it is the driving force that makes the turbines turn."
      ]
    },
    {
      "cell_type": "markdown",
      "metadata": {
        "id": "dmIOIUl8euwE"
      },
      "source": [
        "**Drop unimportant features**"
      ]
    },
    {
      "cell_type": "code",
      "execution_count": null,
      "metadata": {
        "colab": {
          "base_uri": "https://localhost:8080/"
        },
        "id": "qe0IIdpeezw-",
        "outputId": "9e312f48-5ad7-466f-e1b3-e37baa86a577"
      },
      "outputs": [
        {
          "data": {
            "text/plain": [
              "5"
            ]
          },
          "execution_count": 70,
          "metadata": {},
          "output_type": "execute_result"
        }
      ],
      "source": [
        "feature_importance_threshold = 0.0002\n",
        "cols_to_keep = feature_importance[\n",
        "    feature_importance['Importance'] > feature_importance_threshold\n",
        "]['Column']\n",
        "\n",
        "len(cols_to_keep)"
      ]
    },
    {
      "cell_type": "code",
      "execution_count": null,
      "metadata": {
        "id": "yug-ynWKfI0W"
      },
      "outputs": [],
      "source": [
        "X_keep = X.copy()[cols_to_keep]\n",
        "X_train, X_valid = train_test_split(X_keep, test_size=0.2, random_state=1999)"
      ]
    },
    {
      "cell_type": "code",
      "execution_count": null,
      "metadata": {
        "colab": {
          "base_uri": "https://localhost:8080/",
          "height": 206
        },
        "id": "3jJVegXzfJgK",
        "outputId": "74f3222b-d24a-4e0e-ec9c-dee7b57033a7"
      },
      "outputs": [
        {
          "data": {
            "text/html": [
              "\n",
              "  <div id=\"df-9b7d89c2-770c-42ab-bf0a-1c84b1295424\">\n",
              "    <div class=\"colab-df-container\">\n",
              "      <div>\n",
              "<style scoped>\n",
              "    .dataframe tbody tr th:only-of-type {\n",
              "        vertical-align: middle;\n",
              "    }\n",
              "\n",
              "    .dataframe tbody tr th {\n",
              "        vertical-align: top;\n",
              "    }\n",
              "\n",
              "    .dataframe thead th {\n",
              "        text-align: right;\n",
              "    }\n",
              "</style>\n",
              "<table border=\"1\" class=\"dataframe\">\n",
              "  <thead>\n",
              "    <tr style=\"text-align: right;\">\n",
              "      <th></th>\n",
              "      <th>Amb_WindSpeed_Est_Avg</th>\n",
              "      <th>Gen_RPM_Avg</th>\n",
              "      <th>Rtr_RPM_Avg</th>\n",
              "      <th>Grd_Prod_PsbleInd_Avg</th>\n",
              "      <th>Grd_Prod_ReactPwr_Avg</th>\n",
              "    </tr>\n",
              "  </thead>\n",
              "  <tbody>\n",
              "    <tr>\n",
              "      <th>0</th>\n",
              "      <td>7.0</td>\n",
              "      <td>1495.0</td>\n",
              "      <td>13.2</td>\n",
              "      <td>-1000.0</td>\n",
              "      <td>-144.4</td>\n",
              "    </tr>\n",
              "    <tr>\n",
              "      <th>1</th>\n",
              "      <td>7.5</td>\n",
              "      <td>1530.5</td>\n",
              "      <td>13.6</td>\n",
              "      <td>-999.9</td>\n",
              "      <td>-168.9</td>\n",
              "    </tr>\n",
              "    <tr>\n",
              "      <th>2</th>\n",
              "      <td>7.9</td>\n",
              "      <td>1550.5</td>\n",
              "      <td>13.7</td>\n",
              "      <td>-998.3</td>\n",
              "      <td>-162.6</td>\n",
              "    </tr>\n",
              "    <tr>\n",
              "      <th>3</th>\n",
              "      <td>4.6</td>\n",
              "      <td>1269.1</td>\n",
              "      <td>11.2</td>\n",
              "      <td>-591.5</td>\n",
              "      <td>-88.0</td>\n",
              "    </tr>\n",
              "    <tr>\n",
              "      <th>4</th>\n",
              "      <td>4.0</td>\n",
              "      <td>1248.8</td>\n",
              "      <td>11.1</td>\n",
              "      <td>-365.0</td>\n",
              "      <td>-46.0</td>\n",
              "    </tr>\n",
              "  </tbody>\n",
              "</table>\n",
              "</div>\n",
              "      <button class=\"colab-df-convert\" onclick=\"convertToInteractive('df-9b7d89c2-770c-42ab-bf0a-1c84b1295424')\"\n",
              "              title=\"Convert this dataframe to an interactive table.\"\n",
              "              style=\"display:none;\">\n",
              "        \n",
              "  <svg xmlns=\"http://www.w3.org/2000/svg\" height=\"24px\"viewBox=\"0 0 24 24\"\n",
              "       width=\"24px\">\n",
              "    <path d=\"M0 0h24v24H0V0z\" fill=\"none\"/>\n",
              "    <path d=\"M18.56 5.44l.94 2.06.94-2.06 2.06-.94-2.06-.94-.94-2.06-.94 2.06-2.06.94zm-11 1L8.5 8.5l.94-2.06 2.06-.94-2.06-.94L8.5 2.5l-.94 2.06-2.06.94zm10 10l.94 2.06.94-2.06 2.06-.94-2.06-.94-.94-2.06-.94 2.06-2.06.94z\"/><path d=\"M17.41 7.96l-1.37-1.37c-.4-.4-.92-.59-1.43-.59-.52 0-1.04.2-1.43.59L10.3 9.45l-7.72 7.72c-.78.78-.78 2.05 0 2.83L4 21.41c.39.39.9.59 1.41.59.51 0 1.02-.2 1.41-.59l7.78-7.78 2.81-2.81c.8-.78.8-2.07 0-2.86zM5.41 20L4 18.59l7.72-7.72 1.47 1.35L5.41 20z\"/>\n",
              "  </svg>\n",
              "      </button>\n",
              "      \n",
              "  <style>\n",
              "    .colab-df-container {\n",
              "      display:flex;\n",
              "      flex-wrap:wrap;\n",
              "      gap: 12px;\n",
              "    }\n",
              "\n",
              "    .colab-df-convert {\n",
              "      background-color: #E8F0FE;\n",
              "      border: none;\n",
              "      border-radius: 50%;\n",
              "      cursor: pointer;\n",
              "      display: none;\n",
              "      fill: #1967D2;\n",
              "      height: 32px;\n",
              "      padding: 0 0 0 0;\n",
              "      width: 32px;\n",
              "    }\n",
              "\n",
              "    .colab-df-convert:hover {\n",
              "      background-color: #E2EBFA;\n",
              "      box-shadow: 0px 1px 2px rgba(60, 64, 67, 0.3), 0px 1px 3px 1px rgba(60, 64, 67, 0.15);\n",
              "      fill: #174EA6;\n",
              "    }\n",
              "\n",
              "    [theme=dark] .colab-df-convert {\n",
              "      background-color: #3B4455;\n",
              "      fill: #D2E3FC;\n",
              "    }\n",
              "\n",
              "    [theme=dark] .colab-df-convert:hover {\n",
              "      background-color: #434B5C;\n",
              "      box-shadow: 0px 1px 3px 1px rgba(0, 0, 0, 0.15);\n",
              "      filter: drop-shadow(0px 1px 2px rgba(0, 0, 0, 0.3));\n",
              "      fill: #FFFFFF;\n",
              "    }\n",
              "  </style>\n",
              "\n",
              "      <script>\n",
              "        const buttonEl =\n",
              "          document.querySelector('#df-9b7d89c2-770c-42ab-bf0a-1c84b1295424 button.colab-df-convert');\n",
              "        buttonEl.style.display =\n",
              "          google.colab.kernel.accessAllowed ? 'block' : 'none';\n",
              "\n",
              "        async function convertToInteractive(key) {\n",
              "          const element = document.querySelector('#df-9b7d89c2-770c-42ab-bf0a-1c84b1295424');\n",
              "          const dataTable =\n",
              "            await google.colab.kernel.invokeFunction('convertToInteractive',\n",
              "                                                     [key], {});\n",
              "          if (!dataTable) return;\n",
              "\n",
              "          const docLinkHtml = 'Like what you see? Visit the ' +\n",
              "            '<a target=\"_blank\" href=https://colab.research.google.com/notebooks/data_table.ipynb>data table notebook</a>'\n",
              "            + ' to learn more about interactive tables.';\n",
              "          element.innerHTML = '';\n",
              "          dataTable['output_type'] = 'display_data';\n",
              "          await google.colab.output.renderOutput(dataTable, element);\n",
              "          const docLink = document.createElement('div');\n",
              "          docLink.innerHTML = docLinkHtml;\n",
              "          element.appendChild(docLink);\n",
              "        }\n",
              "      </script>\n",
              "    </div>\n",
              "  </div>\n",
              "  "
            ],
            "text/plain": [
              "   Amb_WindSpeed_Est_Avg  Gen_RPM_Avg  Rtr_RPM_Avg  Grd_Prod_PsbleInd_Avg  \\\n",
              "0                    7.0       1495.0         13.2                -1000.0   \n",
              "1                    7.5       1530.5         13.6                 -999.9   \n",
              "2                    7.9       1550.5         13.7                 -998.3   \n",
              "3                    4.6       1269.1         11.2                 -591.5   \n",
              "4                    4.0       1248.8         11.1                 -365.0   \n",
              "\n",
              "   Grd_Prod_ReactPwr_Avg  \n",
              "0                 -144.4  \n",
              "1                 -168.9  \n",
              "2                 -162.6  \n",
              "3                  -88.0  \n",
              "4                  -46.0  "
            ]
          },
          "execution_count": 72,
          "metadata": {},
          "output_type": "execute_result"
        }
      ],
      "source": [
        "X_keep.head()"
      ]
    },
    {
      "cell_type": "markdown",
      "metadata": {
        "id": "-Sl_Ivr_fsgy"
      },
      "source": [
        "Now we have a much simpler dataset with not so many feaatures. To make sure that the model still performs well, we will make a sanity check."
      ]
    },
    {
      "cell_type": "code",
      "execution_count": null,
      "metadata": {
        "colab": {
          "base_uri": "https://localhost:8080/"
        },
        "id": "GdFEXo5dgGw6",
        "outputId": "62faed4c-7afa-4db0-8ff1-7cada9f15406"
      },
      "outputs": [
        {
          "name": "stdout",
          "output_type": "stream",
          "text": [
            "RMSE on train: 13192.949\n",
            "RMSE on valid: 12801.659\n"
          ]
        }
      ],
      "source": [
        "model8 = RandomForestRegressor(n_estimators=25, max_depth = 3, bootstrap=True, random_state=1999, n_jobs=-1, min_samples_leaf=10)\n",
        "\n",
        "model8.fit(X_train, y_train)\n",
        "print_rf_scores(model8)"
      ]
    },
    {
      "cell_type": "markdown",
      "metadata": {
        "id": "HQE5R_xSggBz"
      },
      "source": [
        "The model stil has a RMSE of 12803 which is the same as the previous model, so we have not negativily impacted the model"
      ]
    },
    {
      "cell_type": "markdown",
      "metadata": {
        "id": "Hk86ViP0hNxV"
      },
      "source": [
        "## Overfitting"
      ]
    },
    {
      "cell_type": "markdown",
      "metadata": {
        "id": "u1tROJAtizgo"
      },
      "source": [
        "Overfitting is the case when the model is performing well on the training set but poorly on the validation set. THis means that the model has memorized all the structure of the training set and can't react to any form of new data. \n",
        "\n",
        "To prevent overfitting we will try to find the best fit for each parameter of the model\n",
        "\n",
        "Also i don't want that the model is underfitting, which means that the model performes poor on the training set and also bad on the validation set. "
      ]
    },
    {
      "cell_type": "code",
      "execution_count": null,
      "metadata": {
        "id": "LnPIXrDUlS8H"
      },
      "outputs": [],
      "source": [
        "from sklearn.model_selection import cross_validate\n",
        "def plot_fitting_graph(x, metric_train, metric_valid, metric_name='metric', xlabel='x', yscale='linear'):\n",
        "    plt.figure(figsize=(10,10))\n",
        "    plt.plot(x, metric_train, label='train')\n",
        "    plt.plot(x, metric_valid, label='valid')\n",
        "    plt.yscale(yscale)\n",
        "    plt.title('Fitting graph')\n",
        "    plt.ylabel(metric_name)\n",
        "    plt.xlabel(xlabel)\n",
        "    plt.legend(loc='best')\n",
        "    plt.grid(True)"
      ]
    },
    {
      "cell_type": "code",
      "execution_count": null,
      "metadata": {
        "id": "Wsiq1wt8nWV_"
      },
      "outputs": [],
      "source": [
        "X =X_keep"
      ]
    },
    {
      "cell_type": "code",
      "execution_count": null,
      "metadata": {
        "id": "sQoBVoDk7gRp"
      },
      "outputs": [],
      "source": []
    },
    {
      "cell_type": "markdown",
      "metadata": {
        "id": "02qDsKNFlH6B"
      },
      "source": [
        "First we create the untuned model"
      ]
    },
    {
      "cell_type": "code",
      "execution_count": null,
      "metadata": {
        "colab": {
          "base_uri": "https://localhost:8080/"
        },
        "id": "qclazM7DlLMt",
        "outputId": "f482eb52-381f-4484-ccfa-19f3483a816f"
      },
      "outputs": [
        {
          "name": "stdout",
          "output_type": "stream",
          "text": [
            "Train score: 1221.1\n",
            "Validation score: 3540.6\n"
          ]
        }
      ],
      "source": [
        "\n",
        "rf = RandomForestRegressor(n_jobs=-1)\n",
        "results = cross_validate(rf, X, y,\n",
        "                          cv=5,\n",
        "                          return_train_score=True,\n",
        "                          scoring='neg_root_mean_squared_error')\n",
        "print('Train score: %.1f' % -np.mean(results['train_score']))\n",
        "print('Validation score: %.1f' % -np.mean(results['test_score']))"
      ]
    },
    {
      "cell_type": "markdown",
      "metadata": {
        "id": "q1R3HSiLpS68"
      },
      "source": [
        "Now we want to find out what is the best amount of n_estimators for our model, i.e how many trees should the randomforrest have?"
      ]
    },
    {
      "cell_type": "markdown",
      "metadata": {
        "id": "whs4qUhGuTKw"
      },
      "source": [
        "**n_estimators**"
      ]
    },
    {
      "cell_type": "code",
      "execution_count": null,
      "metadata": {
        "colab": {
          "base_uri": "https://localhost:8080/"
        },
        "id": "cxpXDICDn8v1",
        "outputId": "ce5533a8-95c5-4724-982f-df5c4b80431e"
      },
      "outputs": [
        {
          "name": "stderr",
          "output_type": "stream",
          "text": [
            "\r  0%|          | 0/4 [00:00<?, ?it/s]"
          ]
        }
      ],
      "source": [
        "rmse_train = []\n",
        "rmse_valid = []\n",
        "\n",
        "n_estimators = [25, 50, 100, 200]\n",
        "for n in tqdm(n_estimators):\n",
        "    rf = RandomForestRegressor(n_estimators=n, n_jobs=-1)\n",
        "    results = cross_validate(rf, X, y,\n",
        "                             cv=5,\n",
        "                             return_train_score=True,\n",
        "                             scoring='neg_root_mean_squared_error')\n",
        "    \n",
        "    # we average the scores and append them to the list\n",
        "    rmse_train.append(-np.mean(results['train_score']))\n",
        "    rmse_valid.append(-np.mean(results['test_score']))"
      ]
    },
    {
      "cell_type": "code",
      "execution_count": null,
      "metadata": {
        "id": "hTojhOq7qTCu"
      },
      "outputs": [],
      "source": [
        "plot_fitting_graph(n_estimators, rmse_train, rmse_valid, metric_name='RMSE', xlabel='n_estimators')"
      ]
    },
    {
      "cell_type": "markdown",
      "metadata": {
        "id": "aeJOJKP9t1_v"
      },
      "source": [
        "AS we can see with more estimators the validation error generaly goes down. But as more trees reduce the performance of the model we will stay with 100 estimators."
      ]
    },
    {
      "cell_type": "markdown",
      "metadata": {
        "id": "QCV8wsVtuO09"
      },
      "source": [
        "**max_depth**"
      ]
    },
    {
      "cell_type": "markdown",
      "metadata": {
        "id": "nrqjZ7ncvsnL"
      },
      "source": [
        "The maximum depth of a random forrest is the longest distance from the first node to the last node (leaf) in a tree."
      ]
    },
    {
      "cell_type": "code",
      "execution_count": null,
      "metadata": {
        "id": "DikWnotXuHRW"
      },
      "outputs": [],
      "source": [
        "rmse_train = []\n",
        "rmse_valid = []\n",
        "\n",
        "max_depths = [1, 2, 4, 8, 16, 32, 64]\n",
        "for d in tqdm(max_depths):\n",
        "    rf = RandomForestRegressor(n_estimators=100, max_depth=d, n_jobs=-1)\n",
        "    results = cross_validate(rf, X, y,\n",
        "                             cv=5,\n",
        "                             return_train_score=True,\n",
        "                             scoring='neg_root_mean_squared_error')\n",
        "    \n",
        "    # we average the scores and append them to the list\n",
        "    rmse_train.append(-np.mean(results['train_score']))\n",
        "    rmse_valid.append(-np.mean(results['test_score']))"
      ]
    },
    {
      "cell_type": "code",
      "execution_count": null,
      "metadata": {
        "id": "nXzcb5yzvdTL"
      },
      "outputs": [],
      "source": [
        "plot_fitting_graph(max_depths, rmse_train, rmse_valid, metric_name='RMSE', xlabel='max_depth')"
      ]
    },
    {
      "cell_type": "markdown",
      "metadata": {
        "id": "5FX-4RTMsGzz"
      },
      "source": [
        "Now we try to find which depth creates the minimum validation error"
      ]
    },
    {
      "cell_type": "code",
      "execution_count": null,
      "metadata": {
        "id": "bQpys4dwrsi3"
      },
      "outputs": [],
      "source": [
        "max_depths[np.argmin(rmse_valid)]"
      ]
    },
    {
      "cell_type": "markdown",
      "metadata": {
        "id": "adUS02rDxjq4"
      },
      "source": [
        "**min_sample_leaf**"
      ]
    },
    {
      "cell_type": "markdown",
      "metadata": {
        "id": "QGoOWw7Lx4rt"
      },
      "source": [
        "the min_sample_leaf parameter specifies the minimum number of samples that should be present in the laef node after splitting a node"
      ]
    },
    {
      "cell_type": "code",
      "execution_count": null,
      "metadata": {
        "id": "Gpy_0hNRx0FP"
      },
      "outputs": [],
      "source": [
        "rmse_train = []\n",
        "rmse_valid = []\n",
        "\n",
        "min_samples_leaf = [1, 3, 5, 10, 25]\n",
        "for s in tqdm(min_samples_leaf):\n",
        "    rf = RandomForestRegressor(n_estimators=100, max_depth=8, min_samples_leaf=s, n_jobs=-1)\n",
        "    results = cross_validate(rf, X, y,\n",
        "                             cv=5,\n",
        "                             return_train_score=True,\n",
        "                             scoring='neg_root_mean_squared_error')\n",
        "    \n",
        "    # we average the scores and append them to the list\n",
        "    rmse_train.append(-np.mean(results['train_score']))\n",
        "    rmse_valid.append(-np.mean(results['test_score']))"
      ]
    },
    {
      "cell_type": "code",
      "execution_count": null,
      "metadata": {
        "colab": {
          "base_uri": "https://localhost:8080/",
          "height": 904
        },
        "id": "qtW-8IHo01tN",
        "outputId": "90113d17-20d6-450f-bb01-248ad720d2f6"
      },
      "outputs": [
        {
          "ename": "ValueError",
          "evalue": "ignored",
          "output_type": "error",
          "traceback": [
            "\u001b[0;31m---------------------------------------------------------------------------\u001b[0m",
            "\u001b[0;31mValueError\u001b[0m                                Traceback (most recent call last)",
            "\u001b[0;32m<ipython-input-92-10bd6d103331>\u001b[0m in \u001b[0;36m<module>\u001b[0;34m()\u001b[0m\n\u001b[0;32m----> 1\u001b[0;31m \u001b[0mplot_fitting_graph\u001b[0m\u001b[0;34m(\u001b[0m\u001b[0mmin_samples_leaf\u001b[0m\u001b[0;34m,\u001b[0m \u001b[0mrmse_train\u001b[0m\u001b[0;34m,\u001b[0m \u001b[0mrmse_valid\u001b[0m\u001b[0;34m,\u001b[0m \u001b[0mmetric_name\u001b[0m\u001b[0;34m=\u001b[0m\u001b[0;34m'RMSE'\u001b[0m\u001b[0;34m,\u001b[0m \u001b[0mxlabel\u001b[0m\u001b[0;34m=\u001b[0m\u001b[0;34m'min_samples_leaf'\u001b[0m\u001b[0;34m)\u001b[0m\u001b[0;34m\u001b[0m\u001b[0;34m\u001b[0m\u001b[0m\n\u001b[0m",
            "\u001b[0;32m<ipython-input-73-c42ca78da394>\u001b[0m in \u001b[0;36mplot_fitting_graph\u001b[0;34m(x, metric_train, metric_valid, metric_name, xlabel, yscale)\u001b[0m\n\u001b[1;32m      2\u001b[0m \u001b[0;32mdef\u001b[0m \u001b[0mplot_fitting_graph\u001b[0m\u001b[0;34m(\u001b[0m\u001b[0mx\u001b[0m\u001b[0;34m,\u001b[0m \u001b[0mmetric_train\u001b[0m\u001b[0;34m,\u001b[0m \u001b[0mmetric_valid\u001b[0m\u001b[0;34m,\u001b[0m \u001b[0mmetric_name\u001b[0m\u001b[0;34m=\u001b[0m\u001b[0;34m'metric'\u001b[0m\u001b[0;34m,\u001b[0m \u001b[0mxlabel\u001b[0m\u001b[0;34m=\u001b[0m\u001b[0;34m'x'\u001b[0m\u001b[0;34m,\u001b[0m \u001b[0myscale\u001b[0m\u001b[0;34m=\u001b[0m\u001b[0;34m'linear'\u001b[0m\u001b[0;34m)\u001b[0m\u001b[0;34m:\u001b[0m\u001b[0;34m\u001b[0m\u001b[0;34m\u001b[0m\u001b[0m\n\u001b[1;32m      3\u001b[0m     \u001b[0mplt\u001b[0m\u001b[0;34m.\u001b[0m\u001b[0mfigure\u001b[0m\u001b[0;34m(\u001b[0m\u001b[0mfigsize\u001b[0m\u001b[0;34m=\u001b[0m\u001b[0;34m(\u001b[0m\u001b[0;36m10\u001b[0m\u001b[0;34m,\u001b[0m\u001b[0;36m10\u001b[0m\u001b[0;34m)\u001b[0m\u001b[0;34m)\u001b[0m\u001b[0;34m\u001b[0m\u001b[0;34m\u001b[0m\u001b[0m\n\u001b[0;32m----> 4\u001b[0;31m     \u001b[0mplt\u001b[0m\u001b[0;34m.\u001b[0m\u001b[0mplot\u001b[0m\u001b[0;34m(\u001b[0m\u001b[0mx\u001b[0m\u001b[0;34m,\u001b[0m \u001b[0mmetric_train\u001b[0m\u001b[0;34m,\u001b[0m \u001b[0mlabel\u001b[0m\u001b[0;34m=\u001b[0m\u001b[0;34m'train'\u001b[0m\u001b[0;34m)\u001b[0m\u001b[0;34m\u001b[0m\u001b[0;34m\u001b[0m\u001b[0m\n\u001b[0m\u001b[1;32m      5\u001b[0m     \u001b[0mplt\u001b[0m\u001b[0;34m.\u001b[0m\u001b[0mplot\u001b[0m\u001b[0;34m(\u001b[0m\u001b[0mx\u001b[0m\u001b[0;34m,\u001b[0m \u001b[0mmetric_valid\u001b[0m\u001b[0;34m,\u001b[0m \u001b[0mlabel\u001b[0m\u001b[0;34m=\u001b[0m\u001b[0;34m'valid'\u001b[0m\u001b[0;34m)\u001b[0m\u001b[0;34m\u001b[0m\u001b[0;34m\u001b[0m\u001b[0m\n\u001b[1;32m      6\u001b[0m     \u001b[0mplt\u001b[0m\u001b[0;34m.\u001b[0m\u001b[0myscale\u001b[0m\u001b[0;34m(\u001b[0m\u001b[0myscale\u001b[0m\u001b[0;34m)\u001b[0m\u001b[0;34m\u001b[0m\u001b[0;34m\u001b[0m\u001b[0m\n",
            "\u001b[0;32m/usr/local/lib/python3.7/dist-packages/matplotlib/pyplot.py\u001b[0m in \u001b[0;36mplot\u001b[0;34m(scalex, scaley, data, *args, **kwargs)\u001b[0m\n\u001b[1;32m   2761\u001b[0m     return gca().plot(\n\u001b[1;32m   2762\u001b[0m         *args, scalex=scalex, scaley=scaley, **({\"data\": data} if data\n\u001b[0;32m-> 2763\u001b[0;31m         is not None else {}), **kwargs)\n\u001b[0m\u001b[1;32m   2764\u001b[0m \u001b[0;34m\u001b[0m\u001b[0m\n\u001b[1;32m   2765\u001b[0m \u001b[0;34m\u001b[0m\u001b[0m\n",
            "\u001b[0;32m/usr/local/lib/python3.7/dist-packages/matplotlib/axes/_axes.py\u001b[0m in \u001b[0;36mplot\u001b[0;34m(self, scalex, scaley, data, *args, **kwargs)\u001b[0m\n\u001b[1;32m   1645\u001b[0m         \"\"\"\n\u001b[1;32m   1646\u001b[0m         \u001b[0mkwargs\u001b[0m \u001b[0;34m=\u001b[0m \u001b[0mcbook\u001b[0m\u001b[0;34m.\u001b[0m\u001b[0mnormalize_kwargs\u001b[0m\u001b[0;34m(\u001b[0m\u001b[0mkwargs\u001b[0m\u001b[0;34m,\u001b[0m \u001b[0mmlines\u001b[0m\u001b[0;34m.\u001b[0m\u001b[0mLine2D\u001b[0m\u001b[0;34m)\u001b[0m\u001b[0;34m\u001b[0m\u001b[0;34m\u001b[0m\u001b[0m\n\u001b[0;32m-> 1647\u001b[0;31m         \u001b[0mlines\u001b[0m \u001b[0;34m=\u001b[0m \u001b[0;34m[\u001b[0m\u001b[0;34m*\u001b[0m\u001b[0mself\u001b[0m\u001b[0;34m.\u001b[0m\u001b[0m_get_lines\u001b[0m\u001b[0;34m(\u001b[0m\u001b[0;34m*\u001b[0m\u001b[0margs\u001b[0m\u001b[0;34m,\u001b[0m \u001b[0mdata\u001b[0m\u001b[0;34m=\u001b[0m\u001b[0mdata\u001b[0m\u001b[0;34m,\u001b[0m \u001b[0;34m**\u001b[0m\u001b[0mkwargs\u001b[0m\u001b[0;34m)\u001b[0m\u001b[0;34m]\u001b[0m\u001b[0;34m\u001b[0m\u001b[0;34m\u001b[0m\u001b[0m\n\u001b[0m\u001b[1;32m   1648\u001b[0m         \u001b[0;32mfor\u001b[0m \u001b[0mline\u001b[0m \u001b[0;32min\u001b[0m \u001b[0mlines\u001b[0m\u001b[0;34m:\u001b[0m\u001b[0;34m\u001b[0m\u001b[0;34m\u001b[0m\u001b[0m\n\u001b[1;32m   1649\u001b[0m             \u001b[0mself\u001b[0m\u001b[0;34m.\u001b[0m\u001b[0madd_line\u001b[0m\u001b[0;34m(\u001b[0m\u001b[0mline\u001b[0m\u001b[0;34m)\u001b[0m\u001b[0;34m\u001b[0m\u001b[0;34m\u001b[0m\u001b[0m\n",
            "\u001b[0;32m/usr/local/lib/python3.7/dist-packages/matplotlib/axes/_base.py\u001b[0m in \u001b[0;36m__call__\u001b[0;34m(self, *args, **kwargs)\u001b[0m\n\u001b[1;32m    214\u001b[0m                 \u001b[0mthis\u001b[0m \u001b[0;34m+=\u001b[0m \u001b[0margs\u001b[0m\u001b[0;34m[\u001b[0m\u001b[0;36m0\u001b[0m\u001b[0;34m]\u001b[0m\u001b[0;34m,\u001b[0m\u001b[0;34m\u001b[0m\u001b[0;34m\u001b[0m\u001b[0m\n\u001b[1;32m    215\u001b[0m                 \u001b[0margs\u001b[0m \u001b[0;34m=\u001b[0m \u001b[0margs\u001b[0m\u001b[0;34m[\u001b[0m\u001b[0;36m1\u001b[0m\u001b[0;34m:\u001b[0m\u001b[0;34m]\u001b[0m\u001b[0;34m\u001b[0m\u001b[0;34m\u001b[0m\u001b[0m\n\u001b[0;32m--> 216\u001b[0;31m             \u001b[0;32myield\u001b[0m \u001b[0;32mfrom\u001b[0m \u001b[0mself\u001b[0m\u001b[0;34m.\u001b[0m\u001b[0m_plot_args\u001b[0m\u001b[0;34m(\u001b[0m\u001b[0mthis\u001b[0m\u001b[0;34m,\u001b[0m \u001b[0mkwargs\u001b[0m\u001b[0;34m)\u001b[0m\u001b[0;34m\u001b[0m\u001b[0;34m\u001b[0m\u001b[0m\n\u001b[0m\u001b[1;32m    217\u001b[0m \u001b[0;34m\u001b[0m\u001b[0m\n\u001b[1;32m    218\u001b[0m     \u001b[0;32mdef\u001b[0m \u001b[0mget_next_color\u001b[0m\u001b[0;34m(\u001b[0m\u001b[0mself\u001b[0m\u001b[0;34m)\u001b[0m\u001b[0;34m:\u001b[0m\u001b[0;34m\u001b[0m\u001b[0;34m\u001b[0m\u001b[0m\n",
            "\u001b[0;32m/usr/local/lib/python3.7/dist-packages/matplotlib/axes/_base.py\u001b[0m in \u001b[0;36m_plot_args\u001b[0;34m(self, tup, kwargs)\u001b[0m\n\u001b[1;32m    340\u001b[0m \u001b[0;34m\u001b[0m\u001b[0m\n\u001b[1;32m    341\u001b[0m         \u001b[0;32mif\u001b[0m \u001b[0mx\u001b[0m\u001b[0;34m.\u001b[0m\u001b[0mshape\u001b[0m\u001b[0;34m[\u001b[0m\u001b[0;36m0\u001b[0m\u001b[0;34m]\u001b[0m \u001b[0;34m!=\u001b[0m \u001b[0my\u001b[0m\u001b[0;34m.\u001b[0m\u001b[0mshape\u001b[0m\u001b[0;34m[\u001b[0m\u001b[0;36m0\u001b[0m\u001b[0;34m]\u001b[0m\u001b[0;34m:\u001b[0m\u001b[0;34m\u001b[0m\u001b[0;34m\u001b[0m\u001b[0m\n\u001b[0;32m--> 342\u001b[0;31m             raise ValueError(f\"x and y must have same first dimension, but \"\n\u001b[0m\u001b[1;32m    343\u001b[0m                              f\"have shapes {x.shape} and {y.shape}\")\n\u001b[1;32m    344\u001b[0m         \u001b[0;32mif\u001b[0m \u001b[0mx\u001b[0m\u001b[0;34m.\u001b[0m\u001b[0mndim\u001b[0m \u001b[0;34m>\u001b[0m \u001b[0;36m2\u001b[0m \u001b[0;32mor\u001b[0m \u001b[0my\u001b[0m\u001b[0;34m.\u001b[0m\u001b[0mndim\u001b[0m \u001b[0;34m>\u001b[0m \u001b[0;36m2\u001b[0m\u001b[0;34m:\u001b[0m\u001b[0;34m\u001b[0m\u001b[0;34m\u001b[0m\u001b[0m\n",
            "\u001b[0;31mValueError\u001b[0m: x and y must have same first dimension, but have shapes (5,) and (6,)"
          ]
        },
        {
          "data": {
            "image/png": "[encoded data removed]",
            "text/plain": [
              "<Figure size 720x720 with 1 Axes>"
            ]
          },
          "metadata": {},
          "output_type": "display_data"
        }
      ],
      "source": [
        "plot_fitting_graph(min_samples_leaf, rmse_train, rmse_valid, metric_name='RMSE', xlabel='min_samples_leaf')"
      ]
    },
    {
      "cell_type": "code",
      "execution_count": null,
      "metadata": {
        "colab": {
          "base_uri": "https://localhost:8080/"
        },
        "id": "XTcdH5Us1mWe",
        "outputId": "3cd50fcf-656f-439b-8451-109c8cd3c39a"
      },
      "outputs": [
        {
          "data": {
            "text/plain": [
              "1"
            ]
          },
          "execution_count": 91,
          "metadata": {},
          "output_type": "execute_result"
        }
      ],
      "source": [
        "min_samples_leaf[np.argmin(rmse_valid)]"
      ]
    },
    {
      "cell_type": "markdown",
      "metadata": {
        "id": "qLXTg3Fb3nly"
      },
      "source": [
        "**max_leaf_nodes**"
      ]
    },
    {
      "cell_type": "markdown",
      "metadata": {
        "id": "ZyDO1_2DaFRP"
      },
      "source": [
        "this parameter tells the model in how many nodes it is allowed to split a single leaf node. If it hits the threshold the tree won't grow further"
      ]
    },
    {
      "cell_type": "markdown",
      "metadata": {
        "id": "n0nfrfHN3sY3"
      },
      "source": []
    },
    {
      "cell_type": "code",
      "execution_count": null,
      "metadata": {
        "id": "5aD28P5d1olK"
      },
      "outputs": [],
      "source": [
        "rmse_train = []\n",
        "rmse_valid = []\n",
        "\n",
        "max_leaf_nodes = [1, 10, 20, 50, 100, 200]\n",
        "for mln in tqdm(max_leaf_nodes):\n",
        "    rf = RandomForestRegressor(n_estimators=100, max_depth=8, min_samples_leaf=1, max_leaf_nodes= mln, n_jobs=-1)\n",
        "    results = cross_validate(rf, X, y,\n",
        "                             cv=5,\n",
        "                             return_train_score=True,\n",
        "                             scoring='neg_root_mean_squared_error')\n",
        "    \n",
        "    # we average the scores and append them to the list\n",
        "    rmse_train.append(-np.mean(results['train_score']))\n",
        "    rmse_valid.append(-np.mean(results['test_score']))"
      ]
    },
    {
      "cell_type": "code",
      "execution_count": null,
      "metadata": {
        "id": "VqHN-Tyt4brK"
      },
      "outputs": [],
      "source": [
        "plot_fitting_graph(max_leaf_nodes, rmse_train, rmse_valid, metric_name='RMSE', xlabel='max_leaf_nodes')"
      ]
    },
    {
      "cell_type": "code",
      "execution_count": null,
      "metadata": {
        "id": "yIveMsRG4rqr"
      },
      "outputs": [],
      "source": [
        "max_leaf_nodes[np.argmin(rmse_valid)]"
      ]
    },
    {
      "cell_type": "markdown",
      "metadata": {
        "id": "WXhMmWA65iVv"
      },
      "source": [
        "THis result is actually surprising because the plot says that 50 or 100 would be the better answer."
      ]
    },
    {
      "cell_type": "markdown",
      "metadata": {
        "id": "iMGnF8QQ79tG"
      },
      "source": [
        "**Final Model**"
      ]
    },
    {
      "cell_type": "code",
      "execution_count": null,
      "metadata": {
        "id": "B5GtxKsS5qhT"
      },
      "outputs": [],
      "source": [
        "model9 = RandomForestRegressor(n_estimators=100, max_depth = 8, min_samples_leaf=1, random_state=1999, n_jobs=-1)\n",
        "\n",
        "model9.fit(X_train, y_train)\n",
        "print_rf_scores(model9)"
      ]
    },
    {
      "cell_type": "code",
      "execution_count": null,
      "metadata": {
        "id": "jzrr-vMADvi1"
      },
      "outputs": [],
      "source": [
        "prediction = model9.predict(X_valid)\n",
        "y_pred=pd.DataFrame(prediction, columns=['Prod_LatestAvg_ActPwrGen1'])"
      ]
    },
    {
      "cell_type": "code",
      "execution_count": null,
      "metadata": {
        "id": "xqvp4ZeWD3DL"
      },
      "outputs": [],
      "source": [
        "y_valid = y_valid.reset_index()\n",
        "y_valid.drop(['index'], axis=1, inplace=True)"
      ]
    },
    {
      "cell_type": "code",
      "execution_count": null,
      "metadata": {
        "id": "8ImFV6ZoD6Ru"
      },
      "outputs": [],
      "source": [
        "plt.figure(figsize=(6, 6))\n",
        "plt.scatter(y_valid,y_pred)\n",
        "plt.xlabel(\"Actual Average Power Production\")\n",
        "plt.ylabel(\"Predicted Average Power Production\")\n",
        "plt.xlim([0,510000])\n",
        "plt.ylim([0,510000])\n",
        "plt.title(f\"Prediction Error for {model9.__class__.__name__}\")\n",
        "plt.show()"
      ]
    },
    {
      "cell_type": "markdown",
      "metadata": {
        "id": "sCVPveD08AsU"
      },
      "source": [
        "With finding the best values for each parameter I was aible to improve the model significantly with a RMSE of only 4440"
      ]
    },
    {
      "cell_type": "markdown",
      "metadata": {
        "id": "BBZ_V4czaeIG"
      },
      "source": []
    },
    {
      "cell_type": "markdown",
      "metadata": {
        "id": "jnYl1-U2uKyT"
      },
      "source": [
        "## Model Conclusion"
      ]
    },
    {
      "cell_type": "markdown",
      "metadata": {
        "id": "BjKj81wdBgv8"
      },
      "source": [
        "THis RMSE value is actually very good as it respresents an error of 4440 Wh, which is very small in comparison to values over 300'000 which we have in our dataset. \n",
        "\n",
        "There are of course a lot more features avaiable for this model but I guess it would be too much for this notebook. \n",
        "\n",
        "Additionaly I could also have done a grid search function, but when I was testing it took way too long to execute it.\n",
        "\n",
        "In my opinion the model fits the business objective for a windturbine grid, as it clearly describes which features are used and it is easy to understand the model. Also the result is satisfactory"
      ]
    },
    {
      "cell_type": "markdown",
      "metadata": {
        "id": "rp5awqDry0Rt"
      },
      "source": [
        "# Model: Nearest Neighbor\n",
        "Vakeesan Thayaladevan"
      ]
    },
    {
      "cell_type": "markdown",
      "metadata": {
        "id": "J9lnEWERMkq2"
      },
      "source": [
        "## Dokumentation"
      ]
    },
    {
      "cell_type": "markdown",
      "metadata": {
        "id": "AOWW-osVMr4l"
      },
      "source": [
        "https://towardsdatascience.com/building-a-k-nearest-neighbors-k-nn-model-with-scikit-learn-51209555453a\n",
        "https://www.ritchieng.com/machine-learning-efficiently-search-tuning-param/\n",
        "https://towardsdatascience.com/intro-to-scikit-learns-k-nearest-neighbors-classifier-and-regressor-4228d8d1cba6"
      ]
    },
    {
      "cell_type": "code",
      "execution_count": null,
      "metadata": {
        "id": "xmmndQZOsEc6"
      },
      "outputs": [],
      "source": [
        "turbine_data.head()"
      ]
    },
    {
      "cell_type": "code",
      "execution_count": null,
      "metadata": {
        "id": "D3y8ECOCeAU2"
      },
      "outputs": [],
      "source": [
        "X = turbine_data.loc[:, turbine_data.columns != 'Prod_LatestAvg_ActPwrGen1']\n",
        "y = turbine_data[\"Prod_LatestAvg_ActPwrGen1\"]"
      ]
    },
    {
      "cell_type": "markdown",
      "metadata": {
        "id": "J3pP5IbtNMwd"
      },
      "source": [
        "## Model"
      ]
    },
    {
      "cell_type": "markdown",
      "metadata": {
        "id": "yZjqBQvCSCMt"
      },
      "source": [
        "The nearest neighbor regression predicts the actual numerical value based on the nearest value from the sample. The amount of neighbors can be also increased by puting a larger circle around the sample to base its value around more values surrounding the sample.\n",
        "\n",
        "This Model was relatively easy to understand and i had the also the possibility to classify the data with the same model."
      ]
    },
    {
      "cell_type": "code",
      "execution_count": null,
      "metadata": {
        "id": "R8qLeeUqoOyJ"
      },
      "outputs": [],
      "source": [
        "X_train, X_test, y_train, y_test = train_test_split(X, y, test_size=0.2, random_state=1999)\n",
        "print(f'{len(X_train)} train rows + {len(X_test)} test rows')"
      ]
    },
    {
      "cell_type": "markdown",
      "metadata": {
        "id": "F2FA6ViwTKCp"
      },
      "source": [
        "After loading the data i split it in train and test data"
      ]
    },
    {
      "cell_type": "code",
      "execution_count": null,
      "metadata": {
        "id": "wur02ir7oRsU"
      },
      "outputs": [],
      "source": [
        "from sklearn.neighbors import KNeighborsRegressor\n",
        "\n",
        "knn = KNeighborsRegressor(n_neighbors=3)\n",
        "knn.fit(X_train, y_train)\n",
        "knn.score(X_train, y_train)"
      ]
    },
    {
      "cell_type": "markdown",
      "metadata": {
        "id": "oLW_IPqMKbVD"
      },
      "source": [
        "with neighbors = 3, we take the mean value of the nearest three neighbors of that sample and predict the numerical value of it.\n",
        "\n",
        "with an accuarcy of 99.5% this model performs really well."
      ]
    },
    {
      "cell_type": "markdown",
      "metadata": {
        "id": "h9BLgkJHNUh7"
      },
      "source": [
        "## Cross Validation"
      ]
    },
    {
      "cell_type": "code",
      "execution_count": null,
      "metadata": {
        "id": "p56gAIBLnJ1r"
      },
      "outputs": [],
      "source": [
        "from sklearn.model_selection import cross_val_score\n",
        "cv_scores = cross_val_score(knn, X_train, y_train, cv=10)\n",
        "cv_scores"
      ]
    },
    {
      "cell_type": "markdown",
      "metadata": {
        "id": "_I6iquzSLzgT"
      },
      "source": [
        "With the help of cross validation I wanted to split the data in 10 pieces and get each performance out of it to have a more accurate evaluation of the model performance."
      ]
    },
    {
      "cell_type": "code",
      "execution_count": null,
      "metadata": {
        "id": "naff_q_zo0qF"
      },
      "outputs": [],
      "source": [
        "np.mean(cv_scores)"
      ]
    },
    {
      "cell_type": "markdown",
      "metadata": {
        "id": "gShBQUhnL-oT"
      },
      "source": [
        "The mean value of the cross validation of 10 groups would give a better review on the model's actual performance, than just the normal score of the model."
      ]
    },
    {
      "cell_type": "markdown",
      "metadata": {
        "id": "lSAYUR5wNpRs"
      },
      "source": [
        "## Hypertuning"
      ]
    },
    {
      "cell_type": "code",
      "execution_count": null,
      "metadata": {
        "id": "G2a96Q9-plBM"
      },
      "outputs": [],
      "source": [
        "from sklearn.model_selection import GridSearchCV\n",
        "k_range = list(range(1, 31))\n",
        "param_grid = dict(n_neighbors=k_range)\n",
        "grid = GridSearchCV(knn, param_grid, cv=10)\n",
        "grid.fit(X_train, y_train)"
      ]
    },
    {
      "cell_type": "markdown",
      "metadata": {
        "id": "-I0Y0iHyUZad"
      },
      "source": [
        "With hypertuning parameters I wanted to find the optimal parameters for the model to improve the accuracy. To find the optimal value for ‘n_neighbors’ I use GridSearchCV.\n",
        "\n",
        "In K_range are the numbers from 1 to 30 stored, which are evaluated as potential perfect numbers for \"n_neighbors\".\n",
        "\n",
        "\"grid search\" will take a new k-NN classifier, the param_grid and a cross-validation value of 10 in order to find the optimal value for ‘n_neighbors’."
      ]
    },
    {
      "cell_type": "code",
      "execution_count": null,
      "metadata": {
        "id": "ghB8YFs8BNNQ"
      },
      "outputs": [],
      "source": [
        "grid.best_params_"
      ]
    },
    {
      "cell_type": "code",
      "execution_count": null,
      "metadata": {
        "id": "z5g3ylaDBZe-"
      },
      "outputs": [],
      "source": [
        "grid.best_score_"
      ]
    },
    {
      "cell_type": "markdown",
      "metadata": {
        "id": "R6u1VMI1MZx-"
      },
      "source": [
        "The best value and the best score can be found out like this"
      ]
    },
    {
      "cell_type": "markdown",
      "metadata": {
        "id": "2Rug7C9UNwTr"
      },
      "source": [
        "## Test Data"
      ]
    },
    {
      "cell_type": "code",
      "execution_count": null,
      "metadata": {
        "id": "2cpePdl95PCH"
      },
      "outputs": [],
      "source": [
        "X_test.replace([np.inf, -np.inf], np.nan, inplace=True)\n",
        "X_test = X_test.fillna(0)\n",
        "X_train.replace([np.inf, -np.inf], np.nan, inplace=True)\n",
        "X_train = X_train.fillna(0)\n"
      ]
    },
    {
      "cell_type": "markdown",
      "metadata": {
        "id": "L3S6lKwzMgir"
      },
      "source": [
        "Now the same with the Test values"
      ]
    },
    {
      "cell_type": "code",
      "execution_count": null,
      "metadata": {
        "id": "Y4_QMdbI5Set"
      },
      "outputs": [],
      "source": [
        "knn_test = KNeighborsRegressor(n_neighbors=3)\n",
        "knn_test.fit(X_test, y_test)\n",
        "knn_test.score(X_test, y_test)"
      ]
    },
    {
      "cell_type": "code",
      "execution_count": null,
      "metadata": {
        "id": "a5UedXRAExiQ"
      },
      "outputs": [],
      "source": [
        "from sklearn.model_selection import cross_val_score\n",
        "cv_scores_test = cross_val_score(knn_test, X_test, y_test, cv=10)\n",
        "cv_scores_test"
      ]
    },
    {
      "cell_type": "code",
      "execution_count": null,
      "metadata": {
        "id": "VBWFseWhExvf"
      },
      "outputs": [],
      "source": [
        "np.mean(cv_scores_test)"
      ]
    },
    {
      "cell_type": "code",
      "execution_count": null,
      "metadata": {
        "colab": {
          "background_save": true
        },
        "id": "QKO5pv-LEx23",
        "outputId": "ca5c92a5-ffbb-46f6-9bdf-8e883d8ebf56"
      },
      "outputs": [
        {
          "data": {
            "text/plain": [
              "GridSearchCV(cv=10, estimator=KNeighborsRegressor(n_neighbors=3),\n",
              "             param_grid={'n_neighbors': [1, 2, 3, 4, 5, 6, 7, 8, 9, 10, 11, 12,\n",
              "                                         13, 14, 15, 16, 17, 18, 19, 20, 21, 22,\n",
              "                                         23, 24, 25, 26, 27, 28, 29, 30]})"
            ]
          },
          "execution_count": null,
          "metadata": {},
          "output_type": "execute_result"
        }
      ],
      "source": [
        "from sklearn.model_selection import GridSearchCV\n",
        "k_range = list(range(1, 31))\n",
        "param_grid = dict(n_neighbors=k_range)\n",
        "grid_test = GridSearchCV(knn, param_grid, cv=10)\n",
        "grid_test.fit(X_test, y_test)"
      ]
    },
    {
      "cell_type": "code",
      "execution_count": null,
      "metadata": {
        "colab": {
          "background_save": true
        },
        "id": "I-xiKbfzFHHZ",
        "outputId": "05f431be-bd3e-4031-8069-c4af0dc7e318"
      },
      "outputs": [
        {
          "data": {
            "text/plain": [
              "{'n_neighbors': 2}"
            ]
          },
          "execution_count": null,
          "metadata": {},
          "output_type": "execute_result"
        }
      ],
      "source": [
        "grid_test.best_params_"
      ]
    },
    {
      "cell_type": "code",
      "execution_count": null,
      "metadata": {
        "colab": {
          "background_save": true
        },
        "id": "L-9DAt0TFprK",
        "outputId": "3c9bf9c2-c6d2-4c36-fc99-c2ace66f95f4"
      },
      "outputs": [
        {
          "data": {
            "text/plain": [
              "0.966944317012876"
            ]
          },
          "execution_count": null,
          "metadata": {},
          "output_type": "execute_result"
        }
      ],
      "source": [
        "grid_test.best_score_"
      ]
    },
    {
      "cell_type": "markdown",
      "metadata": {
        "id": "YW0-ybUqOG_F"
      },
      "source": [
        "## Plot the data"
      ]
    },
    {
      "cell_type": "code",
      "execution_count": null,
      "metadata": {
        "colab": {
          "background_save": true
        },
        "id": "hGnOv1KhH-B4"
      },
      "outputs": [],
      "source": [
        "def plot_complexity_curve(k_list, knn_model, x_train, x_test, y_train, y_test):\n",
        "    \n",
        "    train_scores = []\n",
        "    test_scores = []\n",
        "    \n",
        "    # For each k\n",
        "    for k in k_list:\n",
        "        # Initialize, fit, predict\n",
        "        knn = knn_model(k)\n",
        "        \n",
        "        knn.fit(X_train, y_train)\n",
        "        \n",
        "        train_scores.append(knn.score(X_train, y_train))\n",
        "        test_scores.append(knn.score(X_test, y_test))\n",
        "\n",
        "    # Plot\n",
        "    fig, ax = plt.subplots()\n",
        "    \n",
        "    ax.plot(k_list, train_scores, label='Training Accuracy', color='red')\n",
        "    ax.plot(k_list, test_scores, label='Testing Accuracy', color='black')\n",
        "\n",
        "    ax.set(title='k-NN with Different Values for $k$',\n",
        "           xlabel='Number of Neighbors',\n",
        "           ylabel='Accuracy')\n",
        "    \n",
        "    ax.legend()"
      ]
    },
    {
      "cell_type": "code",
      "execution_count": null,
      "metadata": {
        "colab": {
          "background_save": true
        },
        "id": "J2OwFPztIAkF",
        "outputId": "9398c9ee-4ac8-45f6-f32c-de7439b5b926"
      },
      "outputs": [
        {
          "data": {
            "image/png": "[encoded data removed]",
            "text/plain": [
              "<Figure size 432x288 with 1 Axes>"
            ]
          },
          "metadata": {},
          "output_type": "display_data"
        }
      ],
      "source": [
        "neighbors = np.arange(1, 50)\n",
        "plot_complexity_curve(neighbors, KNeighborsRegressor, X_train, X_test, y_train, y_test)"
      ]
    },
    {
      "cell_type": "markdown",
      "metadata": {
        "id": "o_d70E7MbrCa"
      },
      "source": [
        "## Model conclusion"
      ]
    },
    {
      "cell_type": "markdown",
      "metadata": {
        "id": "Ip_2a5ThZLE3"
      },
      "source": [
        "Since choosing more neighbors consumes more time to compute, we chose a certain amount of neighbors to plot in order to get best neighbor in most effective time consuming way.\n",
        "\n",
        "Therefore i chose to plot max 50 neighbors and saw that the best neighbor values are around 10 to 20. "
      ]
    },
    {
      "cell_type": "markdown",
      "metadata": {
        "id": "GucpTEo7SQa_"
      },
      "source": [
        "In the Regression it shows that the best values are between 2 and 4?"
      ]
    },
    {
      "cell_type": "code",
      "execution_count": null,
      "metadata": {
        "colab": {
          "background_save": true
        },
        "id": "yzUwkQKfnDZ7",
        "outputId": "d59f0ee1-fe68-4f0e-ac6a-a7564b9f6b8b"
      },
      "outputs": [
        {
          "data": {
            "image/png": "[encoded data removed]",
            "text/plain": [
              "<Figure size 432x288 with 1 Axes>"
            ]
          },
          "metadata": {},
          "output_type": "display_data"
        }
      ],
      "source": [
        "neighbors = np.arange(1, 20)\n",
        "plot_complexity_curve(neighbors, KNeighborsRegressor, X_train, X_test, y_train, y_test)"
      ]
    },
    {
      "cell_type": "code",
      "execution_count": null,
      "metadata": {
        "id": "HOkxQ1X8CHtY"
      },
      "outputs": [],
      "source": [
        "knn_test = KNeighborsRegressor(n_neighbors=10)\n",
        "knn_test.fit(X_test, y_test)\n",
        "knn_test.score(X_test, y_test)"
      ]
    },
    {
      "cell_type": "markdown",
      "metadata": {
        "id": "MZffu2IfoK3l"
      },
      "source": [
        "The next step was to plot the values from 1 to 20 because the most suitable neighbor values are shown here. \n",
        "\n",
        "The Goal is to minimize the range of the best value."
      ]
    },
    {
      "cell_type": "markdown",
      "metadata": {
        "id": "HekBXb5orY1C"
      },
      "source": [
        "The neighbor values from 10 to 15 are looking like the best ones for this model. "
      ]
    },
    {
      "cell_type": "markdown",
      "metadata": {
        "id": "HKQMnfOZgJEt"
      },
      "source": [
        "# Model: Extra trees\n",
        "Samuel Trescoli\n",
        "\n"
      ]
    },
    {
      "cell_type": "markdown",
      "metadata": {
        "id": "1yLZJ7QROcja"
      },
      "source": [
        "## Documentation\n",
        "\n",
        "https://quantdare.com/what-is-the-difference-between-extra-trees-and-random-forest/#:~:text=Random%20forest%20uses%20bootstrap%20replicas,uses%20the%20entire%20input%20sample.\n",
        "\n",
        "\n",
        "\n",
        "https://scikit-learn.org/stable/modules/generated/sklearn.ensemble.ExtraTreesRegressor.html"
      ]
    },
    {
      "cell_type": "markdown",
      "metadata": {
        "id": "5cYR4Eo5-tQe"
      },
      "source": [
        "The extra trees algorithm works in a similar way as Random forest.\n",
        "Before using this algorithim I was exploring other solutions such as the elastic net, but as we can see in the previous model, PolyniomialRegression, linear models will not work properly if we use all the data.\n",
        "However, it would work properly if we use the Wind speed as unique input.\n"
      ]
    },
    {
      "cell_type": "markdown",
      "metadata": {
        "id": "KQEG2ubcBQ8i"
      },
      "source": [
        "## Differences between Random forest and Extra Trees\n",
        "\n",
        "The main two differences are the following:\n",
        "\n",
        "\n",
        "-Random forest uses bootstrap replicas, that is to say, it subsamples the input data with replacement, whereas Extra Trees use the whole original sample. In the Extra Trees sklearn implementation there is an optional parameter that allows users to bootstrap replicas, but by default, it uses the entire input sample. This may increase variance because bootstrapping makes it more diversified.\n",
        "\n",
        "\n",
        "-Another difference is the selection of cut points in order to split nodes. Random Forest chooses the optimum split while Extra Trees chooses it randomly. However, once the split points are selected, the two algorithms choose the best one between all the subset of features. Therefore, Extra Trees adds randomization but still has optimization.\n",
        "\n",
        "\n",
        "\n",
        "These differences motivate the reduction of both bias and variance. On one hand, using the whole original sample instead of a bootstrap replica will reduce bias. On the other hand, choosing randomly the split point of each node will reduce variance.\n",
        "\n",
        "\n",
        "\n",
        "In terms of computational cost, and therefore execution time, the Extra Trees algorithm is faster. This algorithm saves time because the whole procedure is the same, but it randomly chooses the split point and does not calculate the optimal one."
      ]
    },
    {
      "cell_type": "markdown",
      "metadata": {
        "id": "5WknEUtnlTrp"
      },
      "source": [
        "## Implementing the model"
      ]
    },
    {
      "cell_type": "code",
      "execution_count": null,
      "metadata": {
        "id": "J7M0dGkY53td"
      },
      "outputs": [],
      "source": [
        "from sklearn.model_selection import train_test_split\n",
        "from sklearn.ensemble import ExtraTreesRegressor\n"
      ]
    },
    {
      "cell_type": "markdown",
      "metadata": {
        "id": "UTNU7VC987NI"
      },
      "source": [
        "The coefficient of determination  is defined as, where  is the residual sum of squares ((y_true - y_pred)** 2).sum() and  is the total sum of squares ((y_true - y_true.mean()) ** 2).sum(). The best possible score is 1.0 "
      ]
    },
    {
      "cell_type": "code",
      "execution_count": null,
      "metadata": {
        "colab": {
          "base_uri": "https://localhost:8080/"
        },
        "id": "Fj3uFuLy_egZ",
        "outputId": "2ad37b00-68e4-4b5c-faee-bf00d0f8f8ed"
      },
      "outputs": [
        {
          "data": {
            "text/plain": [
              "(34891, 28)"
            ]
          },
          "execution_count": 113,
          "metadata": {},
          "output_type": "execute_result"
        }
      ],
      "source": [
        "\n",
        "X_k=turbine_data.iloc[:,1:29]\n",
        "                \n",
        "y_k=turbine_data['Prod_LatestAvg_ActPwrGen1']\n",
        "X_k.shape"
      ]
    },
    {
      "cell_type": "markdown",
      "metadata": {
        "id": "DVIgeyi3OvOB"
      },
      "source": []
    },
    {
      "cell_type": "markdown",
      "metadata": {
        "id": "UGV45AEV_kPr"
      },
      "source": [
        "As we can see I removed the columns that coantain time spans, I consider them not very importatant."
      ]
    },
    {
      "cell_type": "code",
      "execution_count": null,
      "metadata": {
        "colab": {
          "base_uri": "https://localhost:8080/"
        },
        "id": "Sp9PA9dR6a_d",
        "outputId": "8b45bf0a-edae-49d1-9f31-c0ef9dfc1182"
      },
      "outputs": [
        {
          "data": {
            "text/plain": [
              "0.9999894062266607"
            ]
          },
          "execution_count": 114,
          "metadata": {},
          "output_type": "execute_result"
        }
      ],
      "source": [
        "Xt_train, Xt_test, yt_train, yt_test = train_test_split(X_k, y_k, test_size=0.2, random_state=1999)\n",
        "reg = ExtraTreesRegressor(n_estimators=100, random_state=0).fit(Xt_train, yt_train)\n",
        "reg.score(Xt_test, yt_test)"
      ]
    },
    {
      "cell_type": "code",
      "execution_count": null,
      "metadata": {
        "colab": {
          "base_uri": "https://localhost:8080/"
        },
        "id": "BprSUmRSGFPV",
        "outputId": "16cc3924-a855-459d-bf85-543ddbe751be"
      },
      "outputs": [
        {
          "data": {
            "text/plain": [
              "0.999985034191659"
            ]
          },
          "execution_count": 115,
          "metadata": {},
          "output_type": "execute_result"
        }
      ],
      "source": [
        "reg1 = ExtraTreesRegressor(n_estimators=10, random_state=0).fit(Xt_train, yt_train)\n",
        "reg1.score(Xt_test, yt_test)"
      ]
    },
    {
      "cell_type": "code",
      "execution_count": null,
      "metadata": {
        "colab": {
          "base_uri": "https://localhost:8080/"
        },
        "id": "uDKmxZanJWKT",
        "outputId": "d9af7258-f9e9-4bcd-c1a2-e9882a274fad"
      },
      "outputs": [
        {
          "name": "stdout",
          "output_type": "stream",
          "text": [
            "1\n",
            "0.9997305879517936\n",
            "2\n",
            "0.9999216276535612\n",
            "3\n",
            "0.9999650942064257\n",
            "4\n",
            "0.9999763895143599\n",
            "5\n",
            "0.9999830814841189\n",
            "6\n",
            "0.9999865002733476\n",
            "7\n",
            "0.9999840192495654\n",
            "8\n",
            "0.9999857441826667\n",
            "9\n",
            "0.9999832145664388\n"
          ]
        }
      ],
      "source": [
        "for i in range(1,10):\n",
        "  reg_test=ExtraTreesRegressor(n_estimators=i, random_state=0).fit(Xt_train, yt_train)\n",
        "  print(i)\n",
        "  print(reg_test.score(Xt_test, yt_test))\n",
        "  "
      ]
    },
    {
      "cell_type": "code",
      "execution_count": null,
      "metadata": {
        "colab": {
          "base_uri": "https://localhost:8080/"
        },
        "id": "QLcfY-ayiHhU",
        "outputId": "c79b2c2d-1e9d-433a-9201-277b8a671c91"
      },
      "outputs": [
        {
          "data": {
            "text/plain": [
              "1.0"
            ]
          },
          "execution_count": 116,
          "metadata": {},
          "output_type": "execute_result"
        }
      ],
      "source": [
        "reg.score(Xt_train, yt_train)"
      ]
    },
    {
      "cell_type": "markdown",
      "metadata": {
        "id": "I2cSJ1RaOtOO"
      },
      "source": [
        "## Evaluation"
      ]
    },
    {
      "cell_type": "markdown",
      "metadata": {
        "id": "1iULaDwW8-66"
      },
      "source": [
        "We can see that the RSM is almost 1, so the model fits the data properly"
      ]
    },
    {
      "cell_type": "code",
      "execution_count": null,
      "metadata": {
        "id": "3sXakFqs-H5K"
      },
      "outputs": [],
      "source": [
        "predictiont = reg.predict(Xt_test)\n",
        "yt_pred=pd.DataFrame(predictiont, columns=['Prod_LatestAvg_ActPwrGen1'])"
      ]
    },
    {
      "cell_type": "code",
      "execution_count": null,
      "metadata": {
        "id": "0gitO3126aBA"
      },
      "outputs": [],
      "source": [
        "yt_test = yt_test.reset_index()\n",
        "yt_test.drop(['index'], axis=1, inplace=True)"
      ]
    },
    {
      "cell_type": "code",
      "execution_count": null,
      "metadata": {
        "colab": {
          "base_uri": "https://localhost:8080/",
          "height": 627
        },
        "id": "344mIzNE6okC",
        "outputId": "191ae4e1-a5da-4e5f-af07-03d12f3ecdf6"
      },
      "outputs": [
        {
          "data": {
            "image/png": "[encoded data removed]",
            "text/plain": [
              "<Figure size 720x720 with 1 Axes>"
            ]
          },
          "metadata": {},
          "output_type": "display_data"
        }
      ],
      "source": [
        "plt.figure(figsize=(10, 10))\n",
        "plt.scatter(yt_test,yt_pred)\n",
        "plt.xlabel(\"Actual Average Power Production\")\n",
        "plt.ylabel(\"Predicted Average Power Production\")\n",
        "plt.xlim([0,350000])\n",
        "plt.ylim([0,350000])\n",
        "plt.title(f\"Prediction Error for {reg.__class__.__name__}\")\n",
        "plt.show()"
      ]
    },
    {
      "cell_type": "markdown",
      "metadata": {
        "id": "3RDHY1aRCewH"
      },
      "source": [
        "Here is obvious that the model is having a really good performance, far better than random forest with the first model."
      ]
    },
    {
      "cell_type": "markdown",
      "metadata": {
        "id": "rAsiAzbZMvQE"
      },
      "source": [
        "As the model is performing good I decide to not do futher analysis or changing the hyperparameters."
      ]
    },
    {
      "cell_type": "code",
      "execution_count": null,
      "metadata": {
        "colab": {
          "base_uri": "https://localhost:8080/"
        },
        "id": "k0s6KQV6iqJI",
        "outputId": "d7d26c59-dd8f-42e4-ba5b-18c7a17c1c04"
      },
      "outputs": [
        {
          "data": {
            "text/plain": [
              "28"
            ]
          },
          "execution_count": 120,
          "metadata": {},
          "output_type": "execute_result"
        }
      ],
      "source": [
        "reg.n_features_in_"
      ]
    },
    {
      "cell_type": "code",
      "execution_count": null,
      "metadata": {
        "colab": {
          "base_uri": "https://localhost:8080/"
        },
        "id": "g4e-GyjqjEO9",
        "outputId": "08b9a80a-4738-4ecd-a51d-107aa66bd724"
      },
      "outputs": [
        {
          "data": {
            "text/plain": [
              "array([9.63874232e-05, 6.44913650e-03, 1.36900362e-06, 8.64596127e-02,\n",
              "       1.78518215e-01, 6.90805226e-06, 5.86730180e-07, 9.02896778e-07,\n",
              "       5.16633174e-01, 1.23718763e-02, 1.62859724e-03, 9.87268240e-05,\n",
              "       1.42331361e-02, 5.10071184e-08, 1.55406814e-06, 7.34105065e-07,\n",
              "       1.76379284e-04, 3.79175231e-04, 1.16488997e-01, 1.14538326e-03,\n",
              "       6.74120034e-03, 1.57551667e-05, 2.83432795e-03, 2.27963098e-02,\n",
              "       2.55177891e-03, 2.89030015e-02, 1.46554242e-03, 1.18175759e-06])"
            ]
          },
          "execution_count": 133,
          "metadata": {},
          "output_type": "execute_result"
        }
      ],
      "source": [
        "reg.feature_importances_\n"
      ]
    },
    {
      "cell_type": "code",
      "execution_count": null,
      "metadata": {
        "colab": {
          "base_uri": "https://localhost:8080/"
        },
        "id": "ciMKjg8RNbLg",
        "outputId": "76dc3903-ddab-4f80-daab-46876d27f590"
      },
      "outputs": [
        {
          "data": {
            "text/plain": [
              "array(['Gen_RPM_Std', 'Hyd_Oil_Temp_Avg', 'Gear_Oil_Temp_Avg',\n",
              "       'Rtr_RPM_Avg', 'Amb_WindSpeed_Avg', 'Amb_WindSpeed_Std',\n",
              "       'Amb_WindDir_Relative_Avg', 'Amb_WindDir_Abs_Avg',\n",
              "       'Prod_LatestAvg_ActPwrGen1', 'Prod_LatestAvg_TotReactPwr',\n",
              "       'Blds_PitchAngle_Avg', 'Blds_PitchAngle_Std',\n",
              "       'Grd_Prod_CosPhi_Avg', 'Grd_Prod_Freq_Avg',\n",
              "       'Grd_Prod_VoltPhse1_Avg', 'Grd_Prod_VoltPhse2_Avg',\n",
              "       'Grd_Prod_VoltPhse3_Avg', 'Rtr_RPM_Std', 'Amb_WindSpeed_Est_Avg',\n",
              "       'Grd_Prod_Pwr_Std', 'Grd_Prod_ReactPwr_Avg',\n",
              "       'Grd_Prod_ReactPwr_Std', 'Grd_Prod_PsblePwr_Std',\n",
              "       'Grd_Prod_PsbleInd_Avg', 'Grd_Prod_PsbleInd_Std',\n",
              "       'Grd_Prod_PsbleCap_Avg', 'Grd_Prod_PsbleCap_Std',\n",
              "       'Nac_Direction_Avg'], dtype=object)"
            ]
          },
          "execution_count": 134,
          "metadata": {},
          "output_type": "execute_result"
        }
      ],
      "source": [
        "reg.feature_names_in_"
      ]
    },
    {
      "cell_type": "markdown",
      "metadata": {
        "id": "jikTvILjq5QJ"
      },
      "source": [
        "There is also the possibility to reduce the number of inputs due to the accuaracy of the model, but as we see the algorithim is very fast so there is no real need to remove parameters.\n",
        "\n",
        "We only should remove the ones that are between e-09 and e-06, but there are only 8 parameters."
      ]
    },
    {
      "cell_type": "markdown",
      "metadata": {
        "id": "68aj6V2UR37R"
      },
      "source": [
        "# Overall Conclusion\n"
      ]
    },
    {
      "cell_type": "markdown",
      "metadata": {
        "id": "rzC6OdQvBJ-F"
      },
      "source": [
        "Eventhough the extra trees has the highest performance in R^2 terms. We chose that the Random Forrest achieves the business objective, which is what features are the most important to predict the power production, the best. \n",
        "\n",
        "What was surprising is that only the windspeed has a significant influence for the model. WE think that this might be because of the large dataset. \n",
        "\n",
        "Also surprising was that all of our model had a very high performance already at the beginning, which left us not much room for further improvements of the model.\n",
        "\n",
        "Even tough the Nearest Neighbor showed a really good performance, we wouldnt recomend this model due to this datset beeing very big and the knn-model works relatively slow therefore. \n"
      ]
    },
    {
      "cell_type": "code",
      "execution_count": null,
      "metadata": {
        "id": "7G9JaKiVR7o_"
      },
      "outputs": [],
      "source": []
    }
  ],
  "metadata": {
    "accelerator": "TPU",
    "colab": {
      "provenance": [],
      "toc_visible": true,
      "include_colab_link": true
    },
    "kernelspec": {
      "display_name": "Python 3",
      "name": "python3"
    },
    "language_info": {
      "name": "python"
    }
  },
  "nbformat": 4,
  "nbformat_minor": 0
}